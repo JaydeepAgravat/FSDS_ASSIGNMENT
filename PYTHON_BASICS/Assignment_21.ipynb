{
  "nbformat": 4,
  "nbformat_minor": 0,
  "metadata": {
    "colab": {
      "provenance": [],
      "toc_visible": true
    },
    "kernelspec": {
      "name": "python3",
      "display_name": "Python 3"
    },
    "language_info": {
      "name": "python"
    }
  },
  "cells": [
    {
      "cell_type": "markdown",
      "source": [
        "# Assignment 21"
      ],
      "metadata": {
        "id": "F0-OvUdt01Mv"
      }
    },
    {
      "cell_type": "markdown",
      "source": [
        "## 1\\. Add the current date to the text file today.txt as a string."
      ],
      "metadata": {
        "id": "J0Zf9Fsu1ABN"
      }
    },
    {
      "cell_type": "code",
      "source": [
        "import datetime\n",
        "\n",
        "file = open('today.txt','w')\n",
        "\n",
        "current_date = datetime.datetime.now().strftime('%d-%m-%Y')\n",
        "\n",
        "file.write(current_date)\n",
        "\n",
        "file.close()\n",
        "\n",
        "file = open('today.txt','r')\n",
        "\n",
        "print(file.read())\n",
        "\n",
        "file.close()"
      ],
      "metadata": {
        "colab": {
          "base_uri": "https://localhost:8080/"
        },
        "id": "5-jAlLJC1hP2",
        "outputId": "8f534b44-4752-4b24-d9b1-8237f497386f"
      },
      "execution_count": null,
      "outputs": [
        {
          "output_type": "stream",
          "name": "stdout",
          "text": [
            "22-02-2023\n"
          ]
        }
      ]
    },
    {
      "cell_type": "markdown",
      "source": [
        "## 2\\. Read the text file today.txt into the string today_string."
      ],
      "metadata": {
        "id": "XAswOFiT1DZu"
      }
    },
    {
      "cell_type": "code",
      "source": [
        "file = open('today.txt','r')\n",
        "\n",
        "today_string = file.read()\n",
        "\n",
        "print(today_string)\n",
        "\n",
        "print(type(today_string))\n",
        "\n",
        "file.close()"
      ],
      "metadata": {
        "colab": {
          "base_uri": "https://localhost:8080/"
        },
        "id": "zuVTsxEc2ViC",
        "outputId": "dc64ffc7-337b-4444-c639-a431f2493a20"
      },
      "execution_count": null,
      "outputs": [
        {
          "output_type": "stream",
          "name": "stdout",
          "text": [
            "22-02-2023\n",
            "<class 'str'>\n"
          ]
        }
      ]
    },
    {
      "cell_type": "markdown",
      "source": [
        "## 3\\. Parse the date from today_string."
      ],
      "metadata": {
        "id": "qtriTLZZ1HAn"
      }
    },
    {
      "cell_type": "code",
      "source": [
        "parsed_data = datetime.datetime.strptime(today_string, '%d-%m-%Y').date()\n",
        "print(parsed_data)"
      ],
      "metadata": {
        "colab": {
          "base_uri": "https://localhost:8080/"
        },
        "id": "AoFoGOvI2Zmc",
        "outputId": "8b600f43-1a9c-4eda-f1c3-dcf184284d86"
      },
      "execution_count": null,
      "outputs": [
        {
          "output_type": "stream",
          "name": "stdout",
          "text": [
            "2023-02-22\n"
          ]
        }
      ]
    },
    {
      "cell_type": "markdown",
      "source": [
        "## 4\\. List the files in your current directory."
      ],
      "metadata": {
        "id": "dMGHuCJo1Ji-"
      }
    },
    {
      "cell_type": "code",
      "source": [
        "import os\n",
        "\n",
        "os.listdir()"
      ],
      "metadata": {
        "colab": {
          "base_uri": "https://localhost:8080/"
        },
        "id": "VNZ8tTAQ29Wg",
        "outputId": "a84dcb8e-dfc6-4477-d979-c7684f5ce8d4"
      },
      "execution_count": null,
      "outputs": [
        {
          "output_type": "execute_result",
          "data": {
            "text/plain": [
              "['.config', 'today.txt', 'drive', 'sample_data']"
            ]
          },
          "metadata": {},
          "execution_count": 4
        }
      ]
    },
    {
      "cell_type": "markdown",
      "source": [
        "## 5\\. Create a list of all of the files in your parent directory (minimum five files should be available)."
      ],
      "metadata": {
        "id": "Ic3nnMv41NWj"
      }
    },
    {
      "cell_type": "code",
      "source": [
        "import os\n",
        " \n",
        "path = os.getcwd()\n",
        "pathx = os.path.abspath(os.path.join(path, os.pardir))\n",
        "list_of_files = []\n",
        "\n",
        "for folders, subfolders, files in os.walk(pathx):\n",
        "    for file in files:\n",
        "        list_of_files.append(file)\n",
        "        break\n",
        "\n",
        "len(list_of_files)"
      ],
      "metadata": {
        "colab": {
          "base_uri": "https://localhost:8080/"
        },
        "id": "m5ZwvvcG4vRd",
        "outputId": "4680a90b-88d9-43ef-ed0f-1de4b2aa8438"
      },
      "execution_count": null,
      "outputs": [
        {
          "output_type": "execute_result",
          "data": {
            "text/plain": [
              "42309"
            ]
          },
          "metadata": {},
          "execution_count": 5
        }
      ]
    },
    {
      "cell_type": "markdown",
      "source": [
        "## 6\\. Use multiprocessing to create three separate processes. Make each one wait a random number of seconds between one and five, print the current time, and then exit."
      ],
      "metadata": {
        "id": "GSUnRG0b1Qkq"
      }
    },
    {
      "cell_type": "code",
      "execution_count": null,
      "metadata": {
        "id": "pMxpe5-C0yFg",
        "colab": {
          "base_uri": "https://localhost:8080/"
        },
        "outputId": "9c778703-4c02-4f4e-ea6b-a7dee17f7b42"
      },
      "outputs": [
        {
          "output_type": "stream",
          "name": "stdout",
          "text": [
            "Proc_one_Starttime -> 2023-02-22 17:30:39.166013\n",
            "Proc_two_Starttime -> 2023-02-22 17:30:39.180665\n",
            "Proc_three_Starttime -> 2023-02-22 17:30:39.192607\n",
            "Proc_one_Endtime -> 2023-02-22 17:30:42.193432\n",
            "Proc_three_Endtime -> 2023-02-22 17:30:42.206312\n",
            "Proc_two_Endtime -> 2023-02-22 17:30:43.198575\n"
          ]
        }
      ],
      "source": [
        "import multiprocessing\n",
        "import time \n",
        "import random\n",
        "import datetime\n",
        "\n",
        "def procOne():\n",
        "    print(f'Proc_one_Starttime -> {datetime.datetime.now()}')\n",
        "    time.sleep(random.randint(1,5))\n",
        "    print(f'Proc_one_Endtime -> {datetime.datetime.now()}')\n",
        "    \n",
        "def procTwo():\n",
        "    print(f'Proc_two_Starttime -> {datetime.datetime.now()}')\n",
        "    time.sleep(random.randint(1,5))\n",
        "    print(f'Proc_two_Endtime -> {datetime.datetime.now()}')\n",
        "\n",
        "def procThree():\n",
        "    print(f'Proc_three_Starttime -> {datetime.datetime.now()}')\n",
        "    time.sleep(random.randint(1,5))\n",
        "    print(f'Proc_three_Endtime -> {datetime.datetime.now()}')\n",
        "    \n",
        "if __name__ == \"__main__\":    \n",
        "    p1 = multiprocessing.Process(target=procOne)\n",
        "    p2 = multiprocessing.Process(target=procTwo)\n",
        "    p3 = multiprocessing.Process(target=procThree)\n",
        "\n",
        "    p1.start()\n",
        "    p2.start()\n",
        "    p3.start()\n",
        "\n",
        "    p1.join()\n",
        "    p2.join()\n",
        "    p3.join()"
      ]
    },
    {
      "cell_type": "markdown",
      "source": [
        "## 7\\. Create a date object of your day of birth."
      ],
      "metadata": {
        "id": "_nvwX5Xb1UM8"
      }
    },
    {
      "cell_type": "code",
      "source": [
        "my_dob = datetime.datetime.strptime('12/11/2002','%d/%m/%Y').date()\n",
        "dob = my_dob.strftime('%d/%B/%Y')\n",
        "print(dob)"
      ],
      "metadata": {
        "colab": {
          "base_uri": "https://localhost:8080/"
        },
        "id": "MX83kNXNGD4c",
        "outputId": "f91c4a01-facc-462f-bad4-326b3e0113ee"
      },
      "execution_count": null,
      "outputs": [
        {
          "output_type": "stream",
          "name": "stdout",
          "text": [
            "12/November/2002\n"
          ]
        }
      ]
    },
    {
      "cell_type": "markdown",
      "source": [
        "## 8\\. What day of the week was your day of birth?"
      ],
      "metadata": {
        "id": "LOURAYZF1X0a"
      }
    },
    {
      "cell_type": "code",
      "source": [
        "day = my_dob.strftime('%A')\n",
        "print(day)"
      ],
      "metadata": {
        "colab": {
          "base_uri": "https://localhost:8080/"
        },
        "id": "rbyXn8TxHEB2",
        "outputId": "88c2d0a7-8b39-46ef-f6aa-48fcc804a4cf"
      },
      "execution_count": null,
      "outputs": [
        {
          "output_type": "stream",
          "name": "stdout",
          "text": [
            "Tuesday\n"
          ]
        }
      ]
    },
    {
      "cell_type": "markdown",
      "source": [
        "## 9\\. When will you be (or when were you) 10,000 days old?"
      ],
      "metadata": {
        "id": "0NXxL_fK1baX"
      }
    },
    {
      "cell_type": "code",
      "source": [
        "start_date = datetime.datetime(year=2002, month=12, day=11)\n",
        "\n",
        "end_date = start_date + datetime.timedelta(days=10000)\n",
        "\n",
        "print(end_date.date())"
      ],
      "metadata": {
        "colab": {
          "base_uri": "https://localhost:8080/"
        },
        "id": "1DVCuuWjIHzN",
        "outputId": "38636855-c0fe-4f28-917f-ac5675eba9aa"
      },
      "execution_count": null,
      "outputs": [
        {
          "output_type": "stream",
          "name": "stdout",
          "text": [
            "2030-04-28\n"
          ]
        }
      ]
    }
  ]
}