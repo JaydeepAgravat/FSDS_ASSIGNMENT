{
  "nbformat": 4,
  "nbformat_minor": 0,
  "metadata": {
    "colab": {
      "provenance": []
    },
    "kernelspec": {
      "name": "python3",
      "display_name": "Python 3"
    },
    "language_info": {
      "name": "python"
    }
  },
  "cells": [
    {
      "cell_type": "markdown",
      "source": [
        "# Assignment 7"
      ],
      "metadata": {
        "id": "2AqYRJ_bGnpO"
      }
    },
    {
      "cell_type": "markdown",
      "source": [
        "## 1\\. What is the name of the feature responsible for generating Regex objects?"
      ],
      "metadata": {
        "id": "ied_uSWjHVt2"
      }
    },
    {
      "cell_type": "markdown",
      "source": [
        "**ANS:**\n",
        "- `re.compile()` method is useful for defining and creating regular expressions object initially and then using that object we can look for occurrences of the same pattern inside various target strings without rewriting it which saves time and improves performance."
      ],
      "metadata": {
        "id": "LUig3xatKcat"
      }
    },
    {
      "cell_type": "code",
      "source": [
        "import re\n",
        "\n",
        "x = re.compile(\"pattern\")\n",
        "\n",
        "print(type(x))\n",
        "\n",
        "print(x)"
      ],
      "metadata": {
        "colab": {
          "base_uri": "https://localhost:8080/"
        },
        "id": "uoGAqmizI_aM",
        "outputId": "9f4e54eb-ef2b-431a-a3b5-c68637380daf"
      },
      "execution_count": null,
      "outputs": [
        {
          "output_type": "stream",
          "name": "stdout",
          "text": [
            "<class 're.Pattern'>\n",
            "re.compile('pattern')\n"
          ]
        }
      ]
    },
    {
      "cell_type": "markdown",
      "source": [
        "## 2\\. Why do raw strings often appear in Regex objects?"
      ],
      "metadata": {
        "id": "Y7t8v74EHYut"
      }
    },
    {
      "cell_type": "markdown",
      "source": [
        "**ANS:**\n",
        "- Raw strings are used so that backslashes do not have to be escaped."
      ],
      "metadata": {
        "id": "CSyZtknVLLMF"
      }
    },
    {
      "cell_type": "markdown",
      "source": [
        "## 3\\. What is the return value of the search() method?"
      ],
      "metadata": {
        "id": "ONWADtHdHa_t"
      }
    },
    {
      "cell_type": "markdown",
      "source": [
        "**ANS:**\n",
        "- `re.search()` returns a `Match object` if there is a match anywhere in the string"
      ],
      "metadata": {
        "id": "LVJbdb78LlyV"
      }
    },
    {
      "cell_type": "code",
      "source": [
        "import re\n",
        "x = re.compile(\"pattern\")\n",
        "y = re.search(x,'I have a pattern')\n",
        "\n",
        "if y:\n",
        "  print('found!')\n",
        "else:\n",
        "  print('not found!')"
      ],
      "metadata": {
        "colab": {
          "base_uri": "https://localhost:8080/"
        },
        "id": "fPuTjlR2LvuJ",
        "outputId": "8f370cf5-22b8-4f01-9246-417b1912130e"
      },
      "execution_count": null,
      "outputs": [
        {
          "output_type": "stream",
          "name": "stdout",
          "text": [
            "found!\n"
          ]
        }
      ]
    },
    {
      "cell_type": "markdown",
      "source": [
        "## 4\\. From a Match item, how do you get the actual strings that match the pattern?"
      ],
      "metadata": {
        "id": "Sd6rU0eeHd59"
      }
    },
    {
      "cell_type": "markdown",
      "source": [
        "**ANS:**\n",
        "- By using `group()` method."
      ],
      "metadata": {
        "id": "XI5OjD-EMfre"
      }
    },
    {
      "cell_type": "code",
      "source": [
        "import re\n",
        "x = re.compile(\"pattern\")\n",
        "y = re.search(x,'I have a pattern')\n",
        "\n",
        "if y:\n",
        "  print('found!')\n",
        "  print(y.group())\n",
        "else:\n",
        "  print('not found!')"
      ],
      "metadata": {
        "colab": {
          "base_uri": "https://localhost:8080/"
        },
        "id": "_qbiq-dAMTgM",
        "outputId": "3fc92c36-acb7-4672-9874-f76961d94215"
      },
      "execution_count": null,
      "outputs": [
        {
          "output_type": "stream",
          "name": "stdout",
          "text": [
            "found!\n",
            "pattern\n"
          ]
        }
      ]
    },
    {
      "cell_type": "markdown",
      "source": [
        "## 5\\. In the regex which created from the r'(\\d\\d\\d)-(\\d\\d\\d-\\d\\d\\d\\d)', what does group zero cover? Group 2? Group 1?"
      ],
      "metadata": {
        "id": "wH-zuuYnHiVt"
      }
    },
    {
      "cell_type": "markdown",
      "source": [
        "**ANS:**\n",
        "- In the Regex `r'(\\d\\d\\d)-(\\d\\d\\d-\\d\\d\\d\\d)'` the zero group covers the entire pattern match where as the first group cover `(\\d\\d\\d)` and the second group cover `(\\d\\d\\d-\\d\\d\\d\\d)`"
      ],
      "metadata": {
        "id": "VW4ZYyLtNJBU"
      }
    },
    {
      "cell_type": "code",
      "source": [
        "# Example Program\n",
        "import re\n",
        "phoneNumRegex = re.compile(r'(\\d\\d\\d)-(\\d\\d\\d-\\d\\d\\d\\d)')\n",
        "mo = phoneNumRegex.search('My number is 415-555-4242.')\n",
        "print(mo.groups()) # Prints all groups in a tuple format\n",
        "print(mo.group()) # Always returns the fully matched string \n",
        "print(mo.group(1)) # Returns the first group\n",
        "print(mo.group(2)) # Returns the second group"
      ],
      "metadata": {
        "colab": {
          "base_uri": "https://localhost:8080/"
        },
        "id": "5fs9WgJmMzss",
        "outputId": "034d5fee-d7f4-4925-d646-f59a9e531f3e"
      },
      "execution_count": null,
      "outputs": [
        {
          "output_type": "stream",
          "name": "stdout",
          "text": [
            "('415', '555-4242')\n",
            "415-555-4242\n",
            "415\n",
            "555-4242\n"
          ]
        }
      ]
    },
    {
      "cell_type": "markdown",
      "source": [
        "## 6\\. In standard expression syntax, parentheses and intervals have distinct meanings. How can you tell a regex that you want it to fit real parentheses and periods?"
      ],
      "metadata": {
        "id": "iTgZ8LUZHmHl"
      }
    },
    {
      "cell_type": "markdown",
      "source": [
        "**ANS:** \n",
        "- The `\\.` `\\(` and `\\)` escape characters in the raw string passed to re.compile() will match actual parenthesis characters."
      ],
      "metadata": {
        "id": "_QYBG5giOA90"
      }
    },
    {
      "cell_type": "code",
      "source": [
        "# Example Program\n",
        "import re\n",
        "phoneNumRegex = re.compile(r'(\\(\\d\\d\\d\\)) (\\d\\d\\d-\\d\\d\\d\\d)')\n",
        "mo = phoneNumRegex.search('My phone number is (415) 555-4242.')\n",
        "print(mo.group())"
      ],
      "metadata": {
        "colab": {
          "base_uri": "https://localhost:8080/"
        },
        "id": "ZwplFv2oN0MI",
        "outputId": "1d66b34f-9dda-4110-c824-eb39f79ee7e8"
      },
      "execution_count": null,
      "outputs": [
        {
          "output_type": "stream",
          "name": "stdout",
          "text": [
            "(415) 555-4242\n"
          ]
        }
      ]
    },
    {
      "cell_type": "markdown",
      "source": [
        "## 7\\. The findall() method returns a string list or a list of string tuples. What causes it to return one of the two options?"
      ],
      "metadata": {
        "id": "yWdoziSQHp7F"
      }
    },
    {
      "cell_type": "markdown",
      "source": [
        "**ANS:**\n",
        "- If the regex has `no groups`, `a list of strings` is returned.\n",
        "- If the regex has `groups`, `a list of tuples of strings` is returned."
      ],
      "metadata": {
        "id": "yV193iK-P0ul"
      }
    },
    {
      "cell_type": "code",
      "source": [
        "# Example Program\n",
        "import re\n",
        "phoneNumRegex = re.compile(r'\\d{3}-\\d{3}-\\d{4}')\n",
        "mo = phoneNumRegex.findall('My number is 415-555-4242.')\n",
        "print(mo) # Prints all groups in a tuple format"
      ],
      "metadata": {
        "colab": {
          "base_uri": "https://localhost:8080/"
        },
        "id": "NyW7sYCPPmHi",
        "outputId": "6666ac21-4b5e-4e98-ff3a-f2a0e592701b"
      },
      "execution_count": null,
      "outputs": [
        {
          "output_type": "stream",
          "name": "stdout",
          "text": [
            "['415-555-4242']\n"
          ]
        }
      ]
    },
    {
      "cell_type": "code",
      "source": [
        "# Example Program\n",
        "import re\n",
        "phoneNumRegex = re.compile(r'(\\(\\d\\d\\d\\)) (\\d\\d\\d-\\d\\d\\d\\d)')\n",
        "mo = phoneNumRegex.findall('My phone number is (415) 555-4242.')\n",
        "print(mo)"
      ],
      "metadata": {
        "colab": {
          "base_uri": "https://localhost:8080/"
        },
        "id": "uDeowHwyPXd_",
        "outputId": "ea714253-48e6-45b1-a679-0aeed54f7950"
      },
      "execution_count": null,
      "outputs": [
        {
          "output_type": "stream",
          "name": "stdout",
          "text": [
            "[('(415)', '555-4242')]\n"
          ]
        }
      ]
    },
    {
      "cell_type": "markdown",
      "source": [
        "## 8\\. In standard expressions, what does the | character mean?"
      ],
      "metadata": {
        "id": "61LbirX-HtQE"
      }
    },
    {
      "cell_type": "markdown",
      "source": [
        "**ANS:**\n",
        "-  In Standard Expressions `|` means `OR` operator between two groups."
      ],
      "metadata": {
        "id": "4qCeFo2FQJ30"
      }
    },
    {
      "cell_type": "markdown",
      "source": [
        "## 9\\. In regular expressions, what does the character stand for?"
      ],
      "metadata": {
        "id": "O-2PqBJKHxKm"
      }
    },
    {
      "cell_type": "markdown",
      "source": [
        "**ANS:**\n",
        "- In regular Expressions, `?` characters represents zero or one match of the preceeding group."
      ],
      "metadata": {
        "id": "vunVlaiQQxkc"
      }
    },
    {
      "cell_type": "code",
      "source": [
        "# Example Program\n",
        "import re\n",
        "match_1 = re.search(\"AB(C)?D\",\"ABD\")\n",
        "print(match_1.group())\n",
        "match_2 = re.search(\"AB(C)?D\",\"ABCD\")\n",
        "print(match_2.group())"
      ],
      "metadata": {
        "colab": {
          "base_uri": "https://localhost:8080/"
        },
        "id": "gOV4gkRsQ5yH",
        "outputId": "af7a09b7-8dd0-49cb-c3de-6bcbbbdd84c6"
      },
      "execution_count": null,
      "outputs": [
        {
          "output_type": "stream",
          "name": "stdout",
          "text": [
            "ABD\n",
            "ABCD\n"
          ]
        }
      ]
    },
    {
      "cell_type": "markdown",
      "source": [
        "## 10\\. In regular expressions, what is the difference between the + and * characters?"
      ],
      "metadata": {
        "id": "AGQDO6liH0QM"
      }
    },
    {
      "cell_type": "markdown",
      "source": [
        "**ANS:**\n",
        "- In Regular Expressions:\n",
        "- `*` represents zero ore more occurances of the preceeding group, \n",
        "- `+` represents one or more occurances of the preceeding group."
      ],
      "metadata": {
        "id": "dKA3UreORjLT"
      }
    },
    {
      "cell_type": "code",
      "source": [
        "# Example Program\n",
        "import re\n",
        "match_1 = re.search(\"AB(C)*D\",\"ABD\")\n",
        "print(match_1.group())\n",
        "match_2 = re.search(\"AB(C)+D\",\"ABCD\")\n",
        "print(match_2.group())"
      ],
      "metadata": {
        "colab": {
          "base_uri": "https://localhost:8080/"
        },
        "id": "qqTfxJ8DRU_k",
        "outputId": "a0bd1c6b-ed1c-4b2c-8815-d95f3a2f8d77"
      },
      "execution_count": null,
      "outputs": [
        {
          "output_type": "stream",
          "name": "stdout",
          "text": [
            "ABD\n",
            "ABCD\n"
          ]
        }
      ]
    },
    {
      "cell_type": "markdown",
      "source": [
        "## 11\\. What is the difference between {4} and {4,5} in regular expression?"
      ],
      "metadata": {
        "id": "mxV1gt1fH3T8"
      }
    },
    {
      "cell_type": "markdown",
      "source": [
        "**ANS:** \n",
        "- {4} means that its preceeding group should repeat 4 times.\n",
        "- {4,5} means that its preceeding group should repeat mininum 4 times and maximum 5 times inclusively."
      ],
      "metadata": {
        "id": "gqJurQNiSl8k"
      }
    },
    {
      "cell_type": "code",
      "source": [
        "import re\n",
        "hiRegex = re.compile(r'(Hi){1,3}')\n",
        "mo1 = hiRegex.search('HiHiHi')\n",
        "mo2 = hiRegex.search('Hi')\n",
        "print(mo1.group())\n",
        "print(mo2.group())"
      ],
      "metadata": {
        "colab": {
          "base_uri": "https://localhost:8080/"
        },
        "id": "fJi5JZY2R6dd",
        "outputId": "da36661b-b782-4173-d243-9a547aa79b20"
      },
      "execution_count": null,
      "outputs": [
        {
          "output_type": "stream",
          "name": "stdout",
          "text": [
            "HiHiHi\n",
            "Hi\n"
          ]
        }
      ]
    },
    {
      "cell_type": "markdown",
      "source": [
        "## 12\\. What do you mean by the \\d, \\w, and \\s shorthand character classes signify in regular expressions?"
      ],
      "metadata": {
        "id": "h4K9vYmVH6qc"
      }
    },
    {
      "cell_type": "markdown",
      "source": [
        "**ANS:**\n",
        "- \\d, \\w and \\s are special sequences in regular expresssions in python:\n",
        "\n",
        "  - `\\w` – Matches a word character equivalent to [a-zA-Z0-9_]\n",
        "  - `\\d` – Matches digit character equivalent to [0-9]\n",
        "  - `\\s` – Matches whitespace character (space, tab, newline, etc.)"
      ],
      "metadata": {
        "id": "t4gGwhUfS45d"
      }
    },
    {
      "cell_type": "markdown",
      "source": [
        "## 13\\. What do means by \\D, \\W, and \\S shorthand character classes signify in regular expressions?"
      ],
      "metadata": {
        "id": "inPRmCO6H-aM"
      }
    },
    {
      "cell_type": "markdown",
      "source": [
        "**ANS:** \n",
        "- \\D, \\W and \\S are special sequences in regular expresssions in python:\n",
        "\n",
        "  - `\\W` – Matches any non-alphanumeric character equivalent to [^a-zA-Z0-9_]\n",
        "  - `\\D` – Matches any non-digit character, this is equivalent to the set class [^0-9]\n",
        "  - `\\S` – Matches any non-whitespace character"
      ],
      "metadata": {
        "id": "58VrpC5DTsBk"
      }
    },
    {
      "cell_type": "markdown",
      "source": [
        "## 14\\. What is the difference between `.*?` and `.*` ?"
      ],
      "metadata": {
        "id": "rNtc_ljFIB3M"
      }
    },
    {
      "cell_type": "markdown",
      "source": [
        "**ANS:** \n",
        "- `.*` is a Greedy mode, which returns the longest string that meets the condition.\n",
        "- Whereas `.*?` is a non greedy mode which returns the shortest string that meets the condition."
      ],
      "metadata": {
        "id": "C9hdtrkAUTEk"
      }
    },
    {
      "cell_type": "markdown",
      "source": [
        "## 15\\. What is the syntax for matching both numbers and lowercase letters with a character class?"
      ],
      "metadata": {
        "id": "U96PaSLwIFpt"
      }
    },
    {
      "cell_type": "markdown",
      "source": [
        "**ANS:**\n",
        "- The Synatax is Either `[a-z0-9]` or `[0-9a-z]`"
      ],
      "metadata": {
        "id": "Ms5TRc_vUpDc"
      }
    },
    {
      "cell_type": "markdown",
      "source": [
        "## 16\\. What is the procedure for making a normal expression in regax case insensitive?"
      ],
      "metadata": {
        "id": "9VxyuTHQIIf0"
      }
    },
    {
      "cell_type": "markdown",
      "source": [
        "**ANS:**\n",
        "- We can pass `re.IGNORECASE` as a flag to make a normal expression case insensitive"
      ],
      "metadata": {
        "id": "QXfKkRsRUyHU"
      }
    },
    {
      "cell_type": "markdown",
      "source": [
        "## 17\\. What does the . character normally match? What does it match if re.DOTALL is passed as 2nd argument in re.compile()?"
      ],
      "metadata": {
        "id": "6x0mFWu9ILdV"
      }
    },
    {
      "cell_type": "markdown",
      "source": [
        "**ANS:**\n",
        "- Dot `.` character matches everything in input except newline character `.`.\n",
        "- By passing `re.DOTALL` as a flag to re.compile(), you can make the dot character match all characters, including the newline character."
      ],
      "metadata": {
        "id": "L3fUWHh5VPnk"
      }
    },
    {
      "cell_type": "markdown",
      "source": [
        "## 18\\. If numReg = re.compile(r'\\d+'), what will numRegex.sub('X', '11 drummers, 10 pipers, five rings, 4 hen') return?"
      ],
      "metadata": {
        "id": "yVSGZN4zIOIF"
      }
    },
    {
      "cell_type": "markdown",
      "source": [
        "**ANS:**\n",
        "- `'X drummers, X pipers, five rings, X hen'`"
      ],
      "metadata": {
        "id": "Sh87ypafV0xM"
      }
    },
    {
      "cell_type": "code",
      "source": [
        "import re\n",
        "numReg = re.compile(r'\\d+')\n",
        "print(numReg.sub('X', '11 drummers, 10 pipers, five rings, 4 hen'))"
      ],
      "metadata": {
        "colab": {
          "base_uri": "https://localhost:8080/"
        },
        "id": "iOQ8v5MDWMW1",
        "outputId": "7218c671-cd02-4c5f-88f0-f2ac69e16691"
      },
      "execution_count": null,
      "outputs": [
        {
          "output_type": "stream",
          "name": "stdout",
          "text": [
            "X drummers, X pipers, five rings, X hen\n"
          ]
        }
      ]
    },
    {
      "cell_type": "markdown",
      "source": [
        "## 19\\. What does passing re.VERBOSE as the 2nd argument to re.compile() allow to do?"
      ],
      "metadata": {
        "id": "9XQSb-AgIS08"
      }
    },
    {
      "cell_type": "markdown",
      "source": [
        "**ANS:**\n",
        "- `re.VERBOSE` will allow to add whitespace and comments to string passed to `re.compile()`."
      ],
      "metadata": {
        "id": "zj7HmDSyWkwN"
      }
    },
    {
      "cell_type": "code",
      "source": [
        "# Without Using VERBOSE\n",
        "regex_email = re.compile(r'^([a-z0-9_\\.-]+)@([0-9a-z\\.-]+)\\.([a-z\\.]{2, 6})$', re.IGNORECASE)\n",
        " \n",
        "# Using VERBOSE\n",
        "regex_email = re.compile(r\"\"\"\n",
        "                            ^([a-z0-9_\\.-]+)              # local Part like username\n",
        "                            @                             # single @ sign \n",
        "                            ([0-9a-z\\.-]+)                # Domain name like google\n",
        "                            \\.                            # single Dot .\n",
        "                            ([a-z]{2,6})$                 # Top level Domain  like com/in/org\n",
        "                         \"\"\",re.VERBOSE | re.IGNORECASE)   "
      ],
      "metadata": {
        "id": "gAe_9n9AWHjv"
      },
      "execution_count": null,
      "outputs": []
    },
    {
      "cell_type": "markdown",
      "source": [
        "## 20\\. How would you write a regex that match a number with comma for every three digits? It must match the given following: '42' '1,234' '6,368,745' but not the following: '12,34,567' (which has only two digits between the commas) '1234' (which lacks commas)"
      ],
      "metadata": {
        "id": "nJIJqWuXIVlU"
      }
    },
    {
      "cell_type": "code",
      "source": [
        "import re\n",
        "pattern = r'^\\d{1,3}(,\\d{3})*$'\n",
        "pagex = re.compile(pattern)\n",
        "for ele in ['42','1,234', '6,368,745','12,34,567','1234']:\n",
        "    print('Output:',ele, '->', pagex.search(ele))"
      ],
      "metadata": {
        "colab": {
          "base_uri": "https://localhost:8080/"
        },
        "id": "l_1h_otxflVP",
        "outputId": "63dfa74c-f6a9-419e-97e2-3cd54d150466"
      },
      "execution_count": 1,
      "outputs": [
        {
          "output_type": "stream",
          "name": "stdout",
          "text": [
            "Output: 42 -> <re.Match object; span=(0, 2), match='42'>\n",
            "Output: 1,234 -> <re.Match object; span=(0, 5), match='1,234'>\n",
            "Output: 6,368,745 -> <re.Match object; span=(0, 9), match='6,368,745'>\n",
            "Output: 12,34,567 -> None\n",
            "Output: 1234 -> None\n"
          ]
        }
      ]
    },
    {
      "cell_type": "markdown",
      "source": [
        "## 21\\. How would you write a regex that matches the full name of someone whose last name is Watanabe? You can assume that the first name that comes before it will always be one word that begins with a capital letter. The regex must match the following: 'Haruto Watanabe' 'Alice Watanabe' 'RoboCop Watanabe' but not the following: 'haruto Watanabe' (where the first name is not capitalized) 'Mr. Watanabe' (where the preceding word has a nonletter character) 'Watanabe' (which has no first name) 'Haruto watanabe' (where Watanabe is not capitalized)"
      ],
      "metadata": {
        "id": "cTGOsBLWIZnE"
      }
    },
    {
      "cell_type": "code",
      "source": [
        "import re\n",
        "pattern = r'[A-Z]{1}[a-z]*\\sWatanabe'\n",
        "namex = re.compile(pattern)\n",
        "for name in ['Haruto Watanabe','Alice Watanabe','RoboCop Watanabe','haruto Watanabe','Mr. Watanabe','Watanabe','Haruto watanabe']:\n",
        "    print('Output: ',name,'->',namex.search(name))"
      ],
      "metadata": {
        "colab": {
          "base_uri": "https://localhost:8080/"
        },
        "id": "639cwmmmgIP1",
        "outputId": "65fd2cea-1483-4790-a9a0-becb12e678a6"
      },
      "execution_count": 2,
      "outputs": [
        {
          "output_type": "stream",
          "name": "stdout",
          "text": [
            "Output:  Haruto Watanabe -> <re.Match object; span=(0, 15), match='Haruto Watanabe'>\n",
            "Output:  Alice Watanabe -> <re.Match object; span=(0, 14), match='Alice Watanabe'>\n",
            "Output:  RoboCop Watanabe -> <re.Match object; span=(4, 16), match='Cop Watanabe'>\n",
            "Output:  haruto Watanabe -> None\n",
            "Output:  Mr. Watanabe -> None\n",
            "Output:  Watanabe -> None\n",
            "Output:  Haruto watanabe -> None\n"
          ]
        }
      ]
    },
    {
      "cell_type": "markdown",
      "source": [
        "## 22\\. How would you write a regex that matches a sentence where the first word is either Alice, Bob, or Carol; the second word is either eats, pets, or throws; the third word is apples, cats, or baseballs; and the sentence ends with a period? This regex should be case-insensitive. It must match the following: 'Alice eats apples.' 'Bob pets cats.' 'Carol throws baseballs.' 'Alice throws Apples.' 'BOB EATS CATS.' but not the following: 'RoboCop eats apples.' 'ALICE THROWS FOOTBALLS.' 'Carol eats 7 cats.'"
      ],
      "metadata": {
        "id": "ZtBOR9IkIek8"
      }
    },
    {
      "cell_type": "code",
      "execution_count": 3,
      "metadata": {
        "id": "q4QCW25FGl7u",
        "colab": {
          "base_uri": "https://localhost:8080/"
        },
        "outputId": "1715f025-6f73-4bf9-d5d3-bf715e0cfcbb"
      },
      "outputs": [
        {
          "output_type": "stream",
          "name": "stdout",
          "text": [
            "Output:  Alice eats apples. -> <re.Match object; span=(0, 18), match='Alice eats apples.'>\n",
            "Output:  Bob pets cats. -> <re.Match object; span=(0, 14), match='Bob pets cats.'>\n",
            "Output:  Carol throws baseballs. -> <re.Match object; span=(0, 23), match='Carol throws baseballs.'>\n",
            "Output:  Alice throws Apples. -> <re.Match object; span=(0, 20), match='Alice throws Apples.'>\n",
            "Output:  BOB EATS CATS. -> <re.Match object; span=(0, 14), match='BOB EATS CATS.'>\n",
            "Output:  RoboCop eats apples. -> None\n",
            "Output:  ALICE THROWS FOOTBALLS. -> None\n",
            "Output:  Carol eats 7 cats. -> None\n"
          ]
        }
      ],
      "source": [
        "import re\n",
        "pattern = r'(Alice|Bob|Carol)\\s(eats|pets|throws)\\s(apples|cats|baseballs)\\.'\n",
        "casex = re.compile(pattern,re.IGNORECASE)\n",
        "for ele in ['Alice eats apples.','Bob pets cats.','Carol throws baseballs.','Alice throws Apples.','BOB EATS CATS.','RoboCop eats apples.'\n",
        ",'ALICE THROWS FOOTBALLS.','Carol eats 7 cats.']:\n",
        "    print('Output: ',ele,'->',casex.search(ele))"
      ]
    }
  ]
}