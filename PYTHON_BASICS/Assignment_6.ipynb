{
  "nbformat": 4,
  "nbformat_minor": 0,
  "metadata": {
    "colab": {
      "provenance": [],
      "toc_visible": true
    },
    "kernelspec": {
      "name": "python3",
      "display_name": "Python 3"
    },
    "language_info": {
      "name": "python"
    }
  },
  "cells": [
    {
      "cell_type": "markdown",
      "source": [
        "# Assignment 6"
      ],
      "metadata": {
        "id": "Ei_9ISTlSau-"
      }
    },
    {
      "cell_type": "markdown",
      "source": [
        "## 1\\. What are escape characters, and how do you use them?"
      ],
      "metadata": {
        "id": "GNiAsi23Sq4G"
      }
    },
    {
      "cell_type": "markdown",
      "source": [
        "**ANS:**\n",
        "- An escape character is a `backslash \\` followed by the character you want to insert.\n",
        "- To insert characters that are `illegal` in a string, use an escape character."
      ],
      "metadata": {
        "id": "VfW36GuFTjN1"
      }
    },
    {
      "cell_type": "code",
      "source": [
        "address = \"Gujarat \\\"India\\\".\"\n",
        "print(address)"
      ],
      "metadata": {
        "colab": {
          "base_uri": "https://localhost:8080/"
        },
        "id": "JMRWt4XVT4Pg",
        "outputId": "e3b2915b-43d8-4cd5-aa6f-94d261a43b13"
      },
      "execution_count": null,
      "outputs": [
        {
          "output_type": "stream",
          "name": "stdout",
          "text": [
            "Gujarat \"India\".\n"
          ]
        }
      ]
    },
    {
      "cell_type": "markdown",
      "source": [
        "## 2\\. What do the escape characters n and t stand for?"
      ],
      "metadata": {
        "id": "i6gFerf2UQuZ"
      }
    },
    {
      "cell_type": "markdown",
      "source": [
        "**ANS:**\n",
        "- \\n is stand for `newline`\n",
        "- \\t is stand for `tab`"
      ],
      "metadata": {
        "id": "mfiSmRSwUcnH"
      }
    },
    {
      "cell_type": "code",
      "source": [
        "p = \"Hi\\nguys\"\n",
        "q = \"hello\\tworld\"\n",
        "print(p)\n",
        "print(q)"
      ],
      "metadata": {
        "colab": {
          "base_uri": "https://localhost:8080/"
        },
        "id": "iC9RZYqSUqo6",
        "outputId": "2e594c19-4bd5-4695-d5a8-b9318fa19e7f"
      },
      "execution_count": null,
      "outputs": [
        {
          "output_type": "stream",
          "name": "stdout",
          "text": [
            "Hi\n",
            "guys\n",
            "hello\tworld\n"
          ]
        }
      ]
    },
    {
      "cell_type": "markdown",
      "source": [
        "## 3\\. What is the way to include backslash characters in a string?"
      ],
      "metadata": {
        "id": "YWEea30NVC21"
      }
    },
    {
      "cell_type": "markdown",
      "source": [
        "**ANS:**\n",
        "- `\\\\`"
      ],
      "metadata": {
        "id": "iJY5LpNuVI8z"
      }
    },
    {
      "cell_type": "code",
      "source": [
        "s = '\\\\bro'\n",
        "print(s)"
      ],
      "metadata": {
        "colab": {
          "base_uri": "https://localhost:8080/"
        },
        "id": "ZGbIGxAeVN5o",
        "outputId": "620159a4-6d06-4e12-c301-a33b6d95f17f"
      },
      "execution_count": null,
      "outputs": [
        {
          "output_type": "stream",
          "name": "stdout",
          "text": [
            "\\bro\n"
          ]
        }
      ]
    },
    {
      "cell_type": "markdown",
      "source": [
        "## 4\\. The string \"Howl's Moving Castle\" is a correct value. Why isn't the single quote character in the word Howl's not escaped a problem?"
      ],
      "metadata": {
        "id": "__6gJXyIVd-u"
      }
    },
    {
      "cell_type": "markdown",
      "source": [
        "**ANS:**\n",
        "- The string \"Howl's Moving Castle\" escaped the problem because it is wrapped inside double quotes.\n",
        "- where if its wrapped inside single quotes then we have to use escape character \\' to show single quote in the final output"
      ],
      "metadata": {
        "id": "tW67VRZlV1O7"
      }
    },
    {
      "cell_type": "code",
      "source": [
        "s = 'Howl\\'s Moving Castle'\n",
        "print(s)"
      ],
      "metadata": {
        "colab": {
          "base_uri": "https://localhost:8080/"
        },
        "id": "snnQ2Q3AWIMR",
        "outputId": "7f5155a0-464b-441b-a907-edfe639333da"
      },
      "execution_count": null,
      "outputs": [
        {
          "output_type": "stream",
          "name": "stdout",
          "text": [
            "Howl's Moving Castle\n"
          ]
        }
      ]
    },
    {
      "cell_type": "markdown",
      "source": [
        "## 5\\. How do you write a string of newlines if you don't want to use the n character?"
      ],
      "metadata": {
        "id": "45Y6JCqlWSeD"
      }
    },
    {
      "cell_type": "markdown",
      "source": [
        "**ANS:**\n",
        "- `Triple Quote`"
      ],
      "metadata": {
        "id": "_Qg1rdilWdgv"
      }
    },
    {
      "cell_type": "code",
      "source": [
        "s = '''hello\n",
        "world'''\n",
        "print(s)"
      ],
      "metadata": {
        "colab": {
          "base_uri": "https://localhost:8080/"
        },
        "id": "-C3-H73wWlQ0",
        "outputId": "ea76fbcc-645c-4324-cfed-87c535fead28"
      },
      "execution_count": null,
      "outputs": [
        {
          "output_type": "stream",
          "name": "stdout",
          "text": [
            "hello\n",
            "world\n"
          ]
        }
      ]
    },
    {
      "cell_type": "markdown",
      "source": [
        "## 6\\. What are the values of the given expressions? 'Hello, world!'[1] 'Hello, world!'[0:5] 'Hello, world!'[:5] 'Hello, world!'[3:]"
      ],
      "metadata": {
        "id": "Y9J2BxPLWxew"
      }
    },
    {
      "cell_type": "markdown",
      "source": [
        "**ANS:**\n",
        "- 'Hello, world!'[1]    -> `e`\n",
        "- 'Hello, world!'[0:5]  -> `hello`\n",
        "- 'Hello, world!'[:5]   -> `hello`\n",
        "- 'Hello, world!'[3:]   -> `lo, world!`"
      ],
      "metadata": {
        "id": "379jMOO1W92I"
      }
    },
    {
      "cell_type": "code",
      "source": [
        "print('Hello, world!'[1])\n",
        "print('Hello, world!'[0:5])\n",
        "print('Hello, world!'[:5])\n",
        "print('Hello, world!'[3:])"
      ],
      "metadata": {
        "colab": {
          "base_uri": "https://localhost:8080/"
        },
        "id": "pLHcGdo0XPSX",
        "outputId": "8fd39def-7991-4b77-fb69-76fe72d5df9b"
      },
      "execution_count": null,
      "outputs": [
        {
          "output_type": "stream",
          "name": "stdout",
          "text": [
            "e\n",
            "Hello\n",
            "Hello\n",
            "lo, world!\n"
          ]
        }
      ]
    },
    {
      "cell_type": "markdown",
      "source": [
        "## 7\\. What are the values of the following expressions? 'Hello'.upper() 'Hello'.upper().isupper() 'Hello'.upper().lower()"
      ],
      "metadata": {
        "id": "fgzL6cQ-XkAH"
      }
    },
    {
      "cell_type": "markdown",
      "source": [
        "**ANS:**\n",
        "- 'Hello'.upper() -> `'HELLO'`\n",
        "- 'Hello'.upper().isupper() -> `True`\n",
        "- 'Hello'.upper().lower() -> '`hello'`"
      ],
      "metadata": {
        "id": "Xcb6rjheXpYl"
      }
    },
    {
      "cell_type": "code",
      "source": [
        "print('Hello'.upper())\n",
        "print('Hello'.upper().isupper())\n",
        "print('Hello'.upper().lower())"
      ],
      "metadata": {
        "colab": {
          "base_uri": "https://localhost:8080/"
        },
        "id": "PYs7F4PhXjWh",
        "outputId": "98cb8598-a285-449d-c42c-14e961da7d38"
      },
      "execution_count": null,
      "outputs": [
        {
          "output_type": "stream",
          "name": "stdout",
          "text": [
            "HELLO\n",
            "True\n",
            "hello\n"
          ]
        }
      ]
    },
    {
      "cell_type": "markdown",
      "source": [
        "## 8\\. What are the values of the following expressions? 'Remember, remember, the fifth of July.'.split() '-'.join('There can only one.'.split())"
      ],
      "metadata": {
        "id": "JwVOSlkEYDDI"
      }
    },
    {
      "cell_type": "markdown",
      "source": [
        "**ANS:**\n",
        "- `['Remember,', 'remember,', 'the', 'fifith', 'of', 'July.']`\n",
        "- `There-can-only-one`"
      ],
      "metadata": {
        "id": "zY6bfV_GYV9f"
      }
    },
    {
      "cell_type": "code",
      "source": [
        "print('Remember, remember, the fifith of July.'.split())\n",
        "print('-'.join('There can only one'.split()))"
      ],
      "metadata": {
        "colab": {
          "base_uri": "https://localhost:8080/"
        },
        "id": "fNTSuuwZYI7p",
        "outputId": "2dc66305-a1c9-4c92-eb35-ee4970efc1be"
      },
      "execution_count": null,
      "outputs": [
        {
          "output_type": "stream",
          "name": "stdout",
          "text": [
            "['Remember,', 'remember,', 'the', 'fifith', 'of', 'July.']\n",
            "There-can-only-one\n"
          ]
        }
      ]
    },
    {
      "cell_type": "markdown",
      "source": [
        "## 9\\. What are the methods for right-justifying, left-justifying, and centering a string?\n",
        "\n"
      ],
      "metadata": {
        "id": "2u_XLdxgYpu3"
      }
    },
    {
      "cell_type": "markdown",
      "source": [
        "**ANS:**\n",
        "- `rjust()`\n",
        "- `ljust()`\n",
        "- `center()`"
      ],
      "metadata": {
        "id": "0JOjE_ucYwaW"
      }
    },
    {
      "cell_type": "markdown",
      "source": [
        "## 10\\. What is the best way to remove whitespace characters from the start or end?"
      ],
      "metadata": {
        "id": "q9EKG9X5Y7dB"
      }
    },
    {
      "cell_type": "markdown",
      "source": [
        "**ANS:**\n",
        "- `strip()`\n",
        "- `lstrip()`\n",
        "- `rstrip()`"
      ],
      "metadata": {
        "id": "lX_Tw2C4Zbw9"
      }
    }
  ]
}