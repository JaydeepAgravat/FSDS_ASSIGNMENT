{
  "nbformat": 4,
  "nbformat_minor": 0,
  "metadata": {
    "colab": {
      "provenance": []
    },
    "kernelspec": {
      "name": "python3",
      "display_name": "Python 3"
    },
    "language_info": {
      "name": "python"
    }
  },
  "cells": [
    {
      "cell_type": "markdown",
      "source": [
        "# Assignment_1"
      ],
      "metadata": {
        "id": "Jugk3FOPsQuP"
      }
    },
    {
      "cell_type": "markdown",
      "source": [
        "## 1\\. In the below elements which of them are values or an expression? eg:- values can be integer or string and expressions will be mathematical operators.\n"
      ],
      "metadata": {
        "id": "_SSE0zi0soD8"
      }
    },
    {
      "cell_type": "markdown",
      "source": [
        "`\n",
        "*, 'hello', -87.8, -, /, +, 6 \n",
        "`"
      ],
      "metadata": {
        "id": "2tuW4oROszP7"
      }
    },
    {
      "cell_type": "markdown",
      "source": [
        "**ANS:**\n",
        "- **value:** `'hello', -87.8, 6`\n",
        "- **expressions:** `*, -, /, +`"
      ],
      "metadata": {
        "id": "ZMEeaP3KtUfE"
      }
    },
    {
      "cell_type": "markdown",
      "source": [
        "## 2\\. What is the difference between string and variable?"
      ],
      "metadata": {
        "id": "1Iphuo9Ru6fD"
      }
    },
    {
      "cell_type": "markdown",
      "source": [
        "**ANS:**\n",
        "- **Variable:** A python variable is a symbolic name that is a reference to an object.\n",
        "- **String:** A python string is a sequence of Unicode characters.\n",
        "- **Difference:** variable is used to store the information and string is a type of information you would store in a variable."
      ],
      "metadata": {
        "id": "msUd6BcBvFio"
      }
    },
    {
      "cell_type": "markdown",
      "source": [
        "## 3\\. Describe three different data types."
      ],
      "metadata": {
        "id": "7PcFZGar4Jbq"
      }
    },
    {
      "cell_type": "markdown",
      "source": [
        "**ANS:**\n",
        "\n",
        "- Python supports three kinds of numeric data types: **int, float, and complex.**\n",
        "- **Integer:**\n",
        " - This value is represented by int class.\n",
        " - It contains positive or negative whole numbers (without fraction or decimal).\n",
        "- **Float:**\n",
        " - This value is represented by float class.\n",
        " - It is a real number with floating point representation.\n",
        " - It is specified by a decimal point.\n",
        "- **Complex Number:**\n",
        " - This value is represented by complex class. \n",
        " - It is specified as (real part) + (imaginary part)j. For example – 2+3j\n"
      ],
      "metadata": {
        "id": "bnLZJ6Op6Trg"
      }
    },
    {
      "cell_type": "code",
      "source": [
        "# numeric data types\n",
        "int_number = 123 # int\n",
        "float_number = 3.14 # float\n",
        "complex_number = 1 + 3j # complex\n",
        "\n",
        "print(f\"{int_number} is represented by {type(int_number)}\")\n",
        "print(f\"{float_number} is represented by {type(float_number)}\")\n",
        "print(f\"{complex_number} is represented by {type(complex_number)}\")"
      ],
      "metadata": {
        "colab": {
          "base_uri": "https://localhost:8080/"
        },
        "id": "V5nuLQNn8G4y",
        "outputId": "3a1c64fc-9954-4e9c-d1bf-9d0f7efb5c53"
      },
      "execution_count": null,
      "outputs": [
        {
          "output_type": "stream",
          "name": "stdout",
          "text": [
            "123 is represented by <class 'int'>\n",
            "3.14 is represented by <class 'float'>\n",
            "(1+3j) is represented by <class 'complex'>\n"
          ]
        }
      ]
    },
    {
      "cell_type": "markdown",
      "source": [
        "## 4\\. What is an expression made up of? What do all expressions do?"
      ],
      "metadata": {
        "id": "rw7YWQK87-eY"
      }
    },
    {
      "cell_type": "markdown",
      "source": [
        "**ANS:**\n",
        "- An expressions is made up of **variable, operator and operand.**\n",
        "- The interpreter evaluates the expression to a **single value.**\n",
        "- It is evaluated as per the precedence of its operators.\n"
      ],
      "metadata": {
        "id": "lhgwicYG-kx5"
      }
    },
    {
      "cell_type": "code",
      "execution_count": null,
      "metadata": {
        "colab": {
          "base_uri": "https://localhost:8080/"
        },
        "id": "sgQAekcZrPaA",
        "outputId": "11ffda09-d9a8-44a1-b710-e4af5a4aea69"
      },
      "outputs": [
        {
          "output_type": "stream",
          "name": "stdout",
          "text": [
            "116\n",
            "True\n"
          ]
        }
      ],
      "source": [
        "x = 16\n",
        "y = 25\n",
        "print(x + y * 4)\n",
        "print((x > 10) or (x == y))"
      ]
    },
    {
      "cell_type": "markdown",
      "source": [
        "## 5\\. This assignment statements, like spam = 10. What is the difference between an expression and a statement?"
      ],
      "metadata": {
        "id": "59zhry_oFMh1"
      }
    },
    {
      "cell_type": "markdown",
      "source": [
        "**ANS:**\n",
        "- **Statement:**\n",
        "  - Instruction written in the source code for execution is called statement.\n",
        "  - We have many type of statements.\n",
        "  - Assignment statements, Conditional statements, Looping statements, etc.\n",
        "- **Expression:**\n",
        "  - Sometime expression is part of statement.\n",
        "  - Instruction written in the source code for produce single value is called expression.\n",
        "  - We have many types of expressions.\n",
        "  - Arithmetic expressions, Relational expressions, Logical expressions, etc.\n",
        "- **Difference:**\n",
        "  - Expressions always evaluate to a value, statements don't.\n",
        "\n"
      ],
      "metadata": {
        "id": "J2LeaSF5GQXZ"
      }
    },
    {
      "cell_type": "code",
      "source": [
        "# assignment statement\n",
        "spam = 10 \n",
        "# 10 is expression\n",
        "\n",
        "# if else statement\n",
        "if x >= 10:\n",
        "  print(f\"x is greater than 10.\") # print statement\n",
        "else:\n",
        "  x = x + 10    # x + 10 is expression"
      ],
      "metadata": {
        "id": "_npTdcfg9t98"
      },
      "execution_count": null,
      "outputs": []
    },
    {
      "cell_type": "markdown",
      "source": [
        "## 6\\. After running the following code, what does the variable bacon contain?"
      ],
      "metadata": {
        "id": "u4lHqzTlN_Bc"
      }
    },
    {
      "cell_type": "markdown",
      "source": [
        "```\n",
        "bacon = 22\n",
        "bacon + 1\n",
        "```"
      ],
      "metadata": {
        "id": "OthRV1zUOO5w"
      }
    },
    {
      "cell_type": "markdown",
      "source": [
        "**ANS:**\n",
        "- variable bacon contain is **22**.\n",
        "- to increase the value of bacon we need to write this statement `bacon += 1`.\n",
        " "
      ],
      "metadata": {
        "id": "I9F9J7pSPYio"
      }
    },
    {
      "cell_type": "code",
      "source": [
        "bacon = 22\n",
        "bacon + 1\n",
        "print(bacon)\n",
        "bacon += 1\n",
        "print(bacon)"
      ],
      "metadata": {
        "colab": {
          "base_uri": "https://localhost:8080/"
        },
        "id": "X1EB2LsFN-uK",
        "outputId": "83be23b3-29f7-4586-9689-e1651315550f"
      },
      "execution_count": null,
      "outputs": [
        {
          "output_type": "stream",
          "name": "stdout",
          "text": [
            "22\n",
            "23\n"
          ]
        }
      ]
    },
    {
      "cell_type": "markdown",
      "source": [
        "## 7\\. What should the values of the following two terms be?\n"
      ],
      "metadata": {
        "id": "2dsy9tj4QxOq"
      }
    },
    {
      "cell_type": "markdown",
      "source": [
        "```\n",
        "'spam'+'spamspam'\n",
        "'spam'*3\n",
        "```\n"
      ],
      "metadata": {
        "id": "aKnDdzslQ1Ur"
      }
    },
    {
      "cell_type": "markdown",
      "source": [
        "**ANS:**\n",
        "- Both expression has same value : **`spamspamspam`**"
      ],
      "metadata": {
        "id": "DACtjFanRFeT"
      }
    },
    {
      "cell_type": "code",
      "source": [
        "print('spam'+'spamspam') # + operator for string concatenation\n",
        "print('spam'*3)          # * operator for string repetition\n"
      ],
      "metadata": {
        "colab": {
          "base_uri": "https://localhost:8080/"
        },
        "id": "F8Bf8BGeN-kw",
        "outputId": "717bd1ac-59e1-4b44-8a22-53e160f2394f"
      },
      "execution_count": null,
      "outputs": [
        {
          "output_type": "stream",
          "name": "stdout",
          "text": [
            "spamspamspam\n",
            "spamspamspam\n"
          ]
        }
      ]
    },
    {
      "cell_type": "markdown",
      "source": [
        "## 8\\. Why is eggs a valid variable name while 100 is invalid?"
      ],
      "metadata": {
        "id": "jLU6Wt8ZUVoS"
      }
    },
    {
      "cell_type": "markdown",
      "source": [
        "**ANS:**\n",
        "- As per rules for python variables, egg is valid variable name and 100 is invalide variable name.\n",
        "- Rules for Python variables:\n",
        "  1. A variable name must start with a letter or the underscore character\n",
        "  2. A variable name cannot start with a number\n",
        "  3. A variable name can only contain alpha-numeric characters and underscores (A-z, 0-9, and _ )\n",
        "  4. Variable names are case-sensitive (age, Age and AGE are three different variables)\n",
        "  5. The reserved words(keywords) cannot be used naming the variable."
      ],
      "metadata": {
        "id": "1p5tC-MSaYUc"
      }
    },
    {
      "cell_type": "code",
      "source": [
        "eggs = \"yes\"\n",
        "# 100 = \"no\" -> SyntaxError: can't assign to literal"
      ],
      "metadata": {
        "id": "llZECLURN-cz"
      },
      "execution_count": null,
      "outputs": []
    },
    {
      "cell_type": "markdown",
      "source": [
        "## 9\\. What three functions can be used to get the integer, floating-point number, or string version of a value?"
      ],
      "metadata": {
        "id": "mqWWYFcsd1If"
      }
    },
    {
      "cell_type": "markdown",
      "source": [
        "**ANS:**\n",
        "- `int()` function return interger.\n",
        "- `float()` function return floating-point number.\n",
        "- `str()` function return string."
      ],
      "metadata": {
        "id": "I2K4cebleRaz"
      }
    },
    {
      "cell_type": "code",
      "source": [
        "print(f\"int(3.14) => {int(3.14)} => {type(int(3.14))}\")\n",
        "print(f\"float(30) => {float(30)} => {type(float(30))}\")\n",
        "print(f\"str(50.5) => {str(50.5)} => {type(str(50.5))}\")"
      ],
      "metadata": {
        "colab": {
          "base_uri": "https://localhost:8080/"
        },
        "id": "CTjIreDtd023",
        "outputId": "5c0abfbf-c688-4bc6-c07e-67dce4699d95"
      },
      "execution_count": null,
      "outputs": [
        {
          "output_type": "stream",
          "name": "stdout",
          "text": [
            "int(3.14) => 3 => <class 'int'>\n",
            "float(30) => 30.0 => <class 'float'>\n",
            "str(50.5) => 50.5 => <class 'str'>\n"
          ]
        }
      ]
    },
    {
      "cell_type": "markdown",
      "source": [
        "## 10\\. Why does this expression cause an error? How can you fix it?"
      ],
      "metadata": {
        "id": "MpL4QmAif4F2"
      }
    },
    {
      "cell_type": "markdown",
      "source": [
        "'I have eaten' + 99 + 'burritos.'"
      ],
      "metadata": {
        "id": "U0OBZJ6Sf_Gw"
      }
    },
    {
      "cell_type": "markdown",
      "source": [
        "**ANS:**\n",
        "- `'I have eaten' + 99 + 'burritos.'`\n",
        "- TypeError\n",
        "- **Because we try to concatenate a string to an integer.**\n",
        "- To fix the problem we convert 99(int)\n",
        "to string.\n",
        "- **`'I have eaten ' + str(99) + ' burritos.'`**"
      ],
      "metadata": {
        "id": "P0GY5-MvgiFf"
      }
    },
    {
      "cell_type": "code",
      "source": [
        "print('I have eaten ' + str(99) + ' burritos.')"
      ],
      "metadata": {
        "colab": {
          "base_uri": "https://localhost:8080/"
        },
        "id": "PctKbNmcRSxB",
        "outputId": "bbba9d6b-e248-4474-e8e8-ec014eb3e7b8"
      },
      "execution_count": null,
      "outputs": [
        {
          "output_type": "stream",
          "name": "stdout",
          "text": [
            "I have eaten 99 burritos.\n"
          ]
        }
      ]
    }
  ]
}