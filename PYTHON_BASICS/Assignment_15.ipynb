{
  "nbformat": 4,
  "nbformat_minor": 0,
  "metadata": {
    "colab": {
      "provenance": [],
      "toc_visible": true
    },
    "kernelspec": {
      "name": "python3",
      "display_name": "Python 3"
    },
    "language_info": {
      "name": "python"
    }
  },
  "cells": [
    {
      "cell_type": "markdown",
      "source": [
        "# Assignment 15"
      ],
      "metadata": {
        "id": "IFYXSRYOI5vz"
      }
    },
    {
      "cell_type": "markdown",
      "source": [
        "## 1\\. How many seconds are in an hour? Use the interactive interpreter as a calculator and multiply the number of seconds in a minute (60) by the number of minutes in an hour (also 60)."
      ],
      "metadata": {
        "id": "kD5NQ7u5JGGB"
      }
    },
    {
      "cell_type": "code",
      "source": [
        "60 * 60"
      ],
      "metadata": {
        "colab": {
          "base_uri": "https://localhost:8080/"
        },
        "id": "g89TBASiJsYk",
        "outputId": "3d61d645-8ed7-475b-a06c-b7c5adbe98f0"
      },
      "execution_count": null,
      "outputs": [
        {
          "output_type": "execute_result",
          "data": {
            "text/plain": [
              "3600"
            ]
          },
          "metadata": {},
          "execution_count": 1
        }
      ]
    },
    {
      "cell_type": "markdown",
      "source": [
        "## 2\\. Assign the result from the previous task (seconds in an hour) to a variable called seconds_per_hour."
      ],
      "metadata": {
        "id": "Byogue0UJKd5"
      }
    },
    {
      "cell_type": "code",
      "source": [
        "seconds_per_hour = 60 * 60"
      ],
      "metadata": {
        "id": "25HHFGfcJudx"
      },
      "execution_count": null,
      "outputs": []
    },
    {
      "cell_type": "markdown",
      "source": [
        "## 3\\. How many seconds do you think there are in a day? Make use of the variables seconds per hour and minutes per hour."
      ],
      "metadata": {
        "id": "rcvRdCRMJNOZ"
      }
    },
    {
      "cell_type": "code",
      "source": [
        "minutes_per_hour = 60\n",
        "\n",
        "seconds_per_hour * 24 "
      ],
      "metadata": {
        "colab": {
          "base_uri": "https://localhost:8080/"
        },
        "id": "pJDsKB8QJyAx",
        "outputId": "134ed47a-27fb-4ff6-9ce0-4cb79c3b7838"
      },
      "execution_count": null,
      "outputs": [
        {
          "output_type": "execute_result",
          "data": {
            "text/plain": [
              "86400"
            ]
          },
          "metadata": {},
          "execution_count": 7
        }
      ]
    },
    {
      "cell_type": "markdown",
      "source": [
        "## 4\\. Calculate seconds per day again, but this time save the result in a variable called seconds_per_day"
      ],
      "metadata": {
        "id": "vrJ8sF5YJP7p"
      }
    },
    {
      "cell_type": "code",
      "source": [
        "seconds_per_day = 24*60*60"
      ],
      "metadata": {
        "id": "UZCDMOsQMCKo"
      },
      "execution_count": null,
      "outputs": []
    },
    {
      "cell_type": "markdown",
      "source": [
        "## 5\\. Divide seconds_per_day by seconds_per_hour. Use floating-point (/) division."
      ],
      "metadata": {
        "id": "yrxytKjdJSir"
      }
    },
    {
      "cell_type": "code",
      "source": [
        "seconds_per_day/seconds_per_hour"
      ],
      "metadata": {
        "colab": {
          "base_uri": "https://localhost:8080/"
        },
        "id": "JDhsQq61MIhy",
        "outputId": "48dd94cd-00e2-46c7-dbb1-780993e0e098"
      },
      "execution_count": null,
      "outputs": [
        {
          "output_type": "execute_result",
          "data": {
            "text/plain": [
              "24.0"
            ]
          },
          "metadata": {},
          "execution_count": 9
        }
      ]
    },
    {
      "cell_type": "markdown",
      "source": [
        "## 6\\. Divide seconds_per_day by seconds_per_hour, using integer (//) division. Did this number agree with the floating-point value from the previous question, aside from the final .0?"
      ],
      "metadata": {
        "id": "OfShqQWDJWo5"
      }
    },
    {
      "cell_type": "code",
      "source": [
        "print(seconds_per_day//seconds_per_hour)\n",
        "print('YES! this values agree with the floating point value from the previous question')"
      ],
      "metadata": {
        "colab": {
          "base_uri": "https://localhost:8080/"
        },
        "id": "hCeDBmSYMNVA",
        "outputId": "72d10c46-4b5f-4b8b-b57b-faaf474a14b0"
      },
      "execution_count": null,
      "outputs": [
        {
          "output_type": "stream",
          "name": "stdout",
          "text": [
            "24\n",
            "YES! this values agree with the floating point value from the previous question\n"
          ]
        }
      ]
    },
    {
      "cell_type": "markdown",
      "source": [
        "## 7\\. Write a generator, genPrimes, that returns the sequence of prime numbers on successive calls to its next() method: 2, 3, 5, 7, 11, ...\n"
      ],
      "metadata": {
        "id": "JkGVqsN4JZRh"
      }
    },
    {
      "cell_type": "code",
      "execution_count": null,
      "metadata": {
        "id": "mLHLuUZnIrfN"
      },
      "outputs": [],
      "source": [
        "from math import sqrt\n",
        "\n",
        "def is_prime(n):\n",
        "    if (n == 2):\n",
        "        return True\n",
        "    if (n % 2 == 0):\n",
        "        return False\n",
        "\n",
        "    i = 3\n",
        "    root = sqrt(n)\n",
        "\n",
        "    while i <= root:\n",
        "        if n % i == 0:\n",
        "            return False\n",
        "        i = i + 2\n",
        "\n",
        "    return True"
      ]
    },
    {
      "cell_type": "code",
      "source": [
        "def prime_generator():\n",
        "    n = 2\n",
        "    while True:\n",
        "        if is_prime(n):\n",
        "            yield n\n",
        "        n += 1\n",
        "\n",
        "primes = prime_generator()\n",
        "\n",
        "for i in range(5):\n",
        "  print(next(primes), end=' ')"
      ],
      "metadata": {
        "colab": {
          "base_uri": "https://localhost:8080/"
        },
        "id": "GtA4Wi96I3WZ",
        "outputId": "879b8cad-5eca-40dd-e516-623df4a3926e"
      },
      "execution_count": null,
      "outputs": [
        {
          "output_type": "stream",
          "name": "stdout",
          "text": [
            "2 3 5 7 11 "
          ]
        }
      ]
    }
  ]
}