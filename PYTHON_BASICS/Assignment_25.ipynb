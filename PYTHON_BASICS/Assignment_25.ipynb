{
  "nbformat": 4,
  "nbformat_minor": 0,
  "metadata": {
    "colab": {
      "provenance": [],
      "toc_visible": true
    },
    "kernelspec": {
      "name": "python3",
      "display_name": "Python 3"
    },
    "language_info": {
      "name": "python"
    }
  },
  "cells": [
    {
      "cell_type": "markdown",
      "source": [
        "# Assignment 25"
      ],
      "metadata": {
        "id": "Razlv1A2y6iQ"
      }
    },
    {
      "cell_type": "markdown",
      "source": [
        "## 1\\. What is the difference between enclosing a list comprehension in square brackets and parentheses? "
      ],
      "metadata": {
        "id": "XTjdANSTzA9W"
      }
    },
    {
      "cell_type": "markdown",
      "source": [
        "**ANS**:\n",
        "- Enclosing a list comprehension in square brackets returns a `list`.\n",
        "- Enclosing a list comprehension in parentheses returns a `generator object`."
      ],
      "metadata": {
        "id": "8mKjswm4z3rf"
      }
    },
    {
      "cell_type": "markdown",
      "source": [
        "## 2\\. What is the relationship between generators and iterators?"
      ],
      "metadata": {
        "id": "wIKh35bKzE-e"
      }
    },
    {
      "cell_type": "markdown",
      "source": [
        "**ANS:**\n",
        "- An iterator in Python serves as a holder for objects so that they can be iterated over.\n",
        "- A generator facilitates the creation of a custom iterator.\n",
        "- Generator is always an Iterator.\n",
        "- Iterator is not always a Generator."
      ],
      "metadata": {
        "id": "WUON3xf91Ccr"
      }
    },
    {
      "cell_type": "markdown",
      "source": [
        "## 3\\. What are the signs that a function is a generator function?"
      ],
      "metadata": {
        "id": "ha9nWNGezI_X"
      }
    },
    {
      "cell_type": "markdown",
      "source": [
        "**ANS:**\n",
        "- A generator function uses a `yield` statement instead of a return statement. - A generator function will always return a `iterable object` called generator.\n",
        "- Normal function can return a string/list/tuple/dict/NoneType ... etc"
      ],
      "metadata": {
        "id": "OsEAPyqr27i_"
      }
    },
    {
      "cell_type": "markdown",
      "source": [
        "## 4\\. What is the purpose of a yield statement?"
      ],
      "metadata": {
        "id": "iSFU8DcxzQFO"
      }
    },
    {
      "cell_type": "markdown",
      "source": [
        "**ANS:**\n",
        "- The yield statement suspends function’s execution and sends a value back to the caller, but retains enough `state` to enable function to resume where it is left off. When resumed, the function continues execution immediately after the last yield run. This allows its code to produce a series of values over time, rather than computing them at once and sending them back like a list."
      ],
      "metadata": {
        "id": "ibwo5QZm3Nyo"
      }
    },
    {
      "cell_type": "markdown",
      "source": [
        "## 5\\. What is the relationship between map calls and list comprehensions? Make a comparison and contrast between the two."
      ],
      "metadata": {
        "id": "smHcq7l5zTcF"
      }
    },
    {
      "cell_type": "markdown",
      "source": [
        "**ANS:**\n",
        "- list comprehension returns a `list`.\n",
        "- map function returns an `map object(which is an iterator)`.  \n",
        "- List comprehension execution is faster than that of map function when the formula expression is huge and complex. \n",
        "- Map function is faster than list comprehension when the formula is already defined as a function earlier.\n",
        "- List comprehension are used when a list of results is required as map only returns a map object and does not return any list."
      ],
      "metadata": {
        "id": "oUHAItOW4CHQ"
      }
    }
  ]
}