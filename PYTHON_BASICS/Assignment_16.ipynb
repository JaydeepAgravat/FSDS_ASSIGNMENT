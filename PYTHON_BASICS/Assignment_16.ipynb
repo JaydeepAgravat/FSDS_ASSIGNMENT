{
  "nbformat": 4,
  "nbformat_minor": 0,
  "metadata": {
    "colab": {
      "provenance": [],
      "toc_visible": true
    },
    "kernelspec": {
      "name": "python3",
      "display_name": "Python 3"
    },
    "language_info": {
      "name": "python"
    }
  },
  "cells": [
    {
      "cell_type": "markdown",
      "source": [
        "# Assignment 16"
      ],
      "metadata": {
        "id": "6-ko-A6u0VAs"
      }
    },
    {
      "cell_type": "markdown",
      "source": [
        "## 1\\. Create a list called years_list, starting with the year of your birth, and each year thereafter until the year of your fifth birthday. For example, if you were born in 1980. the list would be years_list = [1980, 1981, 1982, 1983, 1984, 1985].\n"
      ],
      "metadata": {
        "id": "6M_-ezcB0YO0"
      }
    },
    {
      "cell_type": "code",
      "source": [
        "my_birth_year = 2002\n",
        "\n",
        "years_list = [year for year in range(my_birth_year,my_birth_year+6)]\n",
        "\n",
        "print(years_list)"
      ],
      "metadata": {
        "colab": {
          "base_uri": "https://localhost:8080/"
        },
        "id": "NjwBlBdx1Jw6",
        "outputId": "43490d19-1217-404d-b62c-50fc77aeae92"
      },
      "execution_count": null,
      "outputs": [
        {
          "output_type": "stream",
          "name": "stdout",
          "text": [
            "[2002, 2003, 2004, 2005, 2006, 2007]\n"
          ]
        }
      ]
    },
    {
      "cell_type": "markdown",
      "source": [
        "## 2\\. In which year in years_list was your third birthday? Remember, you were 0 years of age for your first year."
      ],
      "metadata": {
        "id": "oILBrVPR0cWC"
      }
    },
    {
      "cell_type": "code",
      "source": [
        "third_birthday = years_list[3]\n",
        "\n",
        "print(third_birthday)"
      ],
      "metadata": {
        "colab": {
          "base_uri": "https://localhost:8080/"
        },
        "id": "T6rLStXs2L6T",
        "outputId": "9d04404d-95dc-4e85-bc42-45bc293e6399"
      },
      "execution_count": null,
      "outputs": [
        {
          "output_type": "stream",
          "name": "stdout",
          "text": [
            "2005\n"
          ]
        }
      ]
    },
    {
      "cell_type": "markdown",
      "source": [
        "## 3\\. In the years list, which year were you the oldest?"
      ],
      "metadata": {
        "id": "P0Ww_vcf0gHK"
      }
    },
    {
      "cell_type": "code",
      "source": [
        "oldest = years_list[-1]\n",
        "\n",
        "print(oldest)"
      ],
      "metadata": {
        "colab": {
          "base_uri": "https://localhost:8080/"
        },
        "id": "0J2s7iAe2d_k",
        "outputId": "5a3d5168-da61-48c4-af15-bb2b832dbb92"
      },
      "execution_count": null,
      "outputs": [
        {
          "output_type": "stream",
          "name": "stdout",
          "text": [
            "2007\n"
          ]
        }
      ]
    },
    {
      "cell_type": "markdown",
      "source": [
        "## 4\\. Make a list called things with these three strings as elements: \"mozzarella\", \"cinderella\", \"salmonella\"."
      ],
      "metadata": {
        "id": "p0y5FJ0z0kGq"
      }
    },
    {
      "cell_type": "code",
      "source": [
        "things = [\"mozzarella\", \"cinderella\", \"salmonella\"]\n",
        "\n",
        "print(things)"
      ],
      "metadata": {
        "colab": {
          "base_uri": "https://localhost:8080/"
        },
        "id": "pDFdgq2X2lUC",
        "outputId": "8fe6c5d7-18f1-4037-ead5-a196cb2ba0b9"
      },
      "execution_count": null,
      "outputs": [
        {
          "output_type": "stream",
          "name": "stdout",
          "text": [
            "['mozzarella', 'cinderella', 'salmonella']\n"
          ]
        }
      ]
    },
    {
      "cell_type": "markdown",
      "source": [
        "## 5\\. Capitalize the element in things that refers to a person and then print the list. Did it change the element in the list?"
      ],
      "metadata": {
        "id": "ejKzXxF80nO6"
      }
    },
    {
      "cell_type": "code",
      "source": [
        "things[2].capitalize()\n",
        "\n",
        "print(things)\n",
        "\n",
        "print(\"It doesn't change\")"
      ],
      "metadata": {
        "colab": {
          "base_uri": "https://localhost:8080/"
        },
        "id": "fqstYcsb3Gig",
        "outputId": "5c993e26-ed9b-45b7-b76c-5d234eacfe69"
      },
      "execution_count": null,
      "outputs": [
        {
          "output_type": "stream",
          "name": "stdout",
          "text": [
            "['mozzarella', 'cinderella', 'salmonella']\n",
            "It doesn't change\n"
          ]
        }
      ]
    },
    {
      "cell_type": "markdown",
      "source": [
        "## 6\\. Make a surprise list with the elements \"Groucho,\" \"Chico,\" and \"Harpo.\""
      ],
      "metadata": {
        "id": "0Sn2eQBl0p5K"
      }
    },
    {
      "cell_type": "code",
      "source": [
        "surprise = [\"Groucho\", \"Chico\", \"Harpo\"]"
      ],
      "metadata": {
        "id": "gwvtrvhj39wC"
      },
      "execution_count": null,
      "outputs": []
    },
    {
      "cell_type": "markdown",
      "source": [
        "## 7\\. Lowercase the last element of the surprise list, reverse it, and then capitalize it."
      ],
      "metadata": {
        "id": "RrQqUfYT0sdy"
      }
    },
    {
      "cell_type": "code",
      "source": [
        "print(surprise[-1].lower()[::-1].capitalize())"
      ],
      "metadata": {
        "colab": {
          "base_uri": "https://localhost:8080/"
        },
        "id": "_aQIveeE4FKY",
        "outputId": "75f17276-1b58-43ac-ad03-27deaf618892"
      },
      "execution_count": null,
      "outputs": [
        {
          "output_type": "stream",
          "name": "stdout",
          "text": [
            "Oprah\n"
          ]
        }
      ]
    },
    {
      "cell_type": "markdown",
      "source": [
        "## 8\\. Make an English-to-French dictionary called e2f and print it. Here are your starter words: dog is chien, cat is chat, and walrus is morse."
      ],
      "metadata": {
        "id": "q9vfm0V10vtN"
      }
    },
    {
      "cell_type": "code",
      "source": [
        "e2f = {'dog':'chien','cat':'chat','walrus':'morse'}\n",
        "\n",
        "print(e2f)"
      ],
      "metadata": {
        "colab": {
          "base_uri": "https://localhost:8080/"
        },
        "id": "aGqZUSQEFftE",
        "outputId": "ce024402-642a-4103-818f-14ffcc3065a3"
      },
      "execution_count": null,
      "outputs": [
        {
          "output_type": "stream",
          "name": "stdout",
          "text": [
            "{'dog': 'chien', 'cat': 'chat', 'walrus': 'morse'}\n"
          ]
        }
      ]
    },
    {
      "cell_type": "markdown",
      "source": [
        "## 9\\. Write the French word for walrus in your three-word dictionary e2f."
      ],
      "metadata": {
        "id": "9bBmh0fa0ypS"
      }
    },
    {
      "cell_type": "code",
      "source": [
        "print(e2f.get('walrus'))"
      ],
      "metadata": {
        "colab": {
          "base_uri": "https://localhost:8080/"
        },
        "id": "k0FRSkmrFq_T",
        "outputId": "ac4b458b-09dc-49f3-b80d-8958c14a98c7"
      },
      "execution_count": null,
      "outputs": [
        {
          "output_type": "stream",
          "name": "stdout",
          "text": [
            "morse\n"
          ]
        }
      ]
    },
    {
      "cell_type": "markdown",
      "source": [
        "## 10\\. Make a French-to-English dictionary called f2e from e2f. Use the items method."
      ],
      "metadata": {
        "id": "zXDmNa7Q01jK"
      }
    },
    {
      "cell_type": "code",
      "source": [
        "f2e = {french:english for english, french in e2f.items()}\n",
        "\n",
        "print(f2e)"
      ],
      "metadata": {
        "colab": {
          "base_uri": "https://localhost:8080/"
        },
        "id": "_7HTTLxxGBjc",
        "outputId": "a56966b5-ae7b-46c3-84e7-891fdeaec1ac"
      },
      "execution_count": null,
      "outputs": [
        {
          "output_type": "stream",
          "name": "stdout",
          "text": [
            "{'chien': 'dog', 'chat': 'cat', 'morse': 'walrus'}\n"
          ]
        }
      ]
    },
    {
      "cell_type": "markdown",
      "source": [
        "## 11\\. Print the English version of the French word chien using f2e."
      ],
      "metadata": {
        "id": "DCIqgAWe04FC"
      }
    },
    {
      "cell_type": "code",
      "source": [
        "print(f2e.get('chien'))"
      ],
      "metadata": {
        "colab": {
          "base_uri": "https://localhost:8080/"
        },
        "id": "-PhZ98PqG_qM",
        "outputId": "3cdd2276-9d45-4a11-e780-b463d80a4a0d"
      },
      "execution_count": null,
      "outputs": [
        {
          "output_type": "stream",
          "name": "stdout",
          "text": [
            "dog\n"
          ]
        }
      ]
    },
    {
      "cell_type": "markdown",
      "source": [
        "## 12\\. Make and print a set of English words from the keys in e2f."
      ],
      "metadata": {
        "id": "40wv026x06cK"
      }
    },
    {
      "cell_type": "code",
      "source": [
        "words = e2f.keys()\n",
        "\n",
        "print(set(words))"
      ],
      "metadata": {
        "colab": {
          "base_uri": "https://localhost:8080/"
        },
        "id": "i-cJCKYCHi_C",
        "outputId": "913802f5-c049-470e-eaa0-8c44991fb372"
      },
      "execution_count": null,
      "outputs": [
        {
          "output_type": "stream",
          "name": "stdout",
          "text": [
            "{'walrus', 'dog', 'cat'}\n"
          ]
        }
      ]
    },
    {
      "cell_type": "markdown",
      "source": [
        "## 13\\. Make a multilevel dictionary called life. Use these strings for the topmost keys: 'animals', 'plants', and 'other'. Make the 'animals' key refer to another dictionary with the keys 'cats', 'octopi', and 'emus'. Make the 'cats' key refer to a list of strings with the values 'Henri', 'Grumpy', and 'Lucy'. Make all the other keys refer to empty dictionaries."
      ],
      "metadata": {
        "id": "S84FnMc509Eq"
      }
    },
    {
      "cell_type": "code",
      "source": [
        "life = {\n",
        "    'animals':{\n",
        "        'cats':['Henri','Grumpy','Lucy'],\n",
        "        'octopi':{},\n",
        "        'emus':{}\n",
        "    },\n",
        "    'plants':{},\n",
        "    'other':{}\n",
        "}\n",
        "\n",
        "print(life)"
      ],
      "metadata": {
        "colab": {
          "base_uri": "https://localhost:8080/"
        },
        "id": "73sm6QiWH0n6",
        "outputId": "5c7cb9b9-08f7-4053-c106-1b3ac44026e3"
      },
      "execution_count": null,
      "outputs": [
        {
          "output_type": "stream",
          "name": "stdout",
          "text": [
            "{'animals': {'cats': ['Henri', 'Grumpy', 'Lucy'], 'octopi': {}, 'emus': {}}, 'plants': {}, 'other': {}}\n"
          ]
        }
      ]
    },
    {
      "cell_type": "markdown",
      "source": [
        "## 14\\. Print the top-level keys of life."
      ],
      "metadata": {
        "id": "sKPNluv61BJr"
      }
    },
    {
      "cell_type": "code",
      "source": [
        "print(set(life.keys()))"
      ],
      "metadata": {
        "colab": {
          "base_uri": "https://localhost:8080/"
        },
        "id": "FEB9T3qQIFDd",
        "outputId": "461574dc-ade4-4ee6-ed97-1a2b0e3bd3e3"
      },
      "execution_count": null,
      "outputs": [
        {
          "output_type": "stream",
          "name": "stdout",
          "text": [
            "{'other', 'plants', 'animals'}\n"
          ]
        }
      ]
    },
    {
      "cell_type": "markdown",
      "source": [
        "## 15\\. Print the keys for life['animals']."
      ],
      "metadata": {
        "id": "5MUUDVNt1Doq"
      }
    },
    {
      "cell_type": "code",
      "source": [
        "print(set(life['animals'].keys()))"
      ],
      "metadata": {
        "colab": {
          "base_uri": "https://localhost:8080/"
        },
        "id": "4GEYd7F5IKAy",
        "outputId": "68b5781c-c0b0-4c9c-a2ff-f6e7405a74e9"
      },
      "execution_count": null,
      "outputs": [
        {
          "output_type": "stream",
          "name": "stdout",
          "text": [
            "{'octopi', 'cats', 'emus'}\n"
          ]
        }
      ]
    },
    {
      "cell_type": "markdown",
      "source": [
        "## 16\\. Print the values for life['animals']['cats']"
      ],
      "metadata": {
        "id": "mCcVfQQP1GYS"
      }
    },
    {
      "cell_type": "code",
      "execution_count": null,
      "metadata": {
        "colab": {
          "base_uri": "https://localhost:8080/"
        },
        "id": "xjyNeMJ90OTz",
        "outputId": "6628aede-5dcb-4e46-f196-8e8608f491dc"
      },
      "outputs": [
        {
          "output_type": "stream",
          "name": "stdout",
          "text": [
            "['Henri', 'Grumpy', 'Lucy']\n"
          ]
        }
      ],
      "source": [
        "print(life['animals']['cats'])"
      ]
    }
  ]
}