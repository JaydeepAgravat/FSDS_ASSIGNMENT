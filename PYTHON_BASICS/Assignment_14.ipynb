{
  "nbformat": 4,
  "nbformat_minor": 0,
  "metadata": {
    "colab": {
      "provenance": []
    },
    "kernelspec": {
      "name": "python3",
      "display_name": "Python 3"
    },
    "language_info": {
      "name": "python"
    }
  },
  "cells": [
    {
      "cell_type": "markdown",
      "source": [
        "# Assignment 14"
      ],
      "metadata": {
        "id": "EEp2J0i9WJTc"
      }
    },
    {
      "cell_type": "markdown",
      "source": [
        "## 1\\. What does RGBA stand for?"
      ],
      "metadata": {
        "id": "maiXE6i3WQVj"
      }
    },
    {
      "cell_type": "markdown",
      "source": [
        "**ANS:**\n",
        "- `RGBA` is a four-channel format containing data for `Red`, `Green`, `Blue`, and an `Alpha` value. Where Alpha Represents the Opacity\n",
        "\n"
      ],
      "metadata": {
        "id": "e6ftgb3xX328"
      }
    },
    {
      "cell_type": "markdown",
      "source": [
        "## 2\\. From the Pillow module, how do you get the RGBA value of any images?"
      ],
      "metadata": {
        "id": "KSZK_m_oWSCr"
      }
    },
    {
      "cell_type": "markdown",
      "source": [
        "**ANS:**\n",
        "- `ImageColor.getcolor()`"
      ],
      "metadata": {
        "id": "R_d6wJy-YgzM"
      }
    },
    {
      "cell_type": "code",
      "source": [
        "# !pip install Pillow"
      ],
      "metadata": {
        "id": "_18SiehBYO81"
      },
      "execution_count": null,
      "outputs": []
    },
    {
      "cell_type": "markdown",
      "source": [
        "## 3\\. What is a box tuple, and how does it work?"
      ],
      "metadata": {
        "id": "lYvLeC7ZWUUK"
      }
    },
    {
      "cell_type": "markdown",
      "source": [
        "**ANS:** \n",
        "- A box tuple is a tuple value of four integers: the left-edge x-coordinate, the top-edge y-coordinate,the width, and the height, respectively."
      ],
      "metadata": {
        "id": "SkQt0bd9b8z-"
      }
    },
    {
      "cell_type": "markdown",
      "source": [
        "## 4\\. Use your image and load in notebook then, How can you find out the width and height of an Image object?"
      ],
      "metadata": {
        "id": "JjiWFWjyWWoK"
      }
    },
    {
      "cell_type": "code",
      "source": [
        "from PIL import Image\n",
        "\n",
        "pic = Image.open('/content/test.jpg')\n",
        "\n",
        "# pic.width\n",
        "# pic.height\n",
        "width, height = pic.size\n",
        "\n",
        "print(width, height)"
      ],
      "metadata": {
        "colab": {
          "base_uri": "https://localhost:8080/"
        },
        "id": "fa1nxO8UZmhN",
        "outputId": "5f3e32a7-002d-44f6-b5a4-befe769a20f0"
      },
      "execution_count": null,
      "outputs": [
        {
          "output_type": "stream",
          "name": "stdout",
          "text": [
            "171 134\n"
          ]
        }
      ]
    },
    {
      "cell_type": "markdown",
      "source": [
        "## 5\\. What method would you call to get Image object for a 100×100 image, excluding the lower-left quarter of it?"
      ],
      "metadata": {
        "id": "7EJTNk7fWYIa"
      }
    },
    {
      "cell_type": "code",
      "source": [
        "from PIL import Image\n",
        "\n",
        "pic = Image.open('/content/test.jpg')\n",
        "\n",
        "new_pic = pic.crop((0,50,50,50))"
      ],
      "metadata": {
        "id": "xupdAvm3aK9M"
      },
      "execution_count": null,
      "outputs": []
    },
    {
      "cell_type": "markdown",
      "source": [
        "## 6\\. After making changes to an Image object, how could you save it as an image file?"
      ],
      "metadata": {
        "id": "7sPyFgmEWafC"
      }
    },
    {
      "cell_type": "code",
      "source": [
        "from PIL import Image\n",
        "\n",
        "pic = Image.open('/content/test.jpg')\n",
        "\n",
        "pic.save('pic.jpg')"
      ],
      "metadata": {
        "id": "70oHWZ2WaXJk"
      },
      "execution_count": null,
      "outputs": []
    },
    {
      "cell_type": "markdown",
      "source": [
        "## 7\\. What module contains Pillow’s shape-drawing code?"
      ],
      "metadata": {
        "id": "WXtP2JVVWcTi"
      }
    },
    {
      "cell_type": "markdown",
      "source": [
        "**ANS:**\n",
        "- `ImageDraw`"
      ],
      "metadata": {
        "id": "kysyD0rDbA3X"
      }
    },
    {
      "cell_type": "markdown",
      "source": [
        "## 8\\. Image objects do not have drawing methods. What kind of object does? How do you get this kind of object?"
      ],
      "metadata": {
        "id": "N93LxDpGWeCR"
      }
    },
    {
      "cell_type": "markdown",
      "source": [
        "**ANS:**\n",
        "- ImageDraw objects have shape-drawing methods such as `point()`, `line()`, or `rectangle()`.\n",
        "- They are returned by passing the Image object to the `ImageDraw.Draw()` function."
      ],
      "metadata": {
        "id": "ZfeXDWAcbZlm"
      }
    }
  ]
}