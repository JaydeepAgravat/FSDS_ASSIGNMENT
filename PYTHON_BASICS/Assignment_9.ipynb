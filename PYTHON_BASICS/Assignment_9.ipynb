{
  "nbformat": 4,
  "nbformat_minor": 0,
  "metadata": {
    "colab": {
      "provenance": []
    },
    "kernelspec": {
      "name": "python3",
      "display_name": "Python 3"
    },
    "language_info": {
      "name": "python"
    }
  },
  "cells": [
    {
      "cell_type": "markdown",
      "source": [
        "# Assignment 9"
      ],
      "metadata": {
        "id": "0WGmQ3wyT8J3"
      }
    },
    {
      "cell_type": "markdown",
      "source": [
        "## 1\\. To what does a relative path refer?"
      ],
      "metadata": {
        "id": "udz0nydgUEGl"
      }
    },
    {
      "cell_type": "markdown",
      "source": [
        "**ANS:**\n",
        "- The relative path is the path to some file with respect to your current working directory (PWD).\n",
        "- `Example:` if Absolute path to a file called stuff.txt is: C:/users/admin/docs/stuff.txt If my PWD is C:/users/admin/ , then the relative path to stuff.txt would be: docs/stuff.txt\n",
        "- `Note`: PWD + relative path = absolute path"
      ],
      "metadata": {
        "id": "-QXL8MWYU-x9"
      }
    },
    {
      "cell_type": "markdown",
      "source": [
        "## 2\\. What does an absolute path start with your operating system?"
      ],
      "metadata": {
        "id": "UCxokuweUI6-"
      }
    },
    {
      "cell_type": "markdown",
      "source": [
        "**ANS:**\n",
        "- Windows based systems absolute path starts with `C:`"
      ],
      "metadata": {
        "id": "57tjTjZ9VS1u"
      }
    },
    {
      "cell_type": "markdown",
      "source": [
        "## 3\\. What do the functions os.getcwd() and os.chdir() do?"
      ],
      "metadata": {
        "id": "KHobDVM1UNHd"
      }
    },
    {
      "cell_type": "markdown",
      "source": [
        "**ANS:**\n",
        "- `getcwd()` method is used to get the current working directory of a process.\n",
        "- `chdir()` method is used to change the current working directory to specified path. "
      ],
      "metadata": {
        "id": "oSkW-jGSWrNe"
      }
    },
    {
      "cell_type": "code",
      "source": [
        "import os\n",
        "\n",
        "print(os.getcwd())\n",
        "\n",
        "path = '/content/sample_data'\n",
        "\n",
        "os.chdir(path)\n",
        "\n",
        "print(os.getcwd())"
      ],
      "metadata": {
        "colab": {
          "base_uri": "https://localhost:8080/"
        },
        "id": "MqJ_Kf1RVbSM",
        "outputId": "b576ce8c-dfb2-43ea-fb48-a63ee7fd7a83"
      },
      "execution_count": null,
      "outputs": [
        {
          "output_type": "stream",
          "name": "stdout",
          "text": [
            "/content\n",
            "/content/sample_data\n"
          ]
        }
      ]
    },
    {
      "cell_type": "markdown",
      "source": [
        "## 4\\. What are the . and .. folders?"
      ],
      "metadata": {
        "id": "vPxdrGxrURPA"
      }
    },
    {
      "cell_type": "markdown",
      "source": [
        "**ANS:**\n",
        "- `.` Represents the Current Directory\n",
        "- `..` Represents the Parent Directory of the Current Directory\n"
      ],
      "metadata": {
        "id": "XmZDx-zfXhdu"
      }
    },
    {
      "cell_type": "markdown",
      "source": [
        "## 5\\. In C:\\bacon\\eggs\\spam.txt, which part is the dir name, and which part is the base name?"
      ],
      "metadata": {
        "id": "jaH_4GJqUVGO"
      }
    },
    {
      "cell_type": "markdown",
      "source": [
        "**ANS:**\n",
        "- `C:\\bacon\\eggs\\spam.txt`\n",
        "- The dir name is `C:\\bacon\\eggs`\n",
        "- The Base name is `spam.txt`"
      ],
      "metadata": {
        "id": "I5INr0CBYAXU"
      }
    },
    {
      "cell_type": "code",
      "source": [
        "import os\n",
        "x = '/content/sample_data/README.md'\n",
        "print(os.path.dirname(x))\n",
        "print(os.path.basename(x))"
      ],
      "metadata": {
        "colab": {
          "base_uri": "https://localhost:8080/"
        },
        "id": "boSgLeXEX0a9",
        "outputId": "5daacd98-d0f6-41f0-dde9-cd4416d8b864"
      },
      "execution_count": null,
      "outputs": [
        {
          "output_type": "stream",
          "name": "stdout",
          "text": [
            "/content/sample_data\n",
            "README.md\n"
          ]
        }
      ]
    },
    {
      "cell_type": "markdown",
      "source": [
        "## 6\\. What are the three “mode” arguments that can be passed to the open() function?"
      ],
      "metadata": {
        "id": "1g5zocX1UYos"
      }
    },
    {
      "cell_type": "markdown",
      "source": [
        "**ANS:**\n",
        "- A file can be Accessed in python using `open()` function.\n",
        "- open function takes two arguments filename and mode of operation (optional).\n",
        "-  if mode is not provided the default mode of opening is read mode\n",
        "- syntax : `open(filename, mode)`\n",
        "\n",
        "```\n",
        "‘r’ – Read Mode: This is the default mode for open(). The file is opened and a pointer is positioned at the beginning of the file’s content.\n",
        "‘w’ – Write Mode: Using this mode will overwrite any existing content in a file. If the given file does not exist, a new one will be created.\n",
        "‘r+’ – Read/Write Mode: Use this mode if you need to simultaneously read and write to a file.\n",
        "‘a’ – Append Mode: With this mode the user can append the data without overwriting any already existing data in the file.\n",
        "‘a+’ – Append and Read Mode: In this mode you can read and append the data without overwriting the original file.\n",
        "‘x’ – Exclusive Creating Mode: This mode is for the sole purpose of creating new files. \n",
        "Use this mode if you know the file to be written doesn’t exist beforehand.\n",
        "```"
      ],
      "metadata": {
        "id": "ZqnJfTqAYl7U"
      }
    },
    {
      "cell_type": "markdown",
      "source": [
        "## 7\\.  What happens if an existing file is opened in write mode?"
      ],
      "metadata": {
        "id": "Gxy1LpqQUc1O"
      }
    },
    {
      "cell_type": "markdown",
      "source": [
        "**ANS:**\n",
        "- Using this mode will overwrite any existing content in a file.\n",
        "- If the given file does not exist, a new one will be created."
      ],
      "metadata": {
        "id": "I873EkDJZLiH"
      }
    },
    {
      "cell_type": "markdown",
      "source": [
        "## 8\\.  How do you tell the difference between read() and readlines()?"
      ],
      "metadata": {
        "id": "gsoBACn-Uf3s"
      }
    },
    {
      "cell_type": "markdown",
      "source": [
        "**ANS:**\n",
        "- The `read()` method returns the file's entire contents as a single string value.\n",
        "-  The `readlines()` method returns a list of strings, where each string is a line from the file's contents."
      ],
      "metadata": {
        "id": "kzvVmFOJaWt2"
      }
    },
    {
      "cell_type": "markdown",
      "source": [
        "## 9\\. What data structure does a shelf value resemble?"
      ],
      "metadata": {
        "id": "mIrp-e8nUi60"
      }
    },
    {
      "cell_type": "markdown",
      "source": [
        "**ANS:** \n",
        "- it contains key and values.\n",
        "- it represents dictionary like object."
      ],
      "metadata": {
        "id": "sTiCg_FoZWkt"
      }
    }
  ]
}