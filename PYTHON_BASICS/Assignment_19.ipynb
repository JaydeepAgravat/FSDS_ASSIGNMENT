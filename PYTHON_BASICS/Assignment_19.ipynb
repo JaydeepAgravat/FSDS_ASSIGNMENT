{
  "nbformat": 4,
  "nbformat_minor": 0,
  "metadata": {
    "colab": {
      "provenance": [],
      "toc_visible": true
    },
    "kernelspec": {
      "name": "python3",
      "display_name": "Python 3"
    },
    "language_info": {
      "name": "python"
    }
  },
  "cells": [
    {
      "cell_type": "markdown",
      "source": [
        "# Assignment 19"
      ],
      "metadata": {
        "id": "es2rgQDYmN2O"
      }
    },
    {
      "cell_type": "markdown",
      "source": [
        "## 1\\. Make a class called Thing with no contents and print it. Then, create an object called example from this class and also print it. Are the printed values the same or different?"
      ],
      "metadata": {
        "id": "KmTUz4JpmKyw"
      }
    },
    {
      "cell_type": "code",
      "execution_count": null,
      "metadata": {
        "id": "ECYWG3poltr5"
      },
      "outputs": [],
      "source": [
        "class Thing:\n",
        "  pass"
      ]
    },
    {
      "cell_type": "code",
      "source": [
        "example = Thing()\n",
        "print(Thing)\n",
        "print(example)\n",
        "print('different')"
      ],
      "metadata": {
        "colab": {
          "base_uri": "https://localhost:8080/"
        },
        "id": "5ZAhPWTCl96v",
        "outputId": "76381d1b-75fb-474d-914d-54e8b7fa0412"
      },
      "execution_count": null,
      "outputs": [
        {
          "output_type": "stream",
          "name": "stdout",
          "text": [
            "<class '__main__.Thing'>\n",
            "<__main__.Thing object at 0x7fd9cefb69d0>\n",
            "different\n"
          ]
        }
      ]
    },
    {
      "cell_type": "markdown",
      "source": [
        "## 2\\. Create a new class called Thing2 and add the value 'abc' to the letters class attribute. Letters should be printed."
      ],
      "metadata": {
        "id": "hzxHZPFXnM4b"
      }
    },
    {
      "cell_type": "code",
      "source": [
        "class Thing2:\n",
        "  letters = 'abc'\n",
        "\n",
        "print(Thing2.letters)"
      ],
      "metadata": {
        "colab": {
          "base_uri": "https://localhost:8080/"
        },
        "id": "UZM47hC3nQIu",
        "outputId": "e5365255-8782-42ab-de26-91558730f82c"
      },
      "execution_count": null,
      "outputs": [
        {
          "output_type": "stream",
          "name": "stdout",
          "text": [
            "abc\n"
          ]
        }
      ]
    },
    {
      "cell_type": "markdown",
      "source": [
        "## 3\\. Make yet another class called, of course, Thing3. This time, assign the value 'xyz' to an instance (object) attribute called letters. Print letters. Do you need to make an object from the class to do this?"
      ],
      "metadata": {
        "id": "5M6IVxLYoBwr"
      }
    },
    {
      "cell_type": "code",
      "source": [
        "class Thing3:\n",
        "\n",
        "  def __init__(self):\n",
        "    self.letters = 'xyz'\n",
        "\n",
        "ex = Thing3()\n",
        "print(ex.letters)"
      ],
      "metadata": {
        "colab": {
          "base_uri": "https://localhost:8080/"
        },
        "id": "3grZceL5noi9",
        "outputId": "9873212e-4620-401f-f1cd-119126c4e262"
      },
      "execution_count": null,
      "outputs": [
        {
          "output_type": "stream",
          "name": "stdout",
          "text": [
            "xyz\n"
          ]
        }
      ]
    },
    {
      "cell_type": "markdown",
      "source": [
        "## 4\\. Create an Element class with the instance attributes name, symbol, and number. Create a class object with the values 'Hydrogen,' 'H,' and 1."
      ],
      "metadata": {
        "id": "koyb1f1VohoF"
      }
    },
    {
      "cell_type": "code",
      "source": [
        "class Element:\n",
        "\n",
        "  def __init__(self, name, symbol, number):\n",
        "    self.name = name\n",
        "    self.symbol = symbol\n",
        "    self.number = number\n",
        "\n",
        "ex = Element('Hydrogen', 'H', 1)"
      ],
      "metadata": {
        "id": "_Tf_YyIYojkT"
      },
      "execution_count": null,
      "outputs": []
    },
    {
      "cell_type": "markdown",
      "source": [
        "## 5\\. Make a dictionary with these keys and values: 'name': 'Hydrogen', 'symbol': 'H', 'number': 1. Then, create an object called hydrogen from class Element using this dictionary."
      ],
      "metadata": {
        "id": "i_Swk0PDpWea"
      }
    },
    {
      "cell_type": "code",
      "source": [
        "dic = {\n",
        "    'name': 'Hydrogen',\n",
        "    'symbol': 'H',\n",
        "    'number': 1\n",
        "}\n",
        "\n",
        "hydrogen = Element(**dic)"
      ],
      "metadata": {
        "id": "uOIATlN8pVKL"
      },
      "execution_count": null,
      "outputs": []
    },
    {
      "cell_type": "markdown",
      "source": [
        "## 6\\. For the Element class, define a method called dump() that prints the values of the object’s attributes (name, symbol, and number). Create the hydrogen object from this new definition and use dump() to print its attributes."
      ],
      "metadata": {
        "id": "5vssPphVqLOy"
      }
    },
    {
      "cell_type": "code",
      "source": [
        "class Element:\n",
        "\n",
        "  def __init__(self, name, symbol, number):\n",
        "    self.name = name\n",
        "    self.symbol = symbol\n",
        "    self.number = number\n",
        "  \n",
        "  def dump(self):\n",
        "    print(f'''\n",
        "    name   : {self.name}\n",
        "    symbol : {self.symbol}\n",
        "    number : {self.number}\n",
        "    ''')\n",
        "\n",
        "hydrogen = Element('Hydrogen', 'H', 1)\n",
        "hydrogen.dump()"
      ],
      "metadata": {
        "colab": {
          "base_uri": "https://localhost:8080/"
        },
        "id": "0AtCejXvqN6q",
        "outputId": "65928e6e-a6df-49bd-a543-40795da5fd87"
      },
      "execution_count": null,
      "outputs": [
        {
          "output_type": "stream",
          "name": "stdout",
          "text": [
            "\n",
            "    name   : Hydrogen\n",
            "    symbol : H\n",
            "    number : 1\n",
            "    \n"
          ]
        }
      ]
    },
    {
      "cell_type": "markdown",
      "source": [
        "## 7\\. Call print(hydrogen). In the definition of Element, change the name of method dump to __str__, create a new hydrogen object, and call print(hydrogen) again."
      ],
      "metadata": {
        "id": "3VxUyQ23rCzy"
      }
    },
    {
      "cell_type": "code",
      "source": [
        "class Element:\n",
        "\n",
        "  def __init__(self, name, symbol, number):\n",
        "    self.name = name\n",
        "    self.symbol = symbol\n",
        "    self.number = number\n",
        "  \n",
        "  def __str__(self):\n",
        "    return f'''\n",
        "    name   : {self.name}\n",
        "    symbol : {self.symbol}\n",
        "    number : {self.number}\n",
        "    '''\n",
        "\n",
        "hydrogen = Element('Hydrogen', 'H', 1)\n",
        "\n",
        "print(hydrogen)"
      ],
      "metadata": {
        "colab": {
          "base_uri": "https://localhost:8080/"
        },
        "id": "kpPLJGZnrGth",
        "outputId": "ded38313-25a0-480d-964d-b5d6472a6e91"
      },
      "execution_count": null,
      "outputs": [
        {
          "output_type": "stream",
          "name": "stdout",
          "text": [
            "\n",
            "    name   : Hydrogen\n",
            "    symbol : H\n",
            "    number : 1\n",
            "    \n"
          ]
        }
      ]
    },
    {
      "cell_type": "markdown",
      "source": [
        "##  8\\. Modify Element to make the attributes name, symbol, and number private. Define a getter property for each to return its value."
      ],
      "metadata": {
        "id": "35aM2L-mrhSh"
      }
    },
    {
      "cell_type": "code",
      "source": [
        "class Element:\n",
        "\n",
        "  def __init__(self, name, symbol, number):\n",
        "    self.__name = name\n",
        "    self.__symbol = symbol\n",
        "    self.__number = number\n",
        "  \n",
        "  def get_name(self):\n",
        "    return self.__name\n",
        "\n",
        "  def get_symbol(self):\n",
        "    return self.__symbol\n",
        "\n",
        "  def get_number(self):\n",
        "    return self.__number\n",
        "  \n",
        "  def __str__(self):\n",
        "    return f'''\n",
        "    name   : {self.get_name()}\n",
        "    symbol : {self.get_symbol()}\n",
        "    number : {self.get_number()}\n",
        "    '''\n",
        "\n",
        "hydrogen = Element('Hydrogen', 'H', 1)\n",
        "\n",
        "print(hydrogen)"
      ],
      "metadata": {
        "colab": {
          "base_uri": "https://localhost:8080/"
        },
        "id": "xICUS5Virj-B",
        "outputId": "9a901e35-4bb4-4db3-d7f7-a571fad9998f"
      },
      "execution_count": null,
      "outputs": [
        {
          "output_type": "stream",
          "name": "stdout",
          "text": [
            "\n",
            "    name   : Hydrogen\n",
            "    symbol : H\n",
            "    number : 1\n",
            "    \n"
          ]
        }
      ]
    },
    {
      "cell_type": "markdown",
      "source": [
        "## 9\\. Define three classes: Bear, Rabbit, and Octothorpe. For each, define only one method: eats(). This should return 'berries' (Bear), 'clover' (Rabbit), or 'campers' (Octothorpe). Create one object from each and print what it eats."
      ],
      "metadata": {
        "id": "DfN2UD2Rv3Tl"
      }
    },
    {
      "cell_type": "code",
      "source": [
        "class Bear:\n",
        "  def eats(self):\n",
        "    return 'berries'\n",
        "\n",
        "class Rabbit:\n",
        "   def eats(self):\n",
        "    return 'clover'\n",
        "\n",
        "class Octothorpe:\n",
        "   def eats(self):\n",
        "    return 'campers'\n",
        "\n",
        "bear = Bear()\n",
        "rabbit = Rabbit()\n",
        "octothrope = Octothorpe()\n",
        "\n",
        "print(bear.eats())\n",
        "print(rabbit.eats())\n",
        "print(octothrope.eats())"
      ],
      "metadata": {
        "colab": {
          "base_uri": "https://localhost:8080/"
        },
        "id": "kjUZj23Xv-ux",
        "outputId": "1554d261-f596-4cdd-8ea8-a14d3f1fc239"
      },
      "execution_count": null,
      "outputs": [
        {
          "output_type": "stream",
          "name": "stdout",
          "text": [
            "berries\n",
            "clover\n",
            "campers\n"
          ]
        }
      ]
    },
    {
      "cell_type": "markdown",
      "source": [
        "## 10\\. Define these classes: Laser, Claw, and SmartPhone. Each has only one method: does(). This returns 'disintegrate' (Laser), 'crush' (Claw), or 'ring' (SmartPhone). Then, define the class Robot that has one instance (object) of each of these. Define a does() method for the Robot that prints what its component objects do."
      ],
      "metadata": {
        "id": "RXEJP3Vmv7kf"
      }
    },
    {
      "cell_type": "code",
      "source": [
        "class Laser:\n",
        "    def does(self):\n",
        "        return 'disintegrate'\n",
        "class Claw:\n",
        "    def does(self):\n",
        "        return 'crush'\n",
        "class Smartphone:\n",
        "    def does(self):\n",
        "        return 'ring'\n",
        "class Robot:\n",
        "    def __init__(self):\n",
        "        self.laser = Laser()\n",
        "        self.claw = Claw()\n",
        "        self.smartphone = Smartphone()\n",
        "    def does(self):\n",
        "        print(self.laser.does(),self.claw.does(),self.smartphone.does())\n",
        "        \n",
        "r2d2 = Robot()\n",
        "r2d2.does()"
      ],
      "metadata": {
        "id": "yyTXB7-Xl__p",
        "colab": {
          "base_uri": "https://localhost:8080/"
        },
        "outputId": "107ebaaf-9e98-4a86-aead-e712adc96b40"
      },
      "execution_count": null,
      "outputs": [
        {
          "output_type": "stream",
          "name": "stdout",
          "text": [
            "disintegrate crush ring\n"
          ]
        }
      ]
    }
  ]
}