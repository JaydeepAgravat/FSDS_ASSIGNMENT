{
  "nbformat": 4,
  "nbformat_minor": 0,
  "metadata": {
    "colab": {
      "provenance": []
    },
    "kernelspec": {
      "name": "python3",
      "display_name": "Python 3"
    },
    "language_info": {
      "name": "python"
    }
  },
  "cells": [
    {
      "cell_type": "markdown",
      "source": [
        "# Assignment 8"
      ],
      "metadata": {
        "id": "MplX97ADaKFc"
      }
    },
    {
      "cell_type": "markdown",
      "source": [
        "## 1\\.Is the Python Standard Library included with PyInputPlus?"
      ],
      "metadata": {
        "id": "o1uWnxZyaRPc"
      }
    },
    {
      "cell_type": "markdown",
      "source": [
        "**ANS**\n",
        "- No, PyInputPlus is not a part of Python Standard Library.\n",
        "- , it needs to be installed explicitly using the command `!pip install PyInputPlus`"
      ],
      "metadata": {
        "id": "Qq5XFFfQbBdE"
      }
    },
    {
      "cell_type": "code",
      "source": [
        "# !pip install PyInputPlus"
      ],
      "metadata": {
        "id": "H-NQFF9kcMYU"
      },
      "execution_count": null,
      "outputs": []
    },
    {
      "cell_type": "markdown",
      "source": [
        "## 2\\.Why is PyInputPlus commonly imported with import pyinputplus as pypi?"
      ],
      "metadata": {
        "id": "hSRoLedlaT6M"
      }
    },
    {
      "cell_type": "markdown",
      "source": [
        "**ANS:**\n",
        "- You can import the module with `import pyinputplus as pyip` so that you can enter a shorter name when calling the module's functions."
      ],
      "metadata": {
        "id": "-F4hJcdpbPra"
      }
    },
    {
      "cell_type": "code",
      "source": [
        "# import pyinputplus as pyip"
      ],
      "metadata": {
        "id": "SUmGlgNPcRc8"
      },
      "execution_count": null,
      "outputs": []
    },
    {
      "cell_type": "markdown",
      "source": [
        "## 3\\.How do you distinguish between inputInt() and inputFloat()?"
      ],
      "metadata": {
        "id": "u82VJvKTaYNH"
      }
    },
    {
      "cell_type": "markdown",
      "source": [
        "**Ans:**\n",
        "- `inputInt()` function Accepts an `integer value`. This also takes additional parameters min, max, greaterThan and lessThan for bounds. And it always returns an `int`.\n",
        "\n",
        "- `inputFloat()` function Accepts a `floating-point numeric value`. this also takes additional min, max, greaterThan and lessThan parameters. and always returns a `float`."
      ],
      "metadata": {
        "id": "_XTQKPIubssr"
      }
    },
    {
      "cell_type": "markdown",
      "source": [
        "## 4\\.Using PyInputPlus, how do you ensure that the user enters a whole number between 0 and 99?"
      ],
      "metadata": {
        "id": "txaGQCdIaaxm"
      }
    },
    {
      "cell_type": "code",
      "source": [
        "# wn = pyip.inputInt(prompt='Enter a Number : ',min=1, max=98)\n",
        "# print(wn)\n",
        "# print(type(wn))"
      ],
      "metadata": {
        "id": "GEU9v7KbcfLN"
      },
      "execution_count": null,
      "outputs": []
    },
    {
      "cell_type": "markdown",
      "source": [
        "## 5\\.What is transferred to the keyword arguments allowRegexes and blockRegexes?"
      ],
      "metadata": {
        "id": "ZdYnGZu6aao-"
      }
    },
    {
      "cell_type": "markdown",
      "source": [
        "**ANS:**\n",
        "- we can use `allowRegexes` and `blockRegexes` keyword arguments to take list of regular expression strings to determine what the pyinputplus function will reject or accept valid input."
      ],
      "metadata": {
        "id": "5SiZZc9jhy8b"
      }
    },
    {
      "cell_type": "code",
      "source": [
        "# num1 = pyip.inputNum(prompt='Enter Roman Number : ',allowRegexes=[r'(I|V|X|L|C|D|M)+', r'zero'])\n",
        "# print(num1)\n",
        "\n",
        "# num2 = pyip.inputNum(prompt='Enter Simple Number : ',blockRegexes=[r'(I|V|X|L|C|D|M)+', r'zero'])\n",
        "# print(num2)"
      ],
      "metadata": {
        "id": "zKIPYOIxfPqd"
      },
      "execution_count": null,
      "outputs": []
    },
    {
      "cell_type": "markdown",
      "source": [
        "## 6\\.If a blank input is entered three times, what does inputStr(limit=3) do?"
      ],
      "metadata": {
        "id": "nNx8bOL7aeyQ"
      }
    },
    {
      "cell_type": "markdown",
      "source": [
        "**ANS:**\n",
        "-  The statement `inputStr(limit=3)` will throw two exceptions `ValidationException` and `RetryLimitException`. The first exception is thrown because blank values are not allowed by `inputStr()` function by default. it we want to consider blank values as valid input, we have to set `blank=True`.\n",
        "\n",
        "- The second exception is occured because we have reached the max limit we have specified by using `limit` parameter. inorder to avoid this exception we can use default parameter to return a default value when max limit is reached."
      ],
      "metadata": {
        "id": "bNLza5BpjumB"
      }
    },
    {
      "cell_type": "code",
      "source": [
        "# s = pyip.inputStr(limit=3)\n",
        "# print(s)\n",
        "# print(type(s))"
      ],
      "metadata": {
        "id": "3xbPmuCViBfY"
      },
      "execution_count": null,
      "outputs": []
    },
    {
      "cell_type": "markdown",
      "source": [
        "## 7\\.If blank input is entered three times, what does inputStr(limit=3, default='hello') do?"
      ],
      "metadata": {
        "id": "zRkCSIjRag6l"
      }
    },
    {
      "cell_type": "markdown",
      "source": [
        "**ANS:**\n",
        "-  Since the default parameter is set to hello. after blank input is entered three times instead of raising `RetryLimitException` exception. the function will return `hello` as response to the calling function"
      ],
      "metadata": {
        "id": "Txv6WUT7kBva"
      }
    },
    {
      "cell_type": "code",
      "source": [
        "# s = pyip.inputStr(limit=3, default='hello')\n",
        "# print(s)\n",
        "# print(type(s))"
      ],
      "metadata": {
        "id": "U2O5WY_1iXeC"
      },
      "execution_count": null,
      "outputs": []
    }
  ]
}