{
  "nbformat": 4,
  "nbformat_minor": 0,
  "metadata": {
    "colab": {
      "provenance": [],
      "toc_visible": true
    },
    "kernelspec": {
      "name": "python3",
      "display_name": "Python 3"
    },
    "language_info": {
      "name": "python"
    }
  },
  "cells": [
    {
      "cell_type": "markdown",
      "source": [
        "# Assignment 13"
      ],
      "metadata": {
        "id": "D0gRDXFWLrLo"
      }
    },
    {
      "cell_type": "markdown",
      "source": [
        "## 1\\. What advantages do Excel spreadsheets have over CSV spreadsheets?"
      ],
      "metadata": {
        "id": "jutK47t_LynJ"
      }
    },
    {
      "cell_type": "markdown",
      "source": [
        "**ANS:**\n",
        "-  Excel spreadsheets offer more features and functionality than CSV spreadsheets.\n",
        "- Excel allows you to set up data validation rules to ensure that data is entered correctly. This is not possible in a CSV spreadsheet.\n",
        "- Excel can create charts and graphs, this is not possible in a CSV spreadsheet.\n",
        "- Excel allows you to create pivot tables that summarize and analyze large amounts of data."
      ],
      "metadata": {
        "id": "zfl6XfPUQxoh"
      }
    },
    {
      "cell_type": "markdown",
      "source": [
        "## 2\\. What do you pass to csv.reader() and csv.writer() to create reader and writer objects?"
      ],
      "metadata": {
        "id": "-IqsOUIVL1V6"
      }
    },
    {
      "cell_type": "markdown",
      "source": [
        "**ANS:**\n",
        "- pass file objects to the `csv.reader()` and `csv.writer()` functions."
      ],
      "metadata": {
        "id": "Qx4Ub9FeSiBp"
      }
    },
    {
      "cell_type": "code",
      "source": [
        "import csv\n",
        "\n",
        "data = [\n",
        "    ['Name', 'Age', 'City'],\n",
        "    ['John', 30, 'New York'],\n",
        "    ['Jane', 25, 'Chicago'],\n",
        "    ['Bob', 40, 'San Francisco']\n",
        "]\n",
        "\n",
        "with open('output.csv', 'w', newline='') as file:\n",
        "    writer = csv.writer(file)\n",
        "    for row in data:\n",
        "        writer.writerow(row)"
      ],
      "metadata": {
        "id": "2wGfDLP_Tb27"
      },
      "execution_count": null,
      "outputs": []
    },
    {
      "cell_type": "code",
      "source": [
        "import csv\n",
        "with open('/content/output.csv', 'r') as file:\n",
        "    reader = csv.reader(file)\n",
        "    for row in reader:\n",
        "        print(row)"
      ],
      "metadata": {
        "colab": {
          "base_uri": "https://localhost:8080/"
        },
        "id": "trSpr8ctSliW",
        "outputId": "ee4f6808-3e77-46ad-e76d-31058c128ac4"
      },
      "execution_count": null,
      "outputs": [
        {
          "output_type": "stream",
          "name": "stdout",
          "text": [
            "['Name', 'Age', 'City']\n",
            "['John', '30', 'New York']\n",
            "['Jane', '25', 'Chicago']\n",
            "['Bob', '40', 'San Francisco']\n"
          ]
        }
      ]
    },
    {
      "cell_type": "markdown",
      "source": [
        "## 3\\. What modes do File objects for reader and writer objects need to be opened in?"
      ],
      "metadata": {
        "id": "WZLX8rsFL38S"
      }
    },
    {
      "cell_type": "markdown",
      "source": [
        "**ANS:**\n",
        "- `csv.reader()`\n",
        "  - `r` -> read mode\n",
        "- `csv.writer()`\n",
        "  - `w` -> write mode\n",
        "  - `a` -> append mode"
      ],
      "metadata": {
        "id": "SVV5kD82VCLJ"
      }
    },
    {
      "cell_type": "code",
      "source": [
        "import csv\n",
        "with open('/content/output.csv', 'r') as file:\n",
        "    reader = csv.reader(file)\n",
        "    for row in reader:\n",
        "        print(row)"
      ],
      "metadata": {
        "colab": {
          "base_uri": "https://localhost:8080/"
        },
        "id": "fLsEp0Z8VUIO",
        "outputId": "7ae47062-f45f-4412-ae1d-57f4a7a6beee"
      },
      "execution_count": null,
      "outputs": [
        {
          "output_type": "stream",
          "name": "stdout",
          "text": [
            "['Name', 'Age', 'City']\n",
            "['John', '30', 'New York']\n",
            "['Jane', '25', 'Chicago']\n",
            "['Bob', '40', 'San Francisco']\n"
          ]
        }
      ]
    },
    {
      "cell_type": "markdown",
      "source": [
        "## 4\\. What method takes a list argument and writes it to a CSV file?"
      ],
      "metadata": {
        "id": "2M12gHlQMGWQ"
      }
    },
    {
      "cell_type": "markdown",
      "source": [
        "**ANS:**\n",
        "- `writerow()`\n",
        "- `writerows()`"
      ],
      "metadata": {
        "id": "ENkW6bPjV7g5"
      }
    },
    {
      "cell_type": "code",
      "source": [
        "# Example Program\n",
        "import csv      \n",
        "rows = [\n",
        "            ['Name', 'Branch', 'GPA'], \n",
        "            ['x', 'COE', '9.0'],   \n",
        "            ['y', 'COE', '9.1'], \n",
        "            ['z', 'IT', '9.3']\n",
        "       ] \n",
        "with open(\"my.csv\", 'w') as csvfile: \n",
        "    csvwriter = csv.writer(csvfile) \n",
        "    csvwriter.writerows(rows) "
      ],
      "metadata": {
        "id": "hH1EItVUWPxR"
      },
      "execution_count": null,
      "outputs": []
    },
    {
      "cell_type": "markdown",
      "source": [
        "## 5\\. What do the keyword arguments delimiter and line terminator do?"
      ],
      "metadata": {
        "id": "mVZLzBO3MJhA"
      }
    },
    {
      "cell_type": "markdown",
      "source": [
        "**ANS:**\n",
        "- `delimiter`: This specifies the character used to separate fields in a CSV file. by default is `,`.\n",
        "- `lineterminator`: This specifies the character used to terminate lines in a CSV file. by default is `\\r\\n`."
      ],
      "metadata": {
        "id": "DjZEPheZY6nT"
      }
    },
    {
      "cell_type": "markdown",
      "source": [
        "## 6\\. What function takes a string of JSON data and returns a Python data structure?"
      ],
      "metadata": {
        "id": "DZlKP1ywMMYn"
      }
    },
    {
      "cell_type": "markdown",
      "source": [
        "**ANS:**\n",
        "- `loads()`"
      ],
      "metadata": {
        "id": "0CBoHWb2ZzRM"
      }
    },
    {
      "cell_type": "code",
      "source": [
        "import json\n",
        "\n",
        "# JSON string\n",
        "json_string = '{\"name\": \"John\", \"age\": 30, \"city\": \"New York\"}'\n",
        "\n",
        "# convert the JSON string to a Python dictionary\n",
        "data = json.loads(json_string)\n",
        "\n",
        "print(data)\n",
        "\n",
        "print(type(data))"
      ],
      "metadata": {
        "colab": {
          "base_uri": "https://localhost:8080/"
        },
        "id": "3vVTPpxSZ3Yq",
        "outputId": "87d54a65-cf5b-4592-a55e-e5b7180b691e"
      },
      "execution_count": null,
      "outputs": [
        {
          "output_type": "stream",
          "name": "stdout",
          "text": [
            "{'name': 'John', 'age': 30, 'city': 'New York'}\n",
            "<class 'dict'>\n"
          ]
        }
      ]
    },
    {
      "cell_type": "markdown",
      "source": [
        "## 7\\. What function takes a Python data structure and returns a string of JSON data?"
      ],
      "metadata": {
        "id": "gSq8U57LMPWo"
      }
    },
    {
      "cell_type": "markdown",
      "source": [
        "**ANS:**\n",
        "- `dumps()`"
      ],
      "metadata": {
        "id": "yGdG0t5jaagk"
      }
    },
    {
      "cell_type": "code",
      "execution_count": null,
      "metadata": {
        "colab": {
          "base_uri": "https://localhost:8080/"
        },
        "id": "-t7jkOP4LjaI",
        "outputId": "25acad07-df4d-458e-ab1d-a43bdc2dc5ab"
      },
      "outputs": [
        {
          "output_type": "stream",
          "name": "stdout",
          "text": [
            "{\"name\": \"John\", \"age\": 30, \"city\": \"New York\"}\n",
            "<class 'str'>\n"
          ]
        }
      ],
      "source": [
        "import json\n",
        "\n",
        "data = {\n",
        "    \"name\": \"John\",\n",
        "    \"age\": 30,\n",
        "    \"city\": \"New York\"\n",
        "}\n",
        "\n",
        "# convert the dictionary to a JSON string\n",
        "json_string = json.dumps(data)\n",
        "\n",
        "# print the result\n",
        "print(json_string)\n",
        "print(type(json_string))"
      ]
    }
  ]
}