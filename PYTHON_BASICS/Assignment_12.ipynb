{
  "nbformat": 4,
  "nbformat_minor": 0,
  "metadata": {
    "colab": {
      "provenance": []
    },
    "kernelspec": {
      "name": "python3",
      "display_name": "Python 3"
    },
    "language_info": {
      "name": "python"
    }
  },
  "cells": [
    {
      "cell_type": "markdown",
      "source": [
        "# Assignment 12"
      ],
      "metadata": {
        "id": "2HtQ1DXseP8R"
      }
    },
    {
      "cell_type": "markdown",
      "source": [
        "## 1\\. In what modes should the PdfFileReader() and PdfFileWriter() File objects will be opened?"
      ],
      "metadata": {
        "id": "Vcmk1_njeVco"
      }
    },
    {
      "cell_type": "markdown",
      "source": [
        "**ANS:**\n",
        "- PdfFileReader() -> `rb` = read binary mode\n",
        "- PdfFileWriter() -> `wb` = write binary mode"
      ],
      "metadata": {
        "id": "iNwWHAeqee_w"
      }
    },
    {
      "cell_type": "code",
      "source": [
        "# !pip install PyPDF2"
      ],
      "metadata": {
        "id": "rCf_8rbkgTXF"
      },
      "execution_count": null,
      "outputs": []
    },
    {
      "cell_type": "markdown",
      "source": [
        "## 2\\. From a PdfFileReader object, how do you get a Page object for page 5?"
      ],
      "metadata": {
        "id": "NJiAuQome31o"
      }
    },
    {
      "cell_type": "code",
      "source": [
        "from PyPDF2 import PdfReader\n",
        "\n",
        "reader = PdfReader('/content/sample.pdf')\n",
        "\n",
        "page_number = 4\n",
        "\n",
        "page = reader.pages[page_number]\n",
        "\n",
        "print(type(page))\n",
        "print(len(reader.pages))\n",
        "print(page.extract_text()[:100])"
      ],
      "metadata": {
        "colab": {
          "base_uri": "https://localhost:8080/"
        },
        "id": "N7P3laVPfdN4",
        "outputId": "0b5e4999-dc56-420e-ea36-56b1073a844b"
      },
      "execution_count": null,
      "outputs": [
        {
          "output_type": "stream",
          "name": "stdout",
          "text": [
            "<class 'PyPDF2._page.PageObject'>\n",
            "10\n",
            "Chapter 1\n",
            "Template\n",
            "1.1 How to compilea .texﬁleto a.pdfﬁle\n",
            "1.1.1 Tools\n",
            "To processthe ﬁlesyou(may)need\n"
          ]
        }
      ]
    },
    {
      "cell_type": "markdown",
      "source": [
        "## 3\\. What PdfFileReader variable stores the number of pages in the PDF document?"
      ],
      "metadata": {
        "id": "tTdPuBflj-rw"
      }
    },
    {
      "cell_type": "code",
      "source": [
        "len(reader.pages)"
      ],
      "metadata": {
        "colab": {
          "base_uri": "https://localhost:8080/"
        },
        "id": "2qBULKIXkiFN",
        "outputId": "276c3258-8e29-4492-c9aa-6efc59fe36d0"
      },
      "execution_count": null,
      "outputs": [
        {
          "output_type": "execute_result",
          "data": {
            "text/plain": [
              "10"
            ]
          },
          "metadata": {},
          "execution_count": 21
        }
      ]
    },
    {
      "cell_type": "markdown",
      "source": [
        "## 4\\. If a PdfFileReader object’s PDF is encrypted with the password swordfish, what must you do before you can obtain Page objects from it?"
      ],
      "metadata": {
        "id": "SYjMp49Smj-R"
      }
    },
    {
      "cell_type": "code",
      "source": [
        "from PyPDF2 import PdfReader, PdfWriter\n",
        "\n",
        "reader = PdfReader(\"/content/sample.pdf\")\n",
        "writer = PdfWriter()\n",
        "\n",
        "# Add a password to the new PDF\n",
        "writer.encrypt(\"swordfish\")\n",
        "\n",
        "# Add all pages to the writer\n",
        "for page in reader.pages:\n",
        "    writer.add_page(page)\n",
        "\n",
        "# Save the new PDF to a file\n",
        "with open(\"encrypted.pdf\", \"wb\") as f:\n",
        "    writer.write(f)"
      ],
      "metadata": {
        "id": "ehjU_Tvbo9jo"
      },
      "execution_count": null,
      "outputs": []
    },
    {
      "cell_type": "code",
      "source": [
        "# for i in reader.pages:\n",
        "#   print(i.extract_text())"
      ],
      "metadata": {
        "id": "SH7rrkljwNPp"
      },
      "execution_count": null,
      "outputs": []
    },
    {
      "cell_type": "code",
      "source": [
        "from PyPDF2 import PdfReader\n",
        "\n",
        "reader = PdfReader('/content/encrypted.pdf')\n",
        "\n",
        "if reader.is_encrypted:\n",
        "    reader.decrypt(\"swordfish\")\n",
        "\n",
        "print(reader.pages[0].extract_text())\n",
        "print(len(reader.pages))"
      ],
      "metadata": {
        "colab": {
          "base_uri": "https://localhost:8080/"
        },
        "id": "VNFP-RP1moEs",
        "outputId": "d0ea3038-75fd-45bd-c122-bbd944cbb812"
      },
      "execution_count": null,
      "outputs": [
        {
          "output_type": "stream",
          "name": "stdout",
          "text": [
            "Sample PDF Document\n",
            "RobertMaron\n",
            "Grzegorz Grudzi ´nski\n",
            "February20, 1999\n",
            "10\n"
          ]
        }
      ]
    },
    {
      "cell_type": "markdown",
      "source": [
        "## 5\\. What methods do you use to rotate a page?"
      ],
      "metadata": {
        "id": "nwLfC7RpqLwG"
      }
    },
    {
      "cell_type": "code",
      "source": [
        "from PyPDF2 import PdfReader, PdfWriter\n",
        "\n",
        "reader = PdfReader(\"/content/test.pdf\")\n",
        "writer = PdfWriter()\n",
        "\n",
        "s = reader.pages[0].rotate(90)\n",
        "\n",
        "writer.add_page(s)\n",
        "\n",
        "with open(\"ro.pdf\", \"wb\") as f:\n",
        "    writer.write(f)"
      ],
      "metadata": {
        "id": "RFoPnJxvrxm9"
      },
      "execution_count": null,
      "outputs": []
    },
    {
      "cell_type": "markdown",
      "source": [
        "## 6\\. What is the difference between a Run object and a Paragraph object?"
      ],
      "metadata": {
        "id": "LieP981ntE0y"
      }
    },
    {
      "cell_type": "markdown",
      "source": [
        "**ANS:**\n",
        "\n",
        "- The structure of a document is represented by `three` different data types in python-Docx. At the highest level, a `Document object` represents the entire document. The Document object contains a list of `Paragraph objects` for the paragraphs in the document. (A new paragraph begins whenever the user presses ENTER or RETURN while typing in a Word document.) \n",
        "\n",
        "- Each of these Paragraph objects contains a list of one or more `Run objects`. The text in a Word document is more than just a string. It has font, size, color, and other styling information associated with it. A style in Word is a collection of these attributes. A Run object is a contiguous run of text with the same style. A new Run object is needed whenever the text style changes."
      ],
      "metadata": {
        "id": "gwOwf8ka_OEJ"
      }
    },
    {
      "cell_type": "code",
      "source": [
        "# !pip install python-docx"
      ],
      "metadata": {
        "id": "CW2Anh-HzC3m"
      },
      "execution_count": null,
      "outputs": []
    },
    {
      "cell_type": "markdown",
      "source": [
        "## 7\\. How do you obtain a list of Paragraph objects for a Document object that’s stored in a variable named doc?"
      ],
      "metadata": {
        "id": "_2Vymb3ZzsWN"
      }
    },
    {
      "cell_type": "code",
      "source": [
        "# from docx import Document\n",
        "\n",
        "# doc = Document('/content/Assignment_12.docx')\n",
        "\n",
        "# list_of_paragraphs_obj = doc.paragraphs\n",
        "\n",
        "# print(len(list_of_paragraphs_obj))\n",
        "\n",
        "# for paragraph in list_of_paragraphs_obj:\n",
        "#   print(paragraph.text)"
      ],
      "metadata": {
        "id": "M-OgmPt6zruU"
      },
      "execution_count": null,
      "outputs": []
    },
    {
      "cell_type": "markdown",
      "source": [
        "## 8\\. What type of object has bold, underline, italic, strike, and outline variables?"
      ],
      "metadata": {
        "id": "Ij9ce7GV1u_i"
      }
    },
    {
      "cell_type": "markdown",
      "source": [
        "**ANS:**\n",
        "- Run object has bold, underline, italic, strike, and outline variables. \n",
        "- The text in a Word document is more than just a string.\n",
        "- A Run object is a contiguous run of text with the same style."
      ],
      "metadata": {
        "id": "Sfl9DweJ_62j"
      }
    },
    {
      "cell_type": "markdown",
      "source": [
        "## 9\\. What is the difference between False, True, and None for the bold variable?"
      ],
      "metadata": {
        "id": "B0gf9syZ11qj"
      }
    },
    {
      "cell_type": "markdown",
      "source": [
        "**ANS:**\n",
        "- bold = `True` -> style set to Bold\n",
        "- bold = `False` -> style not set to Bold\n",
        "- bold = `None` -> style is not applicable"
      ],
      "metadata": {
        "id": "VMNv6KV_AQ0Q"
      }
    },
    {
      "cell_type": "markdown",
      "source": [
        "\n",
        "## 10\\. How do you create a Document object for a new Word document?"
      ],
      "metadata": {
        "id": "YthiWtqN16dz"
      }
    },
    {
      "cell_type": "markdown",
      "source": [
        "**ANS:**\n",
        "- `Document()`"
      ],
      "metadata": {
        "id": "fpIDVth77_lc"
      }
    },
    {
      "cell_type": "code",
      "source": [
        "from docx import Document\n",
        "\n",
        "document = Document()\n",
        "document.add_paragraph('FSDS 2.0')\n",
        "document.save('test.docx')"
      ],
      "metadata": {
        "id": "8kSPm0IY2MnE"
      },
      "execution_count": null,
      "outputs": []
    },
    {
      "cell_type": "markdown",
      "source": [
        "## 11\\. How do you add a paragraph with the text 'Hello, there!' to a Document object stored in a variable named doc?"
      ],
      "metadata": {
        "id": "QOqzT-F52AdA"
      }
    },
    {
      "cell_type": "markdown",
      "source": [
        "**ANS:**\n",
        "- `add_paragraph(text='', style=None)`\n",
        "- This method return a paragraph newly added to the end of the document, populated with `text` and having paragraph style `style`."
      ],
      "metadata": {
        "id": "KVVSswUi7Rd_"
      }
    },
    {
      "cell_type": "code",
      "source": [
        "from docx import Document\n",
        "\n",
        "doc = Document()\n",
        "doc.add_paragraph('Hello, there!')\n",
        "doc.save('hello.docx')"
      ],
      "metadata": {
        "id": "0Tk1BAD22mBZ"
      },
      "execution_count": null,
      "outputs": []
    },
    {
      "cell_type": "markdown",
      "source": [
        "## 12\\. What integers represent the levels of headings available in Word documents?"
      ],
      "metadata": {
        "id": "cobe_evS2FJw"
      }
    },
    {
      "cell_type": "markdown",
      "source": [
        "**ANS:**\n",
        "- `add_heading(text=\"\",level=1)`\n",
        "- Return a heading paragraph newly added to the end of the document.\n",
        "- The heading paragraph will contain `text` and have its paragraph style determined by `level`.\n",
        "- If level is `0`, the style is set to `Title`. If level is `1` (or omitted), `Heading 1` is used. Otherwise the style is set to `Heading {level}`.\n",
        "- Raises ValueError if level is outside the range `0-9`."
      ],
      "metadata": {
        "id": "hj5rPlhv5Q45"
      }
    },
    {
      "cell_type": "code",
      "source": [
        "from docx import Document\n",
        "\n",
        "doc = Document()\n",
        "doc.add_heading('Title',level=0)\n",
        "doc.add_heading('h1')\n",
        "doc.add_paragraph('Hello, there!')\n",
        "doc.add_heading('h2',level=2)\n",
        "doc.save('head.docx')"
      ],
      "metadata": {
        "id": "emzVKbJN5MSb"
      },
      "execution_count": null,
      "outputs": []
    }
  ]
}