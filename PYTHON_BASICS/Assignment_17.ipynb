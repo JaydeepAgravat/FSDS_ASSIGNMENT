{
  "nbformat": 4,
  "nbformat_minor": 0,
  "metadata": {
    "colab": {
      "provenance": [],
      "toc_visible": true
    },
    "kernelspec": {
      "name": "python3",
      "display_name": "Python 3"
    },
    "language_info": {
      "name": "python"
    }
  },
  "cells": [
    {
      "cell_type": "markdown",
      "source": [
        "# Assignment 17"
      ],
      "metadata": {
        "id": "ub-GSgJeoxWW"
      }
    },
    {
      "cell_type": "markdown",
      "source": [
        "# 1\\. Assign the value 7 to the variable guess_me. Then, write the conditional tests (if, else, and elif) to print the string 'too low' if guess_me is less than 7, 'too high' if greater than 7, and 'just right' if equal to 7."
      ],
      "metadata": {
        "id": "fq0cfqjFo3YE"
      }
    },
    {
      "cell_type": "code",
      "source": [
        "guess_me = 7\n",
        "\n",
        "if guess_me < 7:\n",
        "  print(\"too low\")\n",
        "elif guess_me > 7:\n",
        "  print(\"too high\")\n",
        "else:\n",
        "  print(\"just right\")"
      ],
      "metadata": {
        "colab": {
          "base_uri": "https://localhost:8080/"
        },
        "id": "7j1iRsV-pj-9",
        "outputId": "ede79127-834e-4c76-e1c3-517d6564cd54"
      },
      "execution_count": null,
      "outputs": [
        {
          "output_type": "stream",
          "name": "stdout",
          "text": [
            "just right\n"
          ]
        }
      ]
    },
    {
      "cell_type": "markdown",
      "source": [
        "# 2\\. Assign the value 7 to the variable guess_me and the value 1 to the variable start. Write a while loop that compares start with guess_me. Print too low if start is less than guess me. If start equals guess_me, print 'found it!' and exit the loop. If start is greater than guess_me, print 'oops' and exit the loop. Increment start at the end of the loop."
      ],
      "metadata": {
        "id": "0phikCkJo9NF"
      }
    },
    {
      "cell_type": "code",
      "source": [
        "guess_me = 7\n",
        "start = 1\n",
        "\n",
        "while True:\n",
        "  if guess_me > start:\n",
        "    print(\"too low\")\n",
        "  elif guess_me < start:\n",
        "    print('oops')\n",
        "    break\n",
        "  else:\n",
        "    print('found it!')\n",
        "    break\n",
        "  start += 1"
      ],
      "metadata": {
        "colab": {
          "base_uri": "https://localhost:8080/"
        },
        "id": "3U6EzlVDp8XD",
        "outputId": "cb597309-e0e1-4a57-dc19-507e9c68a108"
      },
      "execution_count": null,
      "outputs": [
        {
          "output_type": "stream",
          "name": "stdout",
          "text": [
            "too low\n",
            "too low\n",
            "too low\n",
            "too low\n",
            "too low\n",
            "too low\n",
            "found it!\n"
          ]
        }
      ]
    },
    {
      "cell_type": "markdown",
      "source": [
        "# 3\\. Print the following values of the list [3, 2, 1, 0] using a for loop."
      ],
      "metadata": {
        "id": "j7XYGemDpAxW"
      }
    },
    {
      "cell_type": "code",
      "source": [
        "nums = [3, 2, 1, 0]\n",
        "\n",
        "for num in nums:\n",
        "  print(num,end=' ')"
      ],
      "metadata": {
        "colab": {
          "base_uri": "https://localhost:8080/"
        },
        "id": "7pEJY4zKq_y4",
        "outputId": "43035542-a8ed-4d58-a1ee-03df147c26bd"
      },
      "execution_count": null,
      "outputs": [
        {
          "output_type": "stream",
          "name": "stdout",
          "text": [
            "3 2 1 0 "
          ]
        }
      ]
    },
    {
      "cell_type": "markdown",
      "source": [
        "# 4\\. Use a list comprehension to make a list of the even numbers in range(10)"
      ],
      "metadata": {
        "id": "bwKkKoQipHzj"
      }
    },
    {
      "cell_type": "code",
      "source": [
        "even = [num for num in range(10) if num%2==0]\n",
        "\n",
        "print(even)"
      ],
      "metadata": {
        "colab": {
          "base_uri": "https://localhost:8080/"
        },
        "id": "bUjR7L43rHIq",
        "outputId": "55425d38-3972-400f-d428-6bedebf18c70"
      },
      "execution_count": null,
      "outputs": [
        {
          "output_type": "stream",
          "name": "stdout",
          "text": [
            "[0, 2, 4, 6, 8]\n"
          ]
        }
      ]
    },
    {
      "cell_type": "markdown",
      "source": [
        "# 5\\. Use a dictionary comprehension to create the dictionary squares. Use range(10) to return the keys, and use the square of each key as its value."
      ],
      "metadata": {
        "id": "aCQeB4cApLFZ"
      }
    },
    {
      "cell_type": "code",
      "source": [
        "square = {x:x**2 for x in range(10)}\n",
        "\n",
        "print(square)"
      ],
      "metadata": {
        "colab": {
          "base_uri": "https://localhost:8080/"
        },
        "id": "UbKz2jVCrWpQ",
        "outputId": "8091b750-e124-4ae0-a375-2c5197caf8a1"
      },
      "execution_count": null,
      "outputs": [
        {
          "output_type": "stream",
          "name": "stdout",
          "text": [
            "{0: 0, 1: 1, 2: 4, 3: 9, 4: 16, 5: 25, 6: 36, 7: 49, 8: 64, 9: 81}\n"
          ]
        }
      ]
    },
    {
      "cell_type": "markdown",
      "source": [
        "# 6\\. Construct the set odd from the odd numbers in the range using a set comprehension (10)."
      ],
      "metadata": {
        "id": "_SPwqrJjpPJJ"
      }
    },
    {
      "cell_type": "code",
      "source": [
        "odd = {num for num in range(10) if num%2==1}\n",
        "\n",
        "print(odd)"
      ],
      "metadata": {
        "colab": {
          "base_uri": "https://localhost:8080/"
        },
        "id": "lTHObfqZrsWX",
        "outputId": "00644312-3b7f-4c1d-ce48-c4f1c654f304"
      },
      "execution_count": null,
      "outputs": [
        {
          "output_type": "stream",
          "name": "stdout",
          "text": [
            "{1, 3, 5, 7, 9}\n"
          ]
        }
      ]
    },
    {
      "cell_type": "markdown",
      "source": [
        "# 7\\. Use a generator comprehension to return the string 'Got ' and a number for the numbers in range(10). Iterate through this by using a for loop."
      ],
      "metadata": {
        "id": "nvjsHzalpSdp"
      }
    },
    {
      "cell_type": "code",
      "source": [
        "gen = ('Got-'+str(x) for x in range(10))\n",
        "\n",
        "for num in gen:\n",
        "    print(num, end=' ')"
      ],
      "metadata": {
        "colab": {
          "base_uri": "https://localhost:8080/"
        },
        "id": "JE88_m6rsCP4",
        "outputId": "5beb4a48-acb1-4ae5-aec7-c0559caef6a6"
      },
      "execution_count": null,
      "outputs": [
        {
          "output_type": "stream",
          "name": "stdout",
          "text": [
            "Got-0 Got-1 Got-2 Got-3 Got-4 Got-5 Got-6 Got-7 Got-8 Got-9 "
          ]
        }
      ]
    },
    {
      "cell_type": "markdown",
      "source": [
        "# 8\\. Define a function called good that returns the list ['Harry', 'Ron', 'Hermione']."
      ],
      "metadata": {
        "id": "y8cNkllgpV2i"
      }
    },
    {
      "cell_type": "code",
      "source": [
        "def good():\n",
        "  x = ['Harry', 'Ron', 'Hermione']\n",
        "  return x\n",
        "\n",
        "print(good())"
      ],
      "metadata": {
        "colab": {
          "base_uri": "https://localhost:8080/"
        },
        "id": "qobwVSvSuGQv",
        "outputId": "ca4e9ffe-64da-4f01-c264-558a6a33b377"
      },
      "execution_count": null,
      "outputs": [
        {
          "output_type": "stream",
          "name": "stdout",
          "text": [
            "['Harry', 'Ron', 'Hermione']\n"
          ]
        }
      ]
    },
    {
      "cell_type": "markdown",
      "source": [
        "# 9\\. Define a generator function called get_odds that returns the odd numbers from range(10). Use a for loop to find and print the third value returned."
      ],
      "metadata": {
        "id": "XrWW4YropZEJ"
      }
    },
    {
      "cell_type": "code",
      "source": [
        "def get_odds():\n",
        "  for num in range(10):\n",
        "    if num%2==1:\n",
        "      yield num\n",
        "\n",
        "count = 0\n",
        "for num in get_odds():\n",
        "  count += 1\n",
        "  if count == 3:\n",
        "    print(num)\n",
        "    break"
      ],
      "metadata": {
        "colab": {
          "base_uri": "https://localhost:8080/"
        },
        "id": "nZ0XbieguVX3",
        "outputId": "454f46db-bbdd-45f2-d3d9-faf07f4adf4a"
      },
      "execution_count": null,
      "outputs": [
        {
          "output_type": "stream",
          "name": "stdout",
          "text": [
            "5\n"
          ]
        }
      ]
    },
    {
      "cell_type": "markdown",
      "source": [
        "# 10\\. Define an exception called OopsException. Raise this exception to see what happens. Then write the code to catch this exception and print 'Caught an oops'."
      ],
      "metadata": {
        "id": "BP0jz1SjpcxT"
      }
    },
    {
      "cell_type": "code",
      "source": [
        "class OopsException(Exception):\n",
        "    pass\n",
        "\n",
        "def test():\n",
        "  raise OopsException\n",
        "\n",
        "try:\n",
        "    test()\n",
        "except OopsException:\n",
        "    print('Caught in Oops')"
      ],
      "metadata": {
        "colab": {
          "base_uri": "https://localhost:8080/"
        },
        "id": "gUkWXzPevNB3",
        "outputId": "747b0c3c-34ff-4da4-e55c-a030ae7fd383"
      },
      "execution_count": null,
      "outputs": [
        {
          "output_type": "stream",
          "name": "stdout",
          "text": [
            "Caught in Oops\n"
          ]
        }
      ]
    },
    {
      "cell_type": "markdown",
      "source": [
        "# 11\\. Use zip() to make a dictionary called movies that pairs these lists: titles = ['Creature of Habit', 'Crewel Fate'] and plots = ['A nun turns into a monster', 'A haunted yarn shop']."
      ],
      "metadata": {
        "id": "W7z9frFHpgcM"
      }
    },
    {
      "cell_type": "code",
      "execution_count": null,
      "metadata": {
        "colab": {
          "base_uri": "https://localhost:8080/"
        },
        "id": "ZmDvfuorotHq",
        "outputId": "0d866868-2c98-47a4-974b-560dc999d7e3"
      },
      "outputs": [
        {
          "output_type": "stream",
          "name": "stdout",
          "text": [
            "{'Creature of Habit': 'A nun turns into a monster', 'Crewel Fate': 'A haunted yarn shop'}\n"
          ]
        }
      ],
      "source": [
        "titles = ['Creature of Habit', 'Crewel Fate']\n",
        "plots = ['A nun turns into a monster', 'A haunted yarn shop']\n",
        "\n",
        "movies = dict(zip(titles,plots))\n",
        "\n",
        "print(movies)"
      ]
    }
  ]
}