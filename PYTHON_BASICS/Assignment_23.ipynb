{
  "nbformat": 4,
  "nbformat_minor": 0,
  "metadata": {
    "colab": {
      "provenance": [],
      "toc_visible": true
    },
    "kernelspec": {
      "name": "python3",
      "display_name": "Python 3"
    },
    "language_info": {
      "name": "python"
    }
  },
  "cells": [
    {
      "cell_type": "markdown",
      "source": [
        "# Assignment 23"
      ],
      "metadata": {
        "id": "xkS2MSEqWWRa"
      }
    },
    {
      "cell_type": "markdown",
      "source": [
        "## 1\\. What is the result of the code, and why?"
      ],
      "metadata": {
        "id": "nkFbK5T1WfpN"
      }
    },
    {
      "cell_type": "markdown",
      "source": [
        "**ANS:**\n",
        "- `1 2 8`\n",
        "- `func()` use default value of b & c.\n",
        "- caller `func(1,2)` pass only two value , so callee `func(a, b=6, c=8)` use default value."
      ],
      "metadata": {
        "id": "j8UX68vqY1fY"
      }
    },
    {
      "cell_type": "code",
      "source": [
        "def func(a, b=6, c=8):\n",
        "  print(a, b, c)\n",
        "\n",
        "func(1, 2)"
      ],
      "metadata": {
        "colab": {
          "base_uri": "https://localhost:8080/"
        },
        "id": "U5hY9mFKW6KQ",
        "outputId": "4b1d60c7-a647-4a90-8f11-ffd65814f98b"
      },
      "execution_count": null,
      "outputs": [
        {
          "output_type": "stream",
          "name": "stdout",
          "text": [
            "1 2 8\n"
          ]
        }
      ]
    },
    {
      "cell_type": "markdown",
      "source": [
        "## 2\\. What is the result of this code, and why?"
      ],
      "metadata": {
        "id": "nmDjwIPiWkMb"
      }
    },
    {
      "cell_type": "markdown",
      "source": [
        "**ANS:**\n",
        "- `1 2 3`\n",
        "- it is because the function will use default values only when a value for a argument is not provided and if argument name is mentioned while doing a function call, the order of arguments is also ignored by the python interpreter."
      ],
      "metadata": {
        "id": "QzszAs4TY6KO"
      }
    },
    {
      "cell_type": "code",
      "source": [
        "def func(a, b, c=5): \n",
        "  print(a, b, c) \n",
        "  \n",
        "func(1, c=3, b=2)"
      ],
      "metadata": {
        "colab": {
          "base_uri": "https://localhost:8080/"
        },
        "id": "3Sv9hXXlXE-L",
        "outputId": "4623d7cb-f51e-4eea-bc22-be49398058c2"
      },
      "execution_count": null,
      "outputs": [
        {
          "output_type": "stream",
          "name": "stdout",
          "text": [
            "1 2 3\n"
          ]
        }
      ]
    },
    {
      "cell_type": "markdown",
      "source": [
        "## 3\\. How about this code: what is its result, and why?"
      ],
      "metadata": {
        "id": "f6BSb84YWn8b"
      }
    },
    {
      "cell_type": "markdown",
      "source": [
        "**ANS:**\n",
        "- `1 (2, 3)`\n",
        "- `*pargs `stands for variable length arguments. this format is used when we are `not sure` about the no of arguments to be passed to a function. all the values under this argument will be stored in a `tuple`."
      ],
      "metadata": {
        "id": "Uxxj3-FtY-FN"
      }
    },
    {
      "cell_type": "code",
      "source": [
        "def func(a, *pargs):\n",
        "  print(a, pargs) \n",
        "  print(type(pargs))\n",
        "  \n",
        "func(1, 2, 3)"
      ],
      "metadata": {
        "colab": {
          "base_uri": "https://localhost:8080/"
        },
        "id": "3Q64_9nQXKke",
        "outputId": "560d0fce-05b5-4d6a-c08b-ffebdc3bf7a0"
      },
      "execution_count": null,
      "outputs": [
        {
          "output_type": "stream",
          "name": "stdout",
          "text": [
            "1 (2, 3)\n",
            "<class 'tuple'>\n"
          ]
        }
      ]
    },
    {
      "cell_type": "markdown",
      "source": [
        "## 4\\. What does this code print, and why?"
      ],
      "metadata": {
        "id": "KMmU7ar3WvWV"
      }
    },
    {
      "cell_type": "markdown",
      "source": [
        "**ANS:**\n",
        "- `1 {'c': 3, 'b': 2}`\n",
        "- **kargs stands for variable length keyword arguments. this format is used when we want pass key value pairs as input to a function. All these key value pairs will be stored in a dictionary."
      ],
      "metadata": {
        "id": "qWg1KniSZC53"
      }
    },
    {
      "cell_type": "code",
      "source": [
        "def func(a, **kargs):\n",
        "  print(a, kargs)\n",
        "  \n",
        "func(a=1, c=3, b=2)"
      ],
      "metadata": {
        "colab": {
          "base_uri": "https://localhost:8080/"
        },
        "id": "atqWQCnbXUrH",
        "outputId": "c9f42b1a-abf6-44ac-8b1d-566d660a4d66"
      },
      "execution_count": null,
      "outputs": [
        {
          "output_type": "stream",
          "name": "stdout",
          "text": [
            "1 {'c': 3, 'b': 2}\n"
          ]
        }
      ]
    },
    {
      "cell_type": "markdown",
      "source": [
        "## 5\\. What gets printed by this, and explain?"
      ],
      "metadata": {
        "id": "beV0McXoWzdm"
      }
    },
    {
      "cell_type": "markdown",
      "source": [
        "**ANS:**\n",
        "- `1 5 6 5`\n",
        "- function will expand the *(5,6).\n",
        "- *(5,6) it is Destructuring (also called unpacking)."
      ],
      "metadata": {
        "id": "RWW4u7RbZKX0"
      }
    },
    {
      "cell_type": "code",
      "source": [
        "def func(a, b, c=8, d=5):\n",
        "  print(a, b, c, d)\n",
        "  \n",
        "func(1, *(5, 6))"
      ],
      "metadata": {
        "colab": {
          "base_uri": "https://localhost:8080/"
        },
        "id": "mFbCwSUxXebr",
        "outputId": "08fee6f8-2f27-4887-aa62-17dc123ab9aa"
      },
      "execution_count": null,
      "outputs": [
        {
          "output_type": "stream",
          "name": "stdout",
          "text": [
            "1 5 6 5\n"
          ]
        }
      ]
    },
    {
      "cell_type": "markdown",
      "source": [
        "## 6\\. what is the result of this, and explain?"
      ],
      "metadata": {
        "id": "Zg6mlyySW2uJ"
      }
    },
    {
      "cell_type": "markdown",
      "source": [
        "**ANS:**\n",
        "- `1 ['x'] {'a': 'y'}`\n",
        "- Mutable Objects : int\n",
        "- Immutable Objects : list, dict\n",
        "- Mutable means those objects which can change themselves after we instantiate them.\n",
        "- Immutable Objects means we can't change or update the data-type."
      ],
      "metadata": {
        "id": "6qX3jI8CZNm0"
      }
    },
    {
      "cell_type": "code",
      "source": [
        "def func(a, b, c): a = 2; b[0] = 'x'; c['a'] = 'y'\n",
        "\n",
        "l=1; m=[1]; n={'a':0}\n",
        "\n",
        "func(l, m, n)\n",
        "\n",
        "print(l,m,n)"
      ],
      "metadata": {
        "colab": {
          "base_uri": "https://localhost:8080/"
        },
        "id": "pEAZ-Wf3WbKl",
        "outputId": "b6101ac5-65e0-4175-f9f0-f51ec033e386"
      },
      "execution_count": null,
      "outputs": [
        {
          "output_type": "stream",
          "name": "stdout",
          "text": [
            "1 ['x'] {'a': 'y'}\n"
          ]
        }
      ]
    }
  ]
}