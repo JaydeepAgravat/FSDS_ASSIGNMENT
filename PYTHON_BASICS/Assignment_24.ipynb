{
  "nbformat": 4,
  "nbformat_minor": 0,
  "metadata": {
    "colab": {
      "provenance": [],
      "toc_visible": true
    },
    "kernelspec": {
      "name": "python3",
      "display_name": "Python 3"
    },
    "language_info": {
      "name": "python"
    }
  },
  "cells": [
    {
      "cell_type": "markdown",
      "source": [
        "# Assignment 24"
      ],
      "metadata": {
        "id": "YXGcjaR1WUZV"
      }
    },
    {
      "cell_type": "markdown",
      "source": [
        "## 1\\. What is the relationship between def statements and lambda expressions ?"
      ],
      "metadata": {
        "id": "hLWFWjx7Wgb-"
      }
    },
    {
      "cell_type": "markdown",
      "source": [
        "**ANS:**\n",
        "- A lambda is an `expression` producing a function.\n",
        "- A def is a `statement` producing a function"
      ],
      "metadata": {
        "id": "GxAzL84GXTss"
      }
    },
    {
      "cell_type": "markdown",
      "source": [
        "## 2\\. What is the benefit of lambda?"
      ],
      "metadata": {
        "id": "2unL2tunWjuj"
      }
    },
    {
      "cell_type": "markdown",
      "source": [
        "**ANS:**\n",
        "- Can be used to create Nameless/Anonymous functions inside some complex functions if we are planning to use it only once.\n",
        "- Moderate to small functions can be created in a single line\n",
        "- Fuctions created using lambda expressions can be assigned to a variable and can be used by simply calling the variable"
      ],
      "metadata": {
        "id": "eRLrMTm8XvDC"
      }
    },
    {
      "cell_type": "markdown",
      "source": [
        "## 3\\. Compare and contrast map, filter, and reduce."
      ],
      "metadata": {
        "id": "HP24fyuQWoSy"
      }
    },
    {
      "cell_type": "markdown",
      "source": [
        "**ANS:**\n",
        "- The `map()` function iterates through all items in the given iterable and executes the `function` we passed as an argument on each of them.\n",
        "- Similar to `map()`, `filter()` takes a `function` object and an iterable and creates a new list.\n",
        "- As the name suggests, `filter()` forms a new list that contains only elements that satisfy a certain condition, i.e. the `function` we passed returns `True`.\n",
        "- `reduce()` works differently than `map()` and `filter()`. It does not return a new list based on the `function` and iterable we've passed. Instead, it returns a `single value`."
      ],
      "metadata": {
        "id": "mmwvTDN1Z_oq"
      }
    },
    {
      "cell_type": "code",
      "source": [
        "from functools import reduce\n",
        "\n",
        "# map function\n",
        "print('Map ->',list(map(lambda x:x+x, [1,2,3,4])))\n",
        "# filter function\n",
        "print('Filter ->',list(filter(lambda x:x%2 !=0, [1,2,3,4])))\n",
        "# reduce function\n",
        "print('Reduce ->',reduce(lambda x,y:x+y, [1,2,3,4]))"
      ],
      "metadata": {
        "colab": {
          "base_uri": "https://localhost:8080/"
        },
        "id": "2bMN3_pnYJPn",
        "outputId": "5baba580-3299-4fb3-940d-c530bc538793"
      },
      "execution_count": null,
      "outputs": [
        {
          "output_type": "stream",
          "name": "stdout",
          "text": [
            "Map -> [2, 4, 6, 8]\n",
            "Filter -> [1, 3]\n",
            "Reduce -> 10\n"
          ]
        }
      ]
    },
    {
      "cell_type": "markdown",
      "source": [
        "## 4\\. What are function annotations, and how are they used?"
      ],
      "metadata": {
        "id": "AR-0Qjk-WrUp"
      }
    },
    {
      "cell_type": "markdown",
      "source": [
        "**ANS:**\n",
        "- Function annotations are `arbitrary python expressions` that are associated with various part of functions. \n",
        "- It helps to explain in short what function is trying to accomplish.\n",
        "- they are evaluated at compile time, they do not exist at run time.\n",
        "- They are used and interpreted by a third party or external python libraries."
      ],
      "metadata": {
        "id": "VNeZaJYdby7D"
      }
    },
    {
      "cell_type": "markdown",
      "source": [
        "## 5\\. What are recursive functions, and how are they used?"
      ],
      "metadata": {
        "id": "MZQFTGYpWuPe"
      }
    },
    {
      "cell_type": "markdown",
      "source": [
        "**ANS:**\n",
        "- A recursive function is a function in code that refers to itself for execution.\n",
        "- Recursion is made for solving problems that can be broken down into smaller, repetitive problems. \n",
        "- It is especially good for working on things that have many possible branches and are too complex for an iterative approach."
      ],
      "metadata": {
        "id": "QcZCBDyrdopS"
      }
    },
    {
      "cell_type": "markdown",
      "source": [
        "## 6\\. What are some general design guidelines for coding functions?"
      ],
      "metadata": {
        "id": "ickBx9ZDWxuy"
      }
    },
    {
      "cell_type": "markdown",
      "source": [
        "**Ans:**\n",
        "- Some of the general design guidelines for coding functions are:\n",
        "1. Always use a docstring to explain the functionality of the function\n",
        "2. avoid using or limited use of global variables\n",
        "3. Proper Identation to increase the code readability\n",
        "4. try to follow a naming convention for function names (pascalCase or camelCase) and stick with the same convention throughout the application.\n",
        "5. Avoid using digits while choosing a variable name\n",
        "6. try to use a name for the function which conveys the purpose of the function\n",
        "7. Local variables should be named using camelCase format (ex: localVariable) whereas Global variables names should be using PascalCase (ex:GlobalVariable).\n",
        "8. Constant should be represented in allcaps (ex:CONSTANT)."
      ],
      "metadata": {
        "id": "shEqGpsHefwC"
      }
    },
    {
      "cell_type": "markdown",
      "source": [
        "## 7\\. Name three or more ways that functions can communicate results to a caller."
      ],
      "metadata": {
        "id": "ak5zHHJKW1hi"
      }
    },
    {
      "cell_type": "markdown",
      "source": [
        "**ANS:**\n",
        "- print\n",
        "- return\n",
        "- yield"
      ],
      "metadata": {
        "id": "T4QWV_jsfD3p"
      }
    }
  ]
}