{
  "nbformat": 4,
  "nbformat_minor": 0,
  "metadata": {
    "colab": {
      "provenance": []
    },
    "kernelspec": {
      "name": "python3",
      "display_name": "Python 3"
    },
    "language_info": {
      "name": "python"
    }
  },
  "cells": [
    {
      "cell_type": "markdown",
      "source": [
        "# Assignment 10"
      ],
      "metadata": {
        "id": "u3c56GlvkoS6"
      }
    },
    {
      "cell_type": "markdown",
      "source": [
        "## 1\\. How do you distinguish between shutil.copy() and shutil.copytree()?"
      ],
      "metadata": {
        "id": "naUv-WuSkoPk"
      }
    },
    {
      "cell_type": "markdown",
      "source": [
        "**ANS:**\n",
        "- `shutil.copy()` will copy a single file.\n",
        "- `shutil.copytree()` will copy an entire folder and every folder and file contained in it."
      ],
      "metadata": {
        "id": "Ha8CZZ12mQI3"
      }
    },
    {
      "cell_type": "markdown",
      "source": [
        "## 2\\. What function is used to rename files?"
      ],
      "metadata": {
        "id": "DK4AOfhgkoOA"
      }
    },
    {
      "cell_type": "markdown",
      "source": [
        "**ANS:**\n",
        "- `os.rename()`\n",
        "- parameter : `src`, `dest` "
      ],
      "metadata": {
        "id": "cGm5CK-Imml-"
      }
    },
    {
      "cell_type": "markdown",
      "source": [
        "## 3\\. What is the difference between the delete functions in the send2trash and shutil modules?"
      ],
      "metadata": {
        "id": "K-JictqGkoKn"
      }
    },
    {
      "cell_type": "markdown",
      "source": [
        "**ANS:**\n",
        "- The `send2trash` functions will move a file or folder to the recycle bin, while `shutil` functions will permanently delete files and folders."
      ],
      "metadata": {
        "id": "ilhWRM01m_Gt"
      }
    },
    {
      "cell_type": "markdown",
      "source": [
        "## 4\\. ZipFile objects have a close() method just like File objects’ close() method. What ZipFile method is equivalent to File objects’ open() method?"
      ],
      "metadata": {
        "id": "DpR_BnVNkoJW"
      }
    },
    {
      "cell_type": "markdown",
      "source": [
        "**ANS:**\n",
        "- `ZipFile()` function is equivalent to the `open()` function\n",
        "- the first argument is the filename, and the second argument is the mode to open the ZIP file in (read, write, or append)."
      ],
      "metadata": {
        "id": "78mvquY-oAkS"
      }
    },
    {
      "cell_type": "markdown",
      "source": [
        "## 5\\. Create a programme that searches a folder tree for files with a certain file extension (such as .pdf or .jpg). Copy these files from whatever location they are in to a new folder."
      ],
      "metadata": {
        "id": "FUrydBVik6Ck"
      }
    },
    {
      "cell_type": "code",
      "source": [
        "import os\n",
        "import shutil\n",
        "\n",
        "def search_and_copy(source,destination,extensions):\n",
        "    source = os.path.abspath(source)\n",
        "    destination = os.path.abspath(destination)\n",
        "    for foldername, subfolder, filenames in os.walk(source):\n",
        "        print(f'Folder Name ➞ {foldername}')\n",
        "        print(f'Sub Folders ➞ {subfolder}')\n",
        "        print(f'Files ➞ {filenames}')\n",
        "        for filename in filenames:\n",
        "            fileName,extension = os.path.splitext(filename)\n",
        "            if extension in extensions:\n",
        "                targetFile = foldername+os.path.sep+fileName+extension\n",
        "                shutil.copy(targetFile, destination)\n",
        "        if filenames:\n",
        "          print(f'Files copied successfully from {source} to {destination}\\n\\n')\n",
        "    \n",
        "extensions = ['.json','.md']\n",
        "source = '/content/sample_data'\n",
        "destination = '/content'\n",
        "search_and_copy(source, destination, extensions)"
      ],
      "metadata": {
        "id": "t_kfPtFGlDEv",
        "colab": {
          "base_uri": "https://localhost:8080/"
        },
        "outputId": "237a7b4d-5647-4d17-c682-528cbd89f25e"
      },
      "execution_count": 6,
      "outputs": [
        {
          "output_type": "stream",
          "name": "stdout",
          "text": [
            "Folder Name ➞ /content/sample_data\n",
            "Sub Folders ➞ ['test', '.ipynb_checkpoints']\n",
            "Files ➞ ['anscombe.json', 'README.md', 'mnist_test.csv', 'mnist_train_small.csv', 'california_housing_train.csv', 'california_housing_test.csv']\n",
            "Files copied successfully from /content/sample_data to /content\n",
            "\n",
            "\n",
            "Folder Name ➞ /content/sample_data/test\n",
            "Sub Folders ➞ ['.ipynb_checkpoints']\n",
            "Files ➞ ['test.csv', 'test.md']\n",
            "Files copied successfully from /content/sample_data to /content\n",
            "\n",
            "\n",
            "Folder Name ➞ /content/sample_data/test/.ipynb_checkpoints\n",
            "Sub Folders ➞ []\n",
            "Files ➞ []\n",
            "Folder Name ➞ /content/sample_data/.ipynb_checkpoints\n",
            "Sub Folders ➞ []\n",
            "Files ➞ []\n"
          ]
        }
      ]
    }
  ]
}