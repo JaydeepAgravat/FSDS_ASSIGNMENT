{
  "nbformat": 4,
  "nbformat_minor": 0,
  "metadata": {
    "colab": {
      "provenance": [],
      "toc_visible": true
    },
    "kernelspec": {
      "name": "python3",
      "display_name": "Python 3"
    },
    "language_info": {
      "name": "python"
    }
  },
  "cells": [
    {
      "cell_type": "markdown",
      "source": [
        "# Assignment 22"
      ],
      "metadata": {
        "id": "QslhzqC1quqm"
      }
    },
    {
      "cell_type": "markdown",
      "source": [
        "## 1\\. What is the result of the code, and explain?"
      ],
      "metadata": {
        "id": "KM7NMksVrKAk"
      }
    },
    {
      "cell_type": "markdown",
      "source": [
        "```\n",
        ">>> X = 'iNeuron'\n",
        ">>> def func():\n",
        "print(X)\n",
        ">>> func()\n",
        "```"
      ],
      "metadata": {
        "id": "16iOcA3AqyOE"
      }
    },
    {
      "cell_type": "markdown",
      "source": [
        "**ANS:**\n",
        "- `iNeuron`\n",
        "- Function intially looks for the variable X in its local scope,But since there is no local variable X, its returns the value of global variable x."
      ],
      "metadata": {
        "id": "D-2sYwACtavH"
      }
    },
    {
      "cell_type": "code",
      "execution_count": null,
      "metadata": {
        "colab": {
          "base_uri": "https://localhost:8080/"
        },
        "id": "UFz8mGJwqh8t",
        "outputId": "3fdff442-01de-40e6-d345-b036f0b68ee6"
      },
      "outputs": [
        {
          "output_type": "stream",
          "name": "stdout",
          "text": [
            "iNeuron\n"
          ]
        }
      ],
      "source": [
        "X = 'iNeuron'\n",
        "def func():\n",
        "  print(X)\n",
        "func()"
      ]
    },
    {
      "cell_type": "markdown",
      "source": [
        "## 2\\. What is the result of the code, and explain?"
      ],
      "metadata": {
        "id": "NTm_vyV-rQZ9"
      }
    },
    {
      "cell_type": "markdown",
      "source": [
        "```\n",
        ">>> X = 'iNeuron'\n",
        ">>> def func():\n",
        "X = 'NI!'\n",
        ">>> func()\n",
        ">>> print(X)\n",
        "```"
      ],
      "metadata": {
        "id": "1sZYCNJ5rCFS"
      }
    },
    {
      "cell_type": "markdown",
      "source": [
        "**ANS:**\n",
        "- `iNeuron`\n",
        "- `print(X)` outside the `func()` so, X referenced to the global variable which is `iNeuron`.\n",
        "- local variables are destroyed as soon as the function returns "
      ],
      "metadata": {
        "id": "ftmxL60eteVe"
      }
    },
    {
      "cell_type": "code",
      "source": [
        "X = 'iNeuron'\n",
        "def func():\n",
        "  X = 'NI!'\n",
        "func()\n",
        "print((X))"
      ],
      "metadata": {
        "colab": {
          "base_uri": "https://localhost:8080/"
        },
        "id": "6xWYqKN7sEUl",
        "outputId": "aff46751-2160-49ad-c12b-23fc8e4c8747"
      },
      "execution_count": null,
      "outputs": [
        {
          "output_type": "stream",
          "name": "stdout",
          "text": [
            "iNeuron\n"
          ]
        }
      ]
    },
    {
      "cell_type": "markdown",
      "source": [
        "## 3\\. What does this code print, and why?"
      ],
      "metadata": {
        "id": "CDTS2ffXrjoC"
      }
    },
    {
      "cell_type": "markdown",
      "source": [
        "```\n",
        ">>> X = 'iNeuron'\n",
        ">>> def func():\n",
        "X = 'NI'\n",
        "print(X)\n",
        ">>> func()\n",
        ">>> print(X)\n",
        "```"
      ],
      "metadata": {
        "id": "6sGWP_SMrUIs"
      }
    },
    {
      "cell_type": "markdown",
      "source": [
        "**ANS:**\n",
        "- `NI` `iNeuron`\n",
        "- first `print(X)` inside the func() so, X referenced to the local variable which is `NI`.\n",
        "- second `print(X)` outside the func() so, X referenced to the global variable which is `iNeuron`.\n",
        "- local variables are destroyed as soon as the function returns "
      ],
      "metadata": {
        "id": "rjlBDSSitgPm"
      }
    },
    {
      "cell_type": "code",
      "source": [
        "X = 'iNeuron'\n",
        "def func():\n",
        "  X = 'NI'\n",
        "  print(X)\n",
        "  \n",
        "func()\n",
        "print(X)"
      ],
      "metadata": {
        "colab": {
          "base_uri": "https://localhost:8080/"
        },
        "id": "_hFLO2_7sLTj",
        "outputId": "30783689-b82f-4c3e-aee0-d58e9eee617b"
      },
      "execution_count": null,
      "outputs": [
        {
          "output_type": "stream",
          "name": "stdout",
          "text": [
            "NI\n",
            "iNeuron\n"
          ]
        }
      ]
    },
    {
      "cell_type": "markdown",
      "source": [
        "## 4\\. What output does this code produce? Why?\n"
      ],
      "metadata": {
        "id": "SedAwMG0ru1S"
      }
    },
    {
      "cell_type": "markdown",
      "source": [
        "```\n",
        ">>> X = 'iNeuron'\n",
        ">>> def func():\n",
        "global X\n",
        "X = 'NI'\n",
        ">>> func()\n",
        ">>> print(X)\n",
        "```"
      ],
      "metadata": {
        "id": "-wgyKgfmrq-q"
      }
    },
    {
      "cell_type": "markdown",
      "source": [
        "**ANS:**\n",
        "- `NI`\n",
        "- the `global` keyword allows a variable to be accessible in the current scope and `func()`change the value of `X` to `NI`.\n",
        "- `print(X)` outside the `func()` so, X referenced to the global variable which is `NI`."
      ],
      "metadata": {
        "id": "f6z1r2hathVm"
      }
    },
    {
      "cell_type": "code",
      "source": [
        "X = 'iNeuron'\n",
        "def func():\n",
        "  global X\n",
        "  X = 'NI'\n",
        "func()\n",
        "print(X)"
      ],
      "metadata": {
        "colab": {
          "base_uri": "https://localhost:8080/"
        },
        "id": "zOCuxOtgsROK",
        "outputId": "95d78ed6-15e1-463f-b160-c5976c279123"
      },
      "execution_count": null,
      "outputs": [
        {
          "output_type": "stream",
          "name": "stdout",
          "text": [
            "NI\n"
          ]
        }
      ]
    },
    {
      "cell_type": "markdown",
      "source": [
        "## 5\\. What about this code—what’s the output, and why?"
      ],
      "metadata": {
        "id": "Cd8RnMwXr4Er"
      }
    },
    {
      "cell_type": "markdown",
      "source": [
        "```\n",
        ">>> X = 'iNeuron'\n",
        ">>> def func():\n",
        "X = 'NI'\n",
        "def nested():\n",
        "print(X)\n",
        "nested()\n",
        ">>> func()\n",
        ">>> X\n",
        "```"
      ],
      "metadata": {
        "id": "eV-iPEBar0Rb"
      }
    },
    {
      "cell_type": "markdown",
      "source": [
        "**ANS:**\n",
        "- `NI` `iNeuron`\n",
        "- `nested()` not have X so its look for X in outside its scope which is `func()` scope & print X's value which is `NI`.\n",
        "- Last ouput of X is `iNeuron`, X referenced to the global variable which is `iNeuron`.\n",
        "- local variables are destroyed as soon as the function returns."
      ],
      "metadata": {
        "id": "zr0-ushhtiWO"
      }
    },
    {
      "cell_type": "code",
      "source": [
        "X = 'iNeuron'\n",
        "def func():\n",
        "  X = 'NI'\n",
        "  def nested():\n",
        "    print(X)\n",
        "  nested()\n",
        "  \n",
        "func()\n",
        "X"
      ],
      "metadata": {
        "colab": {
          "base_uri": "https://localhost:8080/",
          "height": 54
        },
        "id": "XZrJtAb7sX39",
        "outputId": "3747ac90-61d4-4e03-aeec-2c16a057e56a"
      },
      "execution_count": null,
      "outputs": [
        {
          "output_type": "stream",
          "name": "stdout",
          "text": [
            "NI\n"
          ]
        },
        {
          "output_type": "execute_result",
          "data": {
            "text/plain": [
              "'iNeuron'"
            ],
            "application/vnd.google.colaboratory.intrinsic+json": {
              "type": "string"
            }
          },
          "metadata": {},
          "execution_count": 5
        }
      ]
    },
    {
      "cell_type": "markdown",
      "source": [
        "## 6\\. How about this code: what is its output in Python 3, and explain?"
      ],
      "metadata": {
        "id": "plTiBMwor_tF"
      }
    },
    {
      "cell_type": "markdown",
      "source": [
        "```\n",
        ">>> def func():\n",
        "X = 'NI'\n",
        "def nested():\n",
        "nonlocal X\n",
        "X = 'Spam'\n",
        "nested()\n",
        "print(X)\n",
        ">>> func()\n",
        "```\n",
        "\n",
        "\n",
        "\n"
      ],
      "metadata": {
        "id": "d8WREcPsqoh_"
      }
    },
    {
      "cell_type": "markdown",
      "source": [
        "**ANS:**\n",
        "- `Spam`\n",
        "- `nested()` change the value of X with the help of `nonlocal` keyword.\n",
        "- `nonlocal` keyword is used to reference a variable in the nearest scope. \n",
        "- so, `print(X)` print the `Spam`."
      ],
      "metadata": {
        "id": "ktKfWwWxtjWn"
      }
    },
    {
      "cell_type": "code",
      "source": [
        "del X"
      ],
      "metadata": {
        "id": "1HYxkYhVtApk"
      },
      "execution_count": null,
      "outputs": []
    },
    {
      "cell_type": "code",
      "source": [
        "def func():\n",
        "  X = 'NI'\n",
        "  def nested():\n",
        "    nonlocal X\n",
        "    X = 'Spam'\n",
        "  nested()\n",
        "  print(X)\n",
        "\n",
        "func()"
      ],
      "metadata": {
        "colab": {
          "base_uri": "https://localhost:8080/"
        },
        "id": "i4VIQpGAqrrc",
        "outputId": "5e8f18db-199e-4ae9-e8e1-e8b40f7f2af7"
      },
      "execution_count": null,
      "outputs": [
        {
          "output_type": "stream",
          "name": "stdout",
          "text": [
            "Spam\n"
          ]
        }
      ]
    }
  ]
}