{
  "nbformat": 4,
  "nbformat_minor": 0,
  "metadata": {
    "colab": {
      "provenance": [],
      "collapsed_sections": [
        "IMHI_3stJTb5",
        "x7hMMumIJ4sJ",
        "EqogJ3cdKJsz",
        "5f4lClxyNn-3",
        "eBxb5QD2Kq6C"
      ],
      "toc_visible": true
    },
    "kernelspec": {
      "name": "python3",
      "display_name": "Python 3"
    },
    "language_info": {
      "name": "python"
    }
  },
  "cells": [
    {
      "cell_type": "markdown",
      "source": [
        "# Programming Assingment 21"
      ],
      "metadata": {
        "id": "bqX3OiQiJIwc"
      }
    },
    {
      "cell_type": "markdown",
      "source": [
        "## Question 1 "
      ],
      "metadata": {
        "id": "IMHI_3stJTb5"
      }
    },
    {
      "cell_type": "markdown",
      "source": [
        "```\n",
        "Write a function that takes a list and a number as arguments. \n",
        "Add the number to the end of the list, then remove the first element of the list.\n",
        "The function should then return the updated list.\n",
        "\n",
        "Examples:\n",
        "next_in_line([5, 6, 7, 8, 9], 1) ➞ [6, 7, 8, 9, 1]\n",
        "next_in_line([7, 6, 3, 23, 17], 10) ➞ [6, 3, 23, 17, 10]\n",
        "next_in_line([1, 10, 20, 42 ], 6) ➞ [10, 20, 42, 6]\n",
        "next_in_line([], 6) ➞ \"No list has been selected\"\n",
        "```"
      ],
      "metadata": {
        "id": "y3cBYQSIJPnZ"
      }
    },
    {
      "cell_type": "code",
      "source": [
        "def next_in_line(nums, n):\n",
        "  if len(nums) == 0: \n",
        "    print(\"No list has been selected\")\n",
        "    return\n",
        "    \n",
        "  nums.pop(0)\n",
        "  nums.append(n)\n",
        "  return nums"
      ],
      "metadata": {
        "id": "W8F2jcxsLFWa"
      },
      "execution_count": null,
      "outputs": []
    },
    {
      "cell_type": "code",
      "source": [
        "print(next_in_line([5, 6, 7, 8, 9], 1))\n",
        "print(next_in_line([7, 6, 3, 23, 17], 10))\n",
        "print(next_in_line([1, 10, 20, 42 ], 6) )\n",
        "next_in_line([], 6)"
      ],
      "metadata": {
        "colab": {
          "base_uri": "https://localhost:8080/"
        },
        "id": "zxYNhPfyLigg",
        "outputId": "308f9e97-06a0-44a4-cbe6-401a74b44a74"
      },
      "execution_count": null,
      "outputs": [
        {
          "output_type": "stream",
          "name": "stdout",
          "text": [
            "[6, 7, 8, 9, 1]\n",
            "[6, 3, 23, 17, 10]\n",
            "[10, 20, 42, 6]\n",
            "No list has been selected\n"
          ]
        }
      ]
    },
    {
      "cell_type": "markdown",
      "source": [
        "## Question 2 "
      ],
      "metadata": {
        "id": "x7hMMumIJ4sJ"
      }
    },
    {
      "cell_type": "markdown",
      "source": [
        "```\n",
        "Create the function that takes a list of dictionaries and returns the sum of people's budgets. \n",
        "\n",
        "Examples:\n",
        "get_budgets(\n",
        "  [ { \"name\": \"John\", \"age\": 21, \"budget\": 23000 },\n",
        "    { \"name\": \"Steve\", \"age\": 32, \"budget\": 40000 },\n",
        "    { \"name\": \"Martin\", \"age\": 16, \"budget\": 2700 } \n",
        "  ]\n",
        ") ➞ 65700\n",
        "\n",
        "get_budgets(\n",
        "  [ { \"name\": \"John\", \"age\": 21, \"budget\": 29000 },\n",
        "    { \"name\": \"Steve\", \"age\": 32, \"budget\": 32000 },\n",
        "    { \"name\": \"Martin\", \"age\": 16, \"budget\": 1600 } \n",
        "  ]\n",
        ") ➞ 62600\n",
        "```"
      ],
      "metadata": {
        "id": "EPyv6lF0JdTZ"
      }
    },
    {
      "cell_type": "code",
      "source": [
        "def get_budgets(items):\n",
        "  total_budeget = 0\n",
        "  for item in items:\n",
        "    total_budeget += item['budget']\n",
        "  return total_budeget"
      ],
      "metadata": {
        "id": "Zr29lp0eMGr4"
      },
      "execution_count": null,
      "outputs": []
    },
    {
      "cell_type": "code",
      "source": [
        "print(get_budgets([ { \"name\": \"John\", \"age\": 21, \"budget\": 23000 },{ \"name\": \"Steve\", \"age\": 32, \"budget\": 40000 },{ \"name\": \"Martin\", \"age\": 16, \"budget\": 2700 }]))\n",
        "print(get_budgets([ { \"name\": \"John\", \"age\": 21, \"budget\": 29000 },{ \"name\": \"Steve\", \"age\": 32, \"budget\": 32000 },{ \"name\": \"Martin\", \"age\": 16, \"budget\": 1600 }])) "
      ],
      "metadata": {
        "colab": {
          "base_uri": "https://localhost:8080/"
        },
        "id": "sDvzcNVMMiLC",
        "outputId": "d3dbdc14-802c-4c33-8f92-e8d8daa7996d"
      },
      "execution_count": null,
      "outputs": [
        {
          "output_type": "stream",
          "name": "stdout",
          "text": [
            "65700\n",
            "62600\n"
          ]
        }
      ]
    },
    {
      "cell_type": "markdown",
      "source": [
        "## Question 3"
      ],
      "metadata": {
        "id": "EqogJ3cdKJsz"
      }
    },
    {
      "cell_type": "markdown",
      "source": [
        "```\n",
        "Create a function that takes a string and returns a string with its letters in alphabetical order.\n",
        "\n",
        "Examples:\n",
        "\n",
        "alphabet_soup(\"hello\") ➞ \"ehllo\"\n",
        "alphabet_soup(\"edabit\") ➞ \"abdeit\"\n",
        "alphabet_soup(\"hacker\") ➞ \"acehkr\"\n",
        "alphabet_soup(\"geek\") ➞ \"eegk\"\n",
        "alphabet_soup(\"javascript\") ➞ \"aacijprstv\"\n",
        "```\n"
      ],
      "metadata": {
        "id": "3Cx7lr92KIMg"
      }
    },
    {
      "cell_type": "code",
      "source": [
        "def alphabet_soup(string):\n",
        "  return ''.join(sorted(string))"
      ],
      "metadata": {
        "id": "-NmZw7NNM-Gr"
      },
      "execution_count": null,
      "outputs": []
    },
    {
      "cell_type": "code",
      "source": [
        "print(alphabet_soup(\"hello\"))\n",
        "print(alphabet_soup(\"javascript\"))"
      ],
      "metadata": {
        "colab": {
          "base_uri": "https://localhost:8080/"
        },
        "id": "9y1yc_PYNc0Y",
        "outputId": "9c1bab86-3286-4e50-9ed3-8acd173ebd0e"
      },
      "execution_count": null,
      "outputs": [
        {
          "output_type": "stream",
          "name": "stdout",
          "text": [
            "ehllo\n",
            "aacijprstv\n"
          ]
        }
      ]
    },
    {
      "cell_type": "markdown",
      "source": [
        "## Question 4"
      ],
      "metadata": {
        "id": "5f4lClxyNn-3"
      }
    },
    {
      "cell_type": "markdown",
      "source": [
        "```\n",
        "Suppose that you invest $10,000 for 10 years at an interest rate of 6% compounded monthly.\n",
        "What will be the value of your investment at the end of the 10 year period? \n",
        "Create a function that accepts the principal p,\n",
        "the term in years t, the interest rate r, and the number of compounding periods per year n.\n",
        "\n",
        "The function returns the value at the end of term rounded to the nearest cent. \n",
        "For the example above: compound_interest(10000, 10, 0.06, 12) ➞ 18193.97 Note that the interest rate is given as a decimal and\n",
        "n=12 because with monthly compounding there are 12 periods per year. Compounding can also be done annually, quarterly, weekly, or daily. \n",
        "\n",
        "Examples:\n",
        "compound_interest(100, 1, 0.05, 1) ➞ 105.0\n",
        "compound_interest(3500, 15, 0.1, 4) ➞ 15399.26\n",
        "compound_interest(100000, 20, 0.15, 365) ➞ 2007316.26\n",
        "```"
      ],
      "metadata": {
        "id": "gItHzQxLKXIk"
      }
    },
    {
      "cell_type": "code",
      "source": [
        "def compound_interest(principal,years,roi,cp):\n",
        "    ci = principal*(1+(roi/cp))**(cp*years)\n",
        "    print(f\"{round(ci,2)}\")\n",
        "\n",
        "compound_interest(100, 1, 0.05, 1)\n",
        "compound_interest(3500, 15, 0.1, 4)\n",
        "compound_interest(100000, 20, 0.15, 365)"
      ],
      "metadata": {
        "colab": {
          "base_uri": "https://localhost:8080/"
        },
        "id": "tJqu3Rv3Nws6",
        "outputId": "b039d3cf-d0f6-441b-d19d-2f075af643a8"
      },
      "execution_count": null,
      "outputs": [
        {
          "output_type": "stream",
          "name": "stdout",
          "text": [
            "105.0\n",
            "15399.26\n",
            "2007316.26\n"
          ]
        }
      ]
    },
    {
      "cell_type": "markdown",
      "source": [
        "## Question 5 "
      ],
      "metadata": {
        "id": "eBxb5QD2Kq6C"
      }
    },
    {
      "cell_type": "markdown",
      "source": [
        "```\n",
        "Write a function that takes a list of elements and returns only the integers. \n",
        "\n",
        "Examples:\n",
        "return_only_integer([9, 2, \"space\", \"car\", \"lion\", 16]) ➞ [9, 2, 16]\n",
        "return_only_integer([\"hello\", 81, \"basketball\", 123, \"fox\"]) ➞ [81, 123]\n",
        "return_only_integer([10, \"121\", 56, 20, \"car\", 3, \"lion\"]) ➞ [10, 56, 20, 3]\n",
        "return_only_integer([\"String\", True, 3.3, 1]) ➞ [1]\n",
        "```"
      ],
      "metadata": {
        "id": "aVmfh5HPKo54"
      }
    },
    {
      "cell_type": "code",
      "source": [
        "def return_only_integer(items):\n",
        "  nums = filter(lambda item : type(item) is int, items)\n",
        "  nums = list(nums)\n",
        "  return nums"
      ],
      "metadata": {
        "id": "2YlwGav9JNsR"
      },
      "execution_count": null,
      "outputs": []
    },
    {
      "cell_type": "code",
      "source": [
        "print(return_only_integer([9, 2, \"space\", \"car\", \"lion\", 16])) \n",
        "print(return_only_integer([\"hello\", 81, \"basketball\", 123, \"fox\"])) \n",
        "print(return_only_integer([10, \"121\", 56, 20, \"car\", 3, \"lion\"])) \n",
        "print(return_only_integer([\"String\", True, 3.3, 1])) "
      ],
      "metadata": {
        "colab": {
          "base_uri": "https://localhost:8080/"
        },
        "id": "91OSYKVaOTYG",
        "outputId": "866612ea-74f2-4263-8d32-a45af25e48f3"
      },
      "execution_count": null,
      "outputs": [
        {
          "output_type": "stream",
          "name": "stdout",
          "text": [
            "[9, 2, 16]\n",
            "[81, 123]\n",
            "[10, 56, 20, 3]\n",
            "[1]\n"
          ]
        }
      ]
    }
  ]
}