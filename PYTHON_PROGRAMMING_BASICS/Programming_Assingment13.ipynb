{
  "nbformat": 4,
  "nbformat_minor": 0,
  "metadata": {
    "colab": {
      "provenance": [],
      "collapsed_sections": [
        "GgcXePG4v6cp"
      ],
      "toc_visible": true
    },
    "kernelspec": {
      "name": "python3",
      "display_name": "Python 3"
    },
    "language_info": {
      "name": "python"
    }
  },
  "cells": [
    {
      "cell_type": "markdown",
      "source": [
        "# Programming Assingment 13"
      ],
      "metadata": {
        "id": "mWFTuZtjul-M"
      }
    },
    {
      "cell_type": "markdown",
      "source": [
        "## Question 1"
      ],
      "metadata": {
        "id": "GgcXePG4v6cp"
      }
    },
    {
      "cell_type": "markdown",
      "source": [
        "```\n",
        "Write a program that calculates and prints the value according to the given formula:\n",
        "\n",
        "Q = Square root of [(2 * C * D)/H]\n",
        "\n",
        "Following are the fixed values of C and H:\n",
        "C is 50. H is 30.\n",
        "D is the variable whose values should be input to your program in a comma-separated sequence.\n",
        "\n",
        "Example\n",
        "Let us assume the following comma separated input sequence is given to the program:\n",
        "100,150,180\n",
        "\n",
        "The output of the program should be:\n",
        "18,22,24\n",
        "```"
      ],
      "metadata": {
        "id": "8vA916a8vuGK"
      }
    },
    {
      "cell_type": "code",
      "source": [
        "from math import sqrt\n",
        "x = input(\"Enter comma separated input sequence : \")\n",
        "y = []\n",
        "C = 50\n",
        "H = 30\n",
        "for i in x.split(','):\n",
        "  i = int(i)\n",
        "  Q = str(int(sqrt((2*C*i)/H)))\n",
        "  y.append(Q)\n",
        "\n",
        "ans = ','.join(y)\n",
        "\n",
        "print(ans)"
      ],
      "metadata": {
        "colab": {
          "base_uri": "https://localhost:8080/"
        },
        "id": "6EeJhibSzabT",
        "outputId": "3b0fef73-ddfa-4a3a-de66-e5b5f6c33aba"
      },
      "execution_count": null,
      "outputs": [
        {
          "output_type": "stream",
          "name": "stdout",
          "text": [
            "Enter comma separated input sequence : 100,150,180\n",
            "18,22,24\n"
          ]
        }
      ]
    },
    {
      "cell_type": "markdown",
      "source": [
        "## Question 2"
      ],
      "metadata": {
        "id": "N0p6KFbwxVP6"
      }
    },
    {
      "cell_type": "markdown",
      "source": [
        "```\n",
        "Write a program which takes 2 digits, X,Y as input and generates a 2-dimensional array.\n",
        "The element value in the i-th row and j-th column of the array should be i*j.\n",
        "\n",
        "Note: i=0,1.., X-1; j=0,1,¡Y-1.\n",
        "\n",
        "Example\n",
        "Suppose the following inputs are given to the program:\n",
        "3,5\n",
        "\n",
        "Then, the output of the program should be:\n",
        "[[0, 0, 0, 0, 0], [0, 1, 2, 3, 4], [0, 2, 4, 6, 8]] \n",
        "```"
      ],
      "metadata": {
        "id": "0zQRtDG1xSya"
      }
    },
    {
      "cell_type": "code",
      "source": [
        "X = int(input(\"ENTER X : \"))\n",
        "Y = int(input(\"ENTER Y : \"))\n",
        "ans = []\n",
        "\n",
        "for i in range(X):\n",
        "  l = []\n",
        "  for j in range(Y):\n",
        "    l.append(i*j)\n",
        "  ans.append(l)\n",
        "print(ans)"
      ],
      "metadata": {
        "colab": {
          "base_uri": "https://localhost:8080/"
        },
        "id": "iSSpAxhn0dET",
        "outputId": "b4cd3026-12fa-46bc-84d2-f1e61794c252"
      },
      "execution_count": null,
      "outputs": [
        {
          "output_type": "stream",
          "name": "stdout",
          "text": [
            "ENTER X : 3\n",
            "ENTER Y : 5\n",
            "[[0, 0, 0, 0, 0], [0, 1, 2, 3, 4], [0, 2, 4, 6, 8]]\n"
          ]
        }
      ]
    },
    {
      "cell_type": "markdown",
      "source": [
        "## Question 3"
      ],
      "metadata": {
        "id": "HH6azKjAyAKq"
      }
    },
    {
      "cell_type": "markdown",
      "source": [
        "```\n",
        "Write a program that accepts a comma separated sequence of words as input \n",
        "and prints the words in a comma-separated sequence after sorting them alphabetically.\n",
        "\n",
        "Suppose the following input is supplied to the program:\n",
        "without,hello,bag,world\n",
        "\n",
        "Then, the output should be:\n",
        "bag,hello,without,world\n",
        "```"
      ],
      "metadata": {
        "id": "GXXiBsWFxwQ7"
      }
    },
    {
      "cell_type": "code",
      "source": [
        "x = input(\"Enter comma separated input sequence : \")\n",
        "y = x.split(',')\n",
        "y.sort()\n",
        "ans = ','.join(y)\n",
        "ans"
      ],
      "metadata": {
        "colab": {
          "base_uri": "https://localhost:8080/",
          "height": 54
        },
        "id": "-XKkWtwz1ZJs",
        "outputId": "95d0b48f-bedd-4117-f706-2d9f980d060e"
      },
      "execution_count": null,
      "outputs": [
        {
          "name": "stdout",
          "output_type": "stream",
          "text": [
            "Enter comma separated input sequence : without,hello,bag,world\n"
          ]
        },
        {
          "output_type": "execute_result",
          "data": {
            "text/plain": [
              "'bag,hello,without,world'"
            ],
            "application/vnd.google.colaboratory.intrinsic+json": {
              "type": "string"
            }
          },
          "metadata": {},
          "execution_count": 18
        }
      ]
    },
    {
      "cell_type": "markdown",
      "source": [
        "## Question 4"
      ],
      "metadata": {
        "id": "gEXl_VtByIN7"
      }
    },
    {
      "cell_type": "markdown",
      "source": [
        "```\n",
        "Write a program that accepts a sequence of whitespace separated words as input and\n",
        "prints the words after removing all duplicate words and sorting them alphanumerically.\n",
        "\n",
        "Suppose the following input is supplied to the program:\n",
        "hello world and practice makes perfect and hello world again\n",
        "\n",
        "Then, the output should be:\n",
        "again and hello makes perfect practice world\n",
        "```"
      ],
      "metadata": {
        "id": "GmbO_ylryKFr"
      }
    },
    {
      "cell_type": "code",
      "source": [
        "x = input(\"Enter comma separated input sequence : \")\n",
        "y = x.split(' ')\n",
        "y = list(set(y))\n",
        "y.sort()\n",
        "ans = ' '.join(y)\n",
        "ans"
      ],
      "metadata": {
        "colab": {
          "base_uri": "https://localhost:8080/",
          "height": 54
        },
        "id": "ZnzUQUU12PZE",
        "outputId": "1cca5ea3-4829-45dd-fe14-2efb66b3478a"
      },
      "execution_count": null,
      "outputs": [
        {
          "name": "stdout",
          "output_type": "stream",
          "text": [
            "Enter comma separated input sequence : hello world and practice makes perfect and hello world again\n"
          ]
        },
        {
          "output_type": "execute_result",
          "data": {
            "text/plain": [
              "'again and hello makes perfect practice world'"
            ],
            "application/vnd.google.colaboratory.intrinsic+json": {
              "type": "string"
            }
          },
          "metadata": {},
          "execution_count": 21
        }
      ]
    },
    {
      "cell_type": "markdown",
      "source": [
        "## Question 5"
      ],
      "metadata": {
        "id": "8DfbwIfCyd9i"
      }
    },
    {
      "cell_type": "markdown",
      "source": [
        "```\n",
        "Write a program that accepts a sentence and calculate the number of letters and digits.\n",
        "\n",
        "Suppose the following input is supplied to the program:\n",
        "hello world! 123\n",
        "\n",
        "Then, the output should be:\n",
        "LETTERS 10\n",
        "DIGITS 3\n",
        "```"
      ],
      "metadata": {
        "id": "SSiD4bjfycEy"
      }
    },
    {
      "cell_type": "code",
      "source": [
        "letters = 'ABCDEFGHIJKLMNOPQRSTUVWXYZabcdefghijklmnopqrstuvwxyz'\n",
        "letter_count = 0\n",
        "digits = '0123456789'\n",
        "digit_count = 0\n",
        "\n",
        "x = input(\"Enter comma separated input sequence : \")\n",
        "\n",
        "for char in [*x]:\n",
        "  if char in letters:\n",
        "    letter_count += 1\n",
        "  if char in digits:\n",
        "    digit_count += 1\n",
        "\n",
        "print(f\"LATTERS : {letter_count}\")\n",
        "print(f\"DIGITS : {digit_count}\")"
      ],
      "metadata": {
        "colab": {
          "base_uri": "https://localhost:8080/"
        },
        "id": "-Ralsfpx2kbw",
        "outputId": "ff344daf-3109-4867-bde8-b7d3d6080669"
      },
      "execution_count": null,
      "outputs": [
        {
          "output_type": "stream",
          "name": "stdout",
          "text": [
            "Enter comma separated input sequence : hello world! 123\n",
            "LATTERS : 10\n",
            "DIGITS : 3\n"
          ]
        }
      ]
    },
    {
      "cell_type": "markdown",
      "source": [
        "## Question 6"
      ],
      "metadata": {
        "id": "B5FfYyZty4qa"
      }
    },
    {
      "cell_type": "markdown",
      "source": [
        "```\n",
        "A website requires the users to input username and password to register. Write a program to check the validity of password input by users.\n",
        "\n",
        "Following are the criteria for checking the password:\n",
        "\n",
        "1. At least 1 letter between [a-z]\n",
        "2. At least 1 number between [0-9]\n",
        "1. At least 1 letter between [A-Z]\n",
        "3. At least 1 character from [$#@]\n",
        "4. Minimum length of transaction password: 6\n",
        "5. Maximum length of transaction password: 12\n",
        "\n",
        "Your program should accept a sequence of comma separated passwords and will check them according to the above criteria.\n",
        "Passwords that match the criteria are to be printed, each separated by a comma.\n",
        "\n",
        "Example\n",
        "\n",
        "If the following passwords are given as input to the program:\n",
        "ABd1234@1,a F1#,2w3E*,2We3345\n",
        "\n",
        "Then, the output of the program should be:\n",
        "ABd1234@1\n",
        "```\n"
      ],
      "metadata": {
        "id": "jXA-wb98ur9v"
      }
    },
    {
      "cell_type": "code",
      "source": [
        "import re\n",
        "passwords = input(\"Input your password : \")\n",
        "\n",
        "ans = []\n",
        "\n",
        "for password in passwords.split(','):  \n",
        "    if (len(password)<=6 or len(password)>=12):\n",
        "        continue\n",
        "    elif not re.search(\"[a-z]\",password):\n",
        "        continue\n",
        "    elif not re.search(\"[0-9]\",password):\n",
        "        continue\n",
        "    elif not re.search(\"[A-Z]\",password):\n",
        "        continue\n",
        "    elif not re.search(\"[$#@]\",password):\n",
        "        continue\n",
        "    else:\n",
        "        ans.append(password)\n",
        "\n",
        "ans = ','.join(ans)\n",
        "\n",
        "print(ans)"
      ],
      "metadata": {
        "colab": {
          "base_uri": "https://localhost:8080/"
        },
        "id": "0eWOseHIutDE",
        "outputId": "b97a9e6e-29dd-436d-d6d0-c4aee77d2d03"
      },
      "execution_count": null,
      "outputs": [
        {
          "output_type": "stream",
          "name": "stdout",
          "text": [
            "Input your password : a, ABd1234@1,a F1#,2w3E*,2We3345\n",
            " ABd1234@1\n"
          ]
        }
      ]
    }
  ]
}