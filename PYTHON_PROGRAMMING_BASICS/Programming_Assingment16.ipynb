{
  "nbformat": 4,
  "nbformat_minor": 0,
  "metadata": {
    "colab": {
      "provenance": [],
      "toc_visible": true
    },
    "kernelspec": {
      "name": "python3",
      "display_name": "Python 3"
    },
    "language_info": {
      "name": "python"
    }
  },
  "cells": [
    {
      "cell_type": "markdown",
      "source": [
        "# Programming Assingment 16"
      ],
      "metadata": {
        "id": "8SkFS_6CJB_v"
      }
    },
    {
      "cell_type": "markdown",
      "source": [
        "## Question 1"
      ],
      "metadata": {
        "id": "n79Dukx6JNZG"
      }
    },
    {
      "cell_type": "markdown",
      "source": [
        "```\n",
        "Write a function that stutters a word as if someone is struggling to read it. The first two letters are repeated twice with an ellipsis ... \n",
        "and space after each, and then the word is pronounced with a question mark ?.\n",
        "\n",
        "Examples:\n",
        "stutter(\"incredible\") ➞ \"in... in... incredible?\"\n",
        "stutter(\"enthusiastic\") ➞ \"en... en... enthusiastic?\"\n",
        "stutter(\"outstanding\") ➞ \"ou... ou... outstanding?\"\n",
        "\n",
        "Hint :- Assume all input is in lower case and at least two characters long.\n",
        "```"
      ],
      "metadata": {
        "id": "yxBJeKCRJGtW"
      }
    },
    {
      "cell_type": "code",
      "source": [
        "def stutter(word):\n",
        "\n",
        "  sttr = (word[:2] + '... ' ) * 2 + word + '?'\n",
        "\n",
        "  print(f\"{word} ➞ {sttr}\")\n",
        "\n",
        "stutter(\"incredible\") \n",
        "stutter(\"enthusiastic\") \n",
        "stutter(\"outstanding\") "
      ],
      "metadata": {
        "colab": {
          "base_uri": "https://localhost:8080/"
        },
        "id": "oS1kXFqeKjDP",
        "outputId": "e1646fbc-855e-4aee-9fd5-a827690603ea"
      },
      "execution_count": null,
      "outputs": [
        {
          "output_type": "stream",
          "name": "stdout",
          "text": [
            "incredible ➞ in... in... incredible?\n",
            "enthusiastic ➞ en... en... enthusiastic?\n",
            "outstanding ➞ ou... ou... outstanding?\n"
          ]
        }
      ]
    },
    {
      "cell_type": "markdown",
      "source": [
        "## Question 2"
      ],
      "metadata": {
        "id": "nuYV1jVvJS2f"
      }
    },
    {
      "cell_type": "markdown",
      "source": [
        "```\n",
        "Create a function that takes an angle in radians and returns the \n",
        "corresponding angle in degrees rounded to one decimal place. \n",
        "\n",
        "Examples:\n",
        "radians_to_degrees(1) ➞ 57.3\n",
        "radians_to_degrees(20) ➞ 1145.9\n",
        "radians_to_degrees(50) ➞ 2864.8\n",
        "```"
      ],
      "metadata": {
        "id": "rMjA5zY6JRNG"
      }
    },
    {
      "cell_type": "code",
      "source": [
        "import math\n",
        "\n",
        "def radian_to_degree(radian):\n",
        "    degree = (180/math.pi) * radian\n",
        "\n",
        "    print(f'RADIAN: {radian} ➞ DEGREE: {degree:.1f}')\n",
        "\n",
        "radian_to_degree(1)\n",
        "radian_to_degree(20)\n",
        "radian_to_degree(50)"
      ],
      "metadata": {
        "colab": {
          "base_uri": "https://localhost:8080/"
        },
        "id": "ixqFlWhlLk4W",
        "outputId": "e4d2c125-b41f-4960-904e-4290c77cc993"
      },
      "execution_count": null,
      "outputs": [
        {
          "output_type": "stream",
          "name": "stdout",
          "text": [
            "RADIAN: 1 ➞ DEGREE: 57.3\n",
            "RADIAN: 20 ➞ DEGREE: 1145.9\n",
            "RADIAN: 50 ➞ DEGREE: 2864.8\n"
          ]
        }
      ]
    },
    {
      "cell_type": "markdown",
      "source": [
        "## Question 3"
      ],
      "metadata": {
        "id": "acSeCDR_JtwF"
      }
    },
    {
      "cell_type": "markdown",
      "source": [
        "```\n",
        "In this challenge, establish if a given integer num is a Curzon number.\n",
        "If 1 plus 2 elevated to num is exactly divisible by 1 plus 2 multiplied by num, then num is a Curzon number. \n",
        "Given a non-negative integer num, implement a function that returns True if num is a Curzon number, \n",
        "or False otherwise.\n",
        "\n",
        "Examples:\n",
        "\n",
        "is_curzon(5) ➞ True\n",
        "2 ** 5 + 1 = 33\n",
        "2 * 5 + 1 = 11\n",
        "33 is a multiple of 11\n",
        "\n",
        "is_curzon(10) ➞ False\n",
        "2 ** 10 + 1 = 1025\n",
        "2 * 10 + 1 = 21\n",
        "1025 is not a multiple of 21\n",
        "\n",
        "is_curzon(14) ➞ True\n",
        "2 ** 14 + 1 = 16385\n",
        "2 * 14 + 1 = 29\n",
        "16385 is a multiple of 29\n",
        "```"
      ],
      "metadata": {
        "id": "xWwM9yXOJfuf"
      }
    },
    {
      "cell_type": "code",
      "source": [
        "def is_curzon(num):\n",
        "  ele = 1 + (2 ** num)\n",
        "  mul = 1 + (2 * num) \n",
        "  if ele % mul == 0:\n",
        "    print(\"True\")\n",
        "  else:\n",
        "    print(\"False\")\n",
        "\n",
        "is_curzon(5)\n",
        "is_curzon(10)\n",
        "is_curzon(14)"
      ],
      "metadata": {
        "colab": {
          "base_uri": "https://localhost:8080/"
        },
        "id": "Ek2yT2vwNS0l",
        "outputId": "697b4b60-4f1a-41cc-863f-8a52789a1586"
      },
      "execution_count": null,
      "outputs": [
        {
          "output_type": "stream",
          "name": "stdout",
          "text": [
            "True\n",
            "False\n",
            "True\n"
          ]
        }
      ]
    },
    {
      "cell_type": "markdown",
      "source": [
        "## Question 4"
      ],
      "metadata": {
        "id": "wOt8T0CNJ5GO"
      }
    },
    {
      "cell_type": "markdown",
      "source": [
        "```\n",
        "Given the side length x find the area of a hexagon.\n",
        "\n",
        "Examples:\n",
        "area_of_hexagon(1) ➞ 2.6\n",
        "area_of_hexagon(2) ➞ 10.4\n",
        "area_of_hexagon(3) ➞ 23.4\n",
        "```"
      ],
      "metadata": {
        "id": "jIYqEdvJJyp9"
      }
    },
    {
      "cell_type": "code",
      "source": [
        "from math import sqrt\n",
        "def area_of_hexagon(s):\n",
        "  area = (3*s*s*sqrt(3)) / 2\n",
        "  print(f\"AREA : {area:.1f}\")\n",
        "\n",
        "area_of_hexagon(1)\n",
        "area_of_hexagon(2)\n",
        "area_of_hexagon(3)"
      ],
      "metadata": {
        "colab": {
          "base_uri": "https://localhost:8080/"
        },
        "id": "lTfJhg-2OMCv",
        "outputId": "d76ec374-87a8-4c09-bb2a-6a2608e64c88"
      },
      "execution_count": null,
      "outputs": [
        {
          "output_type": "stream",
          "name": "stdout",
          "text": [
            "AREA : 2.6\n",
            "AREA : 10.4\n",
            "AREA : 23.4\n"
          ]
        }
      ]
    },
    {
      "cell_type": "markdown",
      "source": [
        "## Question 5"
      ],
      "metadata": {
        "id": "UTGczUYCKB5Q"
      }
    },
    {
      "cell_type": "markdown",
      "source": [
        "```\n",
        "Create a function that returns a base-2 (binary) representation of a base-10 (decimal) string number. \n",
        "To convert is simple: ((2) means base-2 and (10) means base-10) 010101001(2) = 1 + 8 + 32 + 128.\n",
        "Going from right to left, the value of the most right bit is 1, \n",
        "now from that every bit to the left will be x2 the value, value of an 8 bit binary numbers are (256, 128, 64, 32, 16, 8, 4, 2, 1).\n",
        "\n",
        "Examples \n",
        "\n",
        "binary(1) ➞ \"1\"\n",
        "1*1 = 1\n",
        "\n",
        "binary(5) ➞ \"101\"\n",
        "11 + 14 = 5\n",
        "\n",
        "binary(10) ➞ \"1010\"\n",
        "12 + 18 = 10\n",
        "```"
      ],
      "metadata": {
        "id": "BLCFYHkGJ-HO"
      }
    },
    {
      "cell_type": "code",
      "source": [
        "def decimal_to_binary(num_10):\n",
        "  tmp = num_10\n",
        "  bits = []\n",
        "\n",
        "  while tmp > 0:\n",
        "    bit = tmp % 2\n",
        "    bits.append(str(bit))\n",
        "    tmp //= 2\n",
        "\n",
        "  bits.reverse()\n",
        "  num_2 = ''.join(bits)\n",
        "  \n",
        "  print(f\"DECIMAL '{num_10}' ➞ BINARY '{num_2}'\")\n",
        "\n",
        "decimal_to_binary(1)\n",
        "decimal_to_binary(5)\n",
        "decimal_to_binary(10)"
      ],
      "metadata": {
        "colab": {
          "base_uri": "https://localhost:8080/"
        },
        "id": "PjlUaI3wQbgW",
        "outputId": "93c6ebcb-a60c-49bd-c054-4f83745cc8f2"
      },
      "execution_count": null,
      "outputs": [
        {
          "output_type": "stream",
          "name": "stdout",
          "text": [
            "DECIMAL '1' ➞ BINARY '1'\n",
            "DECIMAL '5' ➞ BINARY '101'\n",
            "DECIMAL '10' ➞ BINARY '1010'\n"
          ]
        }
      ]
    },
    {
      "cell_type": "code",
      "source": [
        "def binary(num_10):\n",
        "  num_2 = bin(num_10).replace('0b','') \n",
        "  print(f\"DECIMAL '{num_10}' ➞ BINARY '{num_2}'\")\n",
        "\n",
        "binary(1)\n",
        "binary(5)\n",
        "binary(10)"
      ],
      "metadata": {
        "colab": {
          "base_uri": "https://localhost:8080/"
        },
        "id": "aIfyATTePlA3",
        "outputId": "18b05525-68b3-4daf-dcdc-8b2929c3f57b"
      },
      "execution_count": null,
      "outputs": [
        {
          "output_type": "stream",
          "name": "stdout",
          "text": [
            "DECIMAL '1' ➞ BINARY '1'\n",
            "DECIMAL '5' ➞ BINARY '101'\n",
            "DECIMAL '10' ➞ BINARY '1010'\n"
          ]
        }
      ]
    }
  ]
}