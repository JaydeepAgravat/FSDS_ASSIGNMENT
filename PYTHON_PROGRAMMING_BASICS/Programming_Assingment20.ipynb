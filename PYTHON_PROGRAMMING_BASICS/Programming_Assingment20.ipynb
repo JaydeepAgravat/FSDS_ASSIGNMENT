{
  "nbformat": 4,
  "nbformat_minor": 0,
  "metadata": {
    "colab": {
      "provenance": [],
      "toc_visible": true
    },
    "kernelspec": {
      "name": "python3",
      "display_name": "Python 3"
    },
    "language_info": {
      "name": "python"
    }
  },
  "cells": [
    {
      "cell_type": "markdown",
      "source": [
        "# Programming Assingment 20"
      ],
      "metadata": {
        "id": "lmUyF4aFQa_A"
      }
    },
    {
      "cell_type": "markdown",
      "source": [
        "## Question 1 "
      ],
      "metadata": {
        "id": "gcpq2cNhQlQC"
      }
    },
    {
      "cell_type": "markdown",
      "source": [
        "```\n",
        "Create a function that takes a list of strings and integers, and filters out the list so that it returns a list of integers only.\n",
        "\n",
        "Examples:\n",
        "filter_list([1, 2, 3, \"a\", \"b\", 4]) ➞ [1, 2, 3, 4]\n",
        "filter_list([\"A\", 0, \"Edabit\", 1729, \"Python\", \"1729\"]) ➞ [0, 1729]\n",
        "filter_list([\"Nothing\", \"here\"]) ➞ []\n",
        "```"
      ],
      "metadata": {
        "id": "GCZ8CDjlQiFN"
      }
    },
    {
      "cell_type": "code",
      "source": [
        "def filter_list(items):\n",
        "  nums = filter(lambda item: type(item) is int, items)\n",
        "  nums = list(nums)\n",
        "  return nums\n",
        "\n",
        "print(filter_list([1, 2, 3, \"a\", \"b\", 4]) )\n",
        "print(filter_list([\"A\", 0, \"Edabit\", 1729, \"Python\", \"1729\"]) )\n",
        "print(filter_list([\"Nothing\", \"here\"]))"
      ],
      "metadata": {
        "colab": {
          "base_uri": "https://localhost:8080/"
        },
        "id": "3Cdr7ocIRiqP",
        "outputId": "91607cb4-5b0b-4488-fe59-66d3d76f62f8"
      },
      "execution_count": null,
      "outputs": [
        {
          "output_type": "stream",
          "name": "stdout",
          "text": [
            "[1, 2, 3, 4]\n",
            "[0, 1729]\n",
            "[]\n"
          ]
        }
      ]
    },
    {
      "cell_type": "markdown",
      "source": [
        "## Question 2 "
      ],
      "metadata": {
        "id": "QVSY8reNQ1bL"
      }
    },
    {
      "cell_type": "markdown",
      "source": [
        "```\n",
        "Given a list of numbers, create a function which returns the list but with each element's index in the list added to itself.\n",
        "This means you add 0 to the number at index 0, add 1 to the number at index 1, etc...\n",
        "\n",
        "Examples:\n",
        "add_indexes([0, 0, 0, 0, 0]) ➞ [0, 1, 2, 3, 4]\n",
        "add_indexes([1, 2, 3, 4, 5]) ➞ [1, 3, 5, 7, 9]\n",
        "add_indexes([5, 4, 3, 2, 1]) ➞ [5, 5, 5, 5, 5]\n",
        "```"
      ],
      "metadata": {
        "id": "0F7t9MacQtCd"
      }
    },
    {
      "cell_type": "code",
      "source": [
        "def add_indexes(itmes):\n",
        "  nums = []\n",
        "  for index, num in enumerate(itmes):\n",
        "    nums.append(num+index)\n",
        "  return nums\n",
        "\n",
        "print(add_indexes([0, 0, 0, 0, 0]))\n",
        "print(add_indexes([1, 2, 3, 4, 5]))\n",
        "print(add_indexes([5, 4, 3, 2, 1]))"
      ],
      "metadata": {
        "colab": {
          "base_uri": "https://localhost:8080/"
        },
        "id": "on6lTeEnSyNh",
        "outputId": "7afecd58-b2d8-4208-9633-b7c38bbf4e2e"
      },
      "execution_count": null,
      "outputs": [
        {
          "output_type": "stream",
          "name": "stdout",
          "text": [
            "[0, 1, 2, 3, 4]\n",
            "[1, 3, 5, 7, 9]\n",
            "[5, 5, 5, 5, 5]\n"
          ]
        }
      ]
    },
    {
      "cell_type": "markdown",
      "source": [
        "## Question 3 "
      ],
      "metadata": {
        "id": "ETWcLfFqQ_cS"
      }
    },
    {
      "cell_type": "markdown",
      "source": [
        "```\n",
        "Create a function that takes the height and radius of a cone as arguments and returns the volume of the cone rounded to the nearest hundredth.\n",
        "See the resources tab for the formula.\n",
        "\n",
        "Examples:\n",
        "cone_volume(3, 2) ➞ 12.57\n",
        "cone_volume(15, 6) ➞ 565.49\n",
        "cone_volume(18, 0) ➞ 0\n",
        "```"
      ],
      "metadata": {
        "id": "ccQC3MfjQ43q"
      }
    },
    {
      "cell_type": "code",
      "source": [
        "import math\n",
        "def cone_volume(h, r):\n",
        "  v = (1/3)*h*math.pi*r*r\n",
        "  return round(v, 2)\n",
        "\n",
        "print(cone_volume(3, 2))\n",
        "print(cone_volume(15, 6))\n",
        "print(cone_volume(18, 0))"
      ],
      "metadata": {
        "colab": {
          "base_uri": "https://localhost:8080/"
        },
        "id": "Xv7V1nBpT1FL",
        "outputId": "cf2facc1-7fbc-4f36-e022-0d4dc2614e31"
      },
      "execution_count": null,
      "outputs": [
        {
          "output_type": "stream",
          "name": "stdout",
          "text": [
            "12.57\n",
            "565.49\n",
            "0.0\n"
          ]
        }
      ]
    },
    {
      "cell_type": "markdown",
      "source": [
        "## Question 4 "
      ],
      "metadata": {
        "id": "6ib1LwU-RFXa"
      }
    },
    {
      "cell_type": "markdown",
      "source": [
        "```\n",
        "This Triangular Number Sequence is generated from a pattern of dots that form a triangle. \n",
        "The first 5 numbers of the sequence, or dots, are: 1, 3, 6, 10, 15 This means that the first triangle has just one dot,\n",
        "the second one has three dots, the third one has 6 dots and so on.\n",
        "Write a function that gives the number of dots with its corresponding triangle number of the sequence. \n",
        "\n",
        "Examples:\n",
        "triangle(1) ➞ 1\n",
        "triangle(6) ➞ 21\n",
        "triangle(215) ➞ 23220\n",
        "```"
      ],
      "metadata": {
        "id": "S6uSgpFhRDXi"
      }
    },
    {
      "cell_type": "code",
      "source": [
        "def triangle(n):\n",
        "  return (n*(n+1))//2\n",
        "\n",
        "print(triangle(1))\n",
        "print(triangle(21))\n",
        "print(triangle(215))"
      ],
      "metadata": {
        "colab": {
          "base_uri": "https://localhost:8080/"
        },
        "id": "NdajhrV4U0He",
        "outputId": "a68889a5-b4a1-499b-fa1b-d991824a5c0b"
      },
      "execution_count": null,
      "outputs": [
        {
          "output_type": "stream",
          "name": "stdout",
          "text": [
            "1\n",
            "231\n",
            "23220\n"
          ]
        }
      ]
    },
    {
      "cell_type": "markdown",
      "source": [
        "## Question 5 "
      ],
      "metadata": {
        "id": "SDHdmrChRSzD"
      }
    },
    {
      "cell_type": "markdown",
      "source": [
        "```\n",
        "Create a function that takes a list of numbers between 1 and 10 (excluding one number) and returns the missing number.\n",
        "Examples:\n",
        "missing_num([1, 2, 3, 4, 6, 7, 8, 9, 10]) ➞ 5\n",
        "missing_num([7, 2, 3, 6, 5, 9, 1, 4, 8]) ➞ 10\n",
        "missing_num([10, 5, 1, 2, 4, 6, 8, 3, 9]) ➞ 7\n",
        "```"
      ],
      "metadata": {
        "id": "do02eoyDRMoy"
      }
    },
    {
      "cell_type": "code",
      "execution_count": null,
      "metadata": {
        "colab": {
          "base_uri": "https://localhost:8080/"
        },
        "id": "UrSIDjZqQS08",
        "outputId": "548e2fb5-d4ad-43dd-dec0-e61949dc09de"
      },
      "outputs": [
        {
          "output_type": "stream",
          "name": "stdout",
          "text": [
            "5\n",
            "10\n",
            "7\n"
          ]
        }
      ],
      "source": [
        "def missing_num(nums):\n",
        "  n = len(nums) + 1\n",
        "  original_sum = (n*(n+1))//2\n",
        "  actual_sum = sum(nums)\n",
        "  missing_number = original_sum - actual_sum\n",
        "  return missing_number\n",
        "\n",
        "print(missing_num([1, 2, 3, 4, 6, 7, 8, 9, 10]))\n",
        "print(missing_num([7, 2, 3, 6, 5, 9, 1, 4, 8]))\n",
        "print(missing_num([10, 5, 1, 2, 4, 6, 8, 3, 9]))"
      ]
    }
  ]
}