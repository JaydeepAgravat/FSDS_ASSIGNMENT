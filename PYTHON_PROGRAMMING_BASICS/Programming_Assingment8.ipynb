{
  "nbformat": 4,
  "nbformat_minor": 0,
  "metadata": {
    "colab": {
      "provenance": [],
      "toc_visible": true
    },
    "kernelspec": {
      "name": "python3",
      "display_name": "Python 3"
    },
    "language_info": {
      "name": "python"
    }
  },
  "cells": [
    {
      "cell_type": "markdown",
      "source": [
        "# Programming Assingment 8"
      ],
      "metadata": {
        "id": "Wr5elBnipkzI"
      }
    },
    {
      "cell_type": "markdown",
      "source": [
        "## 1\\. Write a Python Program to Add Two Matrices?"
      ],
      "metadata": {
        "id": "k7Uz09jSpotR"
      }
    },
    {
      "cell_type": "code",
      "source": [
        "def add_matrix(a, b):\n",
        "  row = len(a)\n",
        "  col = len(a[0])\n",
        "\n",
        "  c = [[0,0,0],\n",
        "        [0,0,0],\n",
        "        [0,0,0]]\n",
        "\n",
        "  for i in range(row):\n",
        "    for j in range(col):\n",
        "      c[i][j] = a[i][j] + b[i][j]\n",
        "  \n",
        "  return c\n",
        "\n",
        "a = [[2,2,3],\n",
        "    [1,2,1],\n",
        "    [1,4,3]]\n",
        "\n",
        "b = [[1,3,3],\n",
        "    [2,4,4],\n",
        "    [3,5,2]]\n",
        "\n",
        "c = add_matrix(a, b)\n",
        "\n",
        "print(c)"
      ],
      "metadata": {
        "colab": {
          "base_uri": "https://localhost:8080/"
        },
        "id": "u89vP0lmqLfj",
        "outputId": "062f2e55-65c8-422c-e6e7-71f9892d65b8"
      },
      "execution_count": null,
      "outputs": [
        {
          "output_type": "stream",
          "name": "stdout",
          "text": [
            "[[3, 5, 6], [3, 6, 5], [4, 9, 5]]\n"
          ]
        },
        {
          "output_type": "execute_result",
          "data": {
            "text/plain": [
              "[[100, 5, 6], [3, 6, 5], [4, 9, 5]]"
            ]
          },
          "metadata": {},
          "execution_count": 12
        }
      ]
    },
    {
      "cell_type": "markdown",
      "source": [
        "## 2\\. Write a Python Program to Multiply Two Matrices?"
      ],
      "metadata": {
        "id": "wReRD7Cepojp"
      }
    },
    {
      "cell_type": "code",
      "source": [
        "def mul_matrix(a, b):\n",
        "  rowA = len(a)\n",
        "  colB = len(b[0])\n",
        "  rowB = len(b)\n",
        "\n",
        "  c = [[0,0,0],\n",
        "      [0,0,0],\n",
        "      [0,0,0]]\n",
        "\n",
        "  for i in range(rowA):\n",
        "    for j in range(colB):\n",
        "      for k in range(rowB):\n",
        "        c[i][j] += a[i][k] * b[k][j]\n",
        "  \n",
        "  return c\n",
        "\n",
        "a = [[1,1],\n",
        "    [3,1],\n",
        "    [1,2]]\n",
        "\n",
        "b = [[1,0,1],\n",
        "    [1,2,1]]\n",
        "\n",
        "c = mul_matrix(a, b)\n",
        "\n",
        "print(c)"
      ],
      "metadata": {
        "colab": {
          "base_uri": "https://localhost:8080/"
        },
        "id": "5QKgoHt8tWJX",
        "outputId": "38d2da98-970f-4b73-ae08-e1ba657a7e6f"
      },
      "execution_count": null,
      "outputs": [
        {
          "output_type": "stream",
          "name": "stdout",
          "text": [
            "[[2, 2, 2], [4, 2, 4], [3, 4, 3]]\n"
          ]
        }
      ]
    },
    {
      "cell_type": "markdown",
      "source": [
        "## 3\\. Write a Python Program to Transpose a Matrix?"
      ],
      "metadata": {
        "id": "8Sjd-lvopoZx"
      }
    },
    {
      "cell_type": "code",
      "source": [
        "def transpose(x):\n",
        "\n",
        "  xt = [[0,0,0],\n",
        "         [0,0,0]]\n",
        "\n",
        "  row = len(x)\n",
        "  col = len(x[0])\n",
        "\n",
        "  for i in range(row):\n",
        "    for j in range(col):\n",
        "      xt[j][i] = x[i][j]\n",
        "  \n",
        "  return xt\n",
        "\n",
        "x = [[1,11],\n",
        "    [9,5],\n",
        "    [23,3]]\n",
        "\n",
        "xt = transpose(x)\n",
        "\n",
        "print(xt)"
      ],
      "metadata": {
        "colab": {
          "base_uri": "https://localhost:8080/"
        },
        "id": "8WFJvMtivthC",
        "outputId": "9fbb1a80-d4de-457d-94c4-86e92c50dd62"
      },
      "execution_count": null,
      "outputs": [
        {
          "output_type": "stream",
          "name": "stdout",
          "text": [
            "[[1, 9, 23], [11, 5, 3]]\n"
          ]
        }
      ]
    },
    {
      "cell_type": "markdown",
      "source": [
        "## 4\\. Write a Python Program to Sort Words in Alphabetic Order?"
      ],
      "metadata": {
        "id": "KR02HLYmpoRJ"
      }
    },
    {
      "cell_type": "code",
      "source": [
        "def sort_word(words):\n",
        "  \n",
        "  list_words = [word.lower() for word in words.split()]\n",
        "\n",
        "  list_words.sort()\n",
        "\n",
        "  words = ' '.join(list_words)\n",
        "\n",
        "  return words\n",
        "\n",
        "words = input(\"Ener any words : \")\n",
        "\n",
        "print(sort_word(words))"
      ],
      "metadata": {
        "colab": {
          "base_uri": "https://localhost:8080/"
        },
        "id": "GSfk3CIbxEVO",
        "outputId": "84229f93-6026-4fdc-9235-7f1e31635cd1"
      },
      "execution_count": null,
      "outputs": [
        {
          "output_type": "stream",
          "name": "stdout",
          "text": [
            "Ener any words : Write a Python Program to Remove Punctuation\n",
            "a program punctuation python remove to write\n"
          ]
        }
      ]
    },
    {
      "cell_type": "markdown",
      "source": [
        "## 5\\. Write a Python Program to Remove Punctuation From a String?"
      ],
      "metadata": {
        "id": "3O7xnmdlpoGR"
      }
    },
    {
      "cell_type": "code",
      "execution_count": null,
      "metadata": {
        "colab": {
          "base_uri": "https://localhost:8080/"
        },
        "id": "3VaQLhyppZU5",
        "outputId": "56146ccb-9e16-415f-aa11-aa899630a6c8"
      },
      "outputs": [
        {
          "output_type": "stream",
          "name": "stdout",
          "text": [
            "Enter a String: hi@#$123_*&(\n",
            "hi123\n"
          ]
        }
      ],
      "source": [
        "def remove_punctuatuions(string):\n",
        "\n",
        "    punctuations = '''!()-[]{};:'\"\\,<>./?@#$%^&*_~'''\n",
        "    new_string = ''\n",
        "\n",
        "    for char in string:\n",
        "        if char not in punctuations:\n",
        "            new_string += char\n",
        "\n",
        "    print(new_string)\n",
        "\n",
        "\n",
        "string = input('Enter a String: ')\n",
        "\n",
        "remove_punctuatuions(string)"
      ]
    }
  ]
}