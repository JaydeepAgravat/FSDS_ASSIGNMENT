{
  "nbformat": 4,
  "nbformat_minor": 0,
  "metadata": {
    "colab": {
      "provenance": [],
      "toc_visible": true
    },
    "kernelspec": {
      "name": "python3",
      "display_name": "Python 3"
    },
    "language_info": {
      "name": "python"
    }
  },
  "cells": [
    {
      "cell_type": "markdown",
      "source": [
        "# Programming Assingment 11"
      ],
      "metadata": {
        "id": "XLbiUOmgQlFI"
      }
    },
    {
      "cell_type": "markdown",
      "source": [
        "## 1\\. Write a Python program to find words which are greater than given length k?"
      ],
      "metadata": {
        "id": "Ofp5NEuSQsY0"
      }
    },
    {
      "cell_type": "code",
      "source": [
        "def find_word(words, k):\n",
        "  words = words.split(' ')\n",
        "  greater_word = []\n",
        "  for word in words:\n",
        "    if len(word) > k:\n",
        "      greater_word.append(word)\n",
        "  return greater_word\n",
        "\n",
        "words = input(\"Enter words : \")\n",
        "k = int(input(\"Enter length : \"))\n",
        "print(find_word(words, k))"
      ],
      "metadata": {
        "colab": {
          "base_uri": "https://localhost:8080/"
        },
        "id": "--W2G7JgRa8Z",
        "outputId": "5342fbad-4fd0-4c12-ccd2-d207e0981b8b"
      },
      "execution_count": null,
      "outputs": [
        {
          "output_type": "stream",
          "name": "stdout",
          "text": [
            "Enter words : sdaf afsd dasf f d ds f \n",
            "Enter length : 2\n",
            "['sdaf', 'afsd', 'dasf']\n"
          ]
        }
      ]
    },
    {
      "cell_type": "markdown",
      "source": [
        "## 2\\. Write a Python program for removing i-th character from a string?\n"
      ],
      "metadata": {
        "id": "FM7xkaQ-QvkU"
      }
    },
    {
      "cell_type": "code",
      "source": [
        "def remove_i(string, i):\n",
        "  string = string[:i] + string[i+1:]\n",
        "  return string\n",
        "\n",
        "string = input(\"Enter string : \")\n",
        "i = int(input(\"Enter ith value : \"))\n",
        "print(remove_i(string, i))"
      ],
      "metadata": {
        "colab": {
          "base_uri": "https://localhost:8080/"
        },
        "id": "yUgTIaL3TFr0",
        "outputId": "b7ac2f89-10e2-42ea-8f8d-5a67b548e99f"
      },
      "execution_count": null,
      "outputs": [
        {
          "output_type": "stream",
          "name": "stdout",
          "text": [
            "Enter string : abbcdeef\n",
            "Enter ith value : 5\n",
            "abbcdef\n"
          ]
        }
      ]
    },
    {
      "cell_type": "markdown",
      "source": [
        "## 3\\. Write a Python program to split and join a string?"
      ],
      "metadata": {
        "id": "dFCSDoApQzBF"
      }
    },
    {
      "cell_type": "code",
      "source": [
        "s1 = 'abc-def-gh'\n",
        "print(s1.split('-'))\n",
        "l1 = ['abc', 'def', 'gh']\n",
        "print('-'.join(l1))"
      ],
      "metadata": {
        "colab": {
          "base_uri": "https://localhost:8080/"
        },
        "id": "K6cdYPDDVBSq",
        "outputId": "bf8167bb-2029-4023-b557-fa6c6e696d95"
      },
      "execution_count": null,
      "outputs": [
        {
          "output_type": "stream",
          "name": "stdout",
          "text": [
            "['abc', 'def', 'gh']\n",
            "abc-def-gh\n"
          ]
        }
      ]
    },
    {
      "cell_type": "markdown",
      "source": [
        "## 4\\. Write a Python to check if a given string is binary string or not?"
      ],
      "metadata": {
        "id": "G9_CzPWXQ2OM"
      }
    },
    {
      "cell_type": "code",
      "source": [
        "def is_binary_string(s):\n",
        "  if(s.count('0')+s.count('1')==len(s)):\n",
        "      print(\"Yes\")\n",
        "  else:\n",
        "      print(\"No\")\n",
        "\n",
        "s1 = \"111111100000101010\"\n",
        "s2 = \"acvvds01001dsf0101\"\n",
        "\n",
        "is_binary_string(s1)\n",
        "is_binary_string(s2)"
      ],
      "metadata": {
        "colab": {
          "base_uri": "https://localhost:8080/"
        },
        "id": "OHrTWAVCW41L",
        "outputId": "b28b3de2-cee8-45bc-c1e9-e0635b6e8dad"
      },
      "execution_count": null,
      "outputs": [
        {
          "output_type": "stream",
          "name": "stdout",
          "text": [
            "Yes\n",
            "No\n"
          ]
        }
      ]
    },
    {
      "cell_type": "markdown",
      "source": [
        "## 5\\. Write a Python program to find uncommon words from two Strings?"
      ],
      "metadata": {
        "id": "w8y09LCfQ43C"
      }
    },
    {
      "cell_type": "code",
      "source": [
        "def uncommon_words(s1, s2):\n",
        "    s1 = s1.split()\n",
        "    s2 = s2.split()\n",
        "    lst = []\n",
        "    for s in s1:\n",
        "        if s not in s2:\n",
        "            lst.append(s)\n",
        "    for s in s2:\n",
        "        if s not in s1:\n",
        "            lst.append(s)\n",
        "\n",
        "    uncommon = list(set(lst))\n",
        "\n",
        "    return uncommon\n",
        "\n",
        "s1 = 'hello hi by there vi'\n",
        "s2 = 'no by the way yes hi hello'\n",
        "print(uncommon_words(s1, s2))"
      ],
      "metadata": {
        "colab": {
          "base_uri": "https://localhost:8080/"
        },
        "id": "Z7-NomGEX_PB",
        "outputId": "dc1a0183-2d8e-42f7-bf2f-ded39f198c70"
      },
      "execution_count": null,
      "outputs": [
        {
          "output_type": "stream",
          "name": "stdout",
          "text": [
            "['way', 'vi', 'the', 'yes', 'no', 'there']\n"
          ]
        }
      ]
    },
    {
      "cell_type": "markdown",
      "source": [
        "## 6\\. Write a Python to find all duplicate characters in string?"
      ],
      "metadata": {
        "id": "lpXlVLUeQ8Jy"
      }
    },
    {
      "cell_type": "code",
      "source": [
        "def find_duplicate_char(string):\n",
        "    lst = []\n",
        "\n",
        "    for char in string:\n",
        "        if char not in lst and string.count(char)>1:\n",
        "            lst.append(char)\n",
        "    \n",
        "    duplicate = lst\n",
        "\n",
        "    return duplicate\n",
        "\n",
        "s = input(\"Enter a string : \")\n",
        "print(find_duplicate_char(s))"
      ],
      "metadata": {
        "colab": {
          "base_uri": "https://localhost:8080/"
        },
        "id": "5tcA1V6bZKvj",
        "outputId": "f264d5db-158c-4eee-dd90-f980990885bc"
      },
      "execution_count": null,
      "outputs": [
        {
          "output_type": "stream",
          "name": "stdout",
          "text": [
            "Enter a string : hi hello by by\n",
            "['h', ' ', 'l', 'b', 'y']\n"
          ]
        }
      ]
    },
    {
      "cell_type": "markdown",
      "source": [
        "## 7\\. Write a Python Program to check if a string contains any special character?\n"
      ],
      "metadata": {
        "id": "OMu6Fak8Qmo8"
      }
    },
    {
      "cell_type": "code",
      "source": [
        "def is_special_char(s):\n",
        "  for c in s:\n",
        "    if not (c.isalpha() or c.isdigit() or c == ' '):\n",
        "      return True\n",
        "  return False\n",
        "\n",
        "s = 'and & * abd'\n",
        "\n",
        "if is_special_char(s):\n",
        "  print('YES SPECIAL')\n",
        "else:\n",
        "  print('NOT A SPECIAL')"
      ],
      "metadata": {
        "colab": {
          "base_uri": "https://localhost:8080/"
        },
        "id": "EjeYd9VMQqsT",
        "outputId": "d7eb657b-8871-4553-ba3b-2f140c3370ff"
      },
      "execution_count": null,
      "outputs": [
        {
          "output_type": "stream",
          "name": "stdout",
          "text": [
            "YES SPECIAL\n"
          ]
        }
      ]
    }
  ]
}