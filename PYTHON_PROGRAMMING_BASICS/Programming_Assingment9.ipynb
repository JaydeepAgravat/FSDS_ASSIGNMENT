{
  "nbformat": 4,
  "nbformat_minor": 0,
  "metadata": {
    "colab": {
      "provenance": [],
      "toc_visible": true
    },
    "kernelspec": {
      "name": "python3",
      "display_name": "Python 3"
    },
    "language_info": {
      "name": "python"
    }
  },
  "cells": [
    {
      "cell_type": "markdown",
      "source": [
        "# Programming Assingment 9"
      ],
      "metadata": {
        "id": "LL5hQIfkZbsL"
      }
    },
    {
      "cell_type": "markdown",
      "source": [
        "## 1\\. Write a Python program to check if the given number is a Disarium Number?"
      ],
      "metadata": {
        "id": "nGaspPNSZkXP"
      }
    },
    {
      "cell_type": "code",
      "source": [
        "def is_disarium_number(num):\n",
        "\n",
        "  temp = num\n",
        "  sum = 0\n",
        "  i = len(str(num))\n",
        "\n",
        "  while num > 0:\n",
        "    sum += (num%10)**i\n",
        "    i -= 1\n",
        "    num //= 10\n",
        "\n",
        "  if sum==temp:\n",
        "    return True\n",
        "  else:\n",
        "    return False\n",
        "\n",
        "num = int(input(\"Enter a number : \"))\n",
        "\n",
        "if is_disarium_number(num):\n",
        "  print(\"Disarium Number\")\n",
        "else:\n",
        "  print(\"Not a Disarium Number\")"
      ],
      "metadata": {
        "colab": {
          "base_uri": "https://localhost:8080/"
        },
        "id": "cruz2reeaJZ1",
        "outputId": "26073002-897a-43db-8f39-6ad1bc661a6a"
      },
      "execution_count": null,
      "outputs": [
        {
          "output_type": "stream",
          "name": "stdout",
          "text": [
            "Enter a number : 7688\n",
            "4651\n",
            "Not a Disarium Number\n"
          ]
        }
      ]
    },
    {
      "cell_type": "markdown",
      "source": [
        "## 2\\. Write a Python program to print all disarium numbers between 1 to 100?"
      ],
      "metadata": {
        "id": "OdlE-NEcZnf_"
      }
    },
    {
      "cell_type": "code",
      "source": [
        "def disarium_interval(n1, n2):\n",
        "  for i in range(n1, n2+1):\n",
        "    if is_disarium_number(i):\n",
        "      print(i,end=' ')\n",
        "\n",
        "def is_disarium_number(num):\n",
        "  temp = num\n",
        "  sum = 0\n",
        "  i = len(str(num))\n",
        "  while num > 0:\n",
        "    sum += (num%10)**i\n",
        "    i -= 1\n",
        "    num //= 10\n",
        "  if sum==temp:\n",
        "    return True\n",
        "  else:\n",
        "    return False\n",
        "\n",
        "disarium_interval(1,100)"
      ],
      "metadata": {
        "colab": {
          "base_uri": "https://localhost:8080/"
        },
        "id": "djPgsZ7Vczjv",
        "outputId": "3e61afbd-220f-4c3a-e125-16351c9bf612"
      },
      "execution_count": null,
      "outputs": [
        {
          "output_type": "stream",
          "name": "stdout",
          "text": [
            "1 2 3 4 5 6 7 8 9 89 "
          ]
        }
      ]
    },
    {
      "cell_type": "markdown",
      "source": [
        "## 3\\. Write a Python program to check if the given number is Happy Number?"
      ],
      "metadata": {
        "id": "0Cm-2dcZZsD_"
      }
    },
    {
      "cell_type": "code",
      "source": [
        "def is_happy_num(n):\n",
        "  record = set()\n",
        "  while n !=1 :\n",
        "    n = sum(int(i)**2 for i in str(n))\n",
        "    if n in record:\n",
        "      return False\n",
        "    else:\n",
        "      record.add(n)\n",
        "  return True\n",
        "\n",
        "num = int(input(\"Enter a number : \"))\n",
        "print(is_happy_num(num))"
      ],
      "metadata": {
        "colab": {
          "base_uri": "https://localhost:8080/"
        },
        "id": "idL-m0B8fCuV",
        "outputId": "1fb75046-de7f-4cfd-ef4c-502ff441f843"
      },
      "execution_count": null,
      "outputs": [
        {
          "output_type": "stream",
          "name": "stdout",
          "text": [
            "Enter a number : 7\n",
            "True\n"
          ]
        }
      ]
    },
    {
      "cell_type": "markdown",
      "source": [
        "## 4\\. Write a Python program to print all happy numbers between 1 and 100?\n"
      ],
      "metadata": {
        "id": "MYbCdW9wZwFo"
      }
    },
    {
      "cell_type": "code",
      "source": [
        "def happy(n1, n2):\n",
        "  for num in range(n1, n2+1):\n",
        "    if is_happy_num(num):\n",
        "      print(num,end=' ')\n",
        "\n",
        "happy(1, 100)"
      ],
      "metadata": {
        "colab": {
          "base_uri": "https://localhost:8080/"
        },
        "id": "NX_pD8MbfnAP",
        "outputId": "cc606f51-599a-463e-969c-bce6c5c64e9d"
      },
      "execution_count": null,
      "outputs": [
        {
          "output_type": "stream",
          "name": "stdout",
          "text": [
            "1 7 10 13 19 23 28 31 32 44 49 68 70 79 82 86 91 94 97 100 "
          ]
        }
      ]
    },
    {
      "cell_type": "markdown",
      "source": [
        "## 5\\. Write a Python program to determine whether the given number is a Harshad Number?"
      ],
      "metadata": {
        "id": "4jchD_8eZzKg"
      }
    },
    {
      "cell_type": "code",
      "source": [
        "def harshad_number(num):\n",
        "  temp = num\n",
        "  sum = 0\n",
        "\n",
        "  while num > 0:\n",
        "    sum += num%10\n",
        "    num //= 10\n",
        "  \n",
        "  if (temp % sum) == 0:\n",
        "    print(\"Harshad Number\")\n",
        "  else:\n",
        "    print(\"Not a Harshad Number\")\n",
        "\n",
        "num = int(input(\"Enter a number : \"))\n",
        "harshad_number(num)"
      ],
      "metadata": {
        "colab": {
          "base_uri": "https://localhost:8080/"
        },
        "id": "lNl8Imgagau1",
        "outputId": "c3c336fd-20ec-4333-a05c-909d1b84487e"
      },
      "execution_count": null,
      "outputs": [
        {
          "output_type": "stream",
          "name": "stdout",
          "text": [
            "Enter a number : 153\n",
            "Harshad Number\n"
          ]
        }
      ]
    },
    {
      "cell_type": "markdown",
      "source": [
        "## 6\\. Write a Python program to print all pronic numbers between 1 and 100?"
      ],
      "metadata": {
        "id": "IGlhfPtjZ4i_"
      }
    },
    {
      "cell_type": "code",
      "source": [
        "import math\n",
        "\n",
        "def is_pronic_number(num):\n",
        "\n",
        "  i = 0\n",
        "  limit = int(math.sqrt(num))\n",
        "\n",
        "  while (i <= limit):\n",
        "\n",
        "    if (num == i*(i+1)):\n",
        "      return True\n",
        "    i += 1\n",
        "  \n",
        "  return False\n",
        "\n",
        "def pronic(n1, n2):\n",
        "  for i in range(n1, n2+1):\n",
        "    if is_pronic_number(i):\n",
        "      print(i,end=' ')\n",
        "\n",
        "pronic(1, 100)"
      ],
      "metadata": {
        "colab": {
          "base_uri": "https://localhost:8080/"
        },
        "id": "oeYWq327iT_E",
        "outputId": "6d76b0ef-26f9-4cea-c340-9bb31bc4ebf8"
      },
      "execution_count": null,
      "outputs": [
        {
          "output_type": "stream",
          "name": "stdout",
          "text": [
            "2 6 12 20 30 42 56 72 90 "
          ]
        }
      ]
    }
  ]
}