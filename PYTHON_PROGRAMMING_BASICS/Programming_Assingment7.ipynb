{
  "nbformat": 4,
  "nbformat_minor": 0,
  "metadata": {
    "colab": {
      "provenance": [],
      "toc_visible": true
    },
    "kernelspec": {
      "name": "python3",
      "display_name": "Python 3"
    },
    "language_info": {
      "name": "python"
    }
  },
  "cells": [
    {
      "cell_type": "markdown",
      "source": [
        "# Programming Assingment 7"
      ],
      "metadata": {
        "id": "DaGKViJljjdP"
      }
    },
    {
      "cell_type": "markdown",
      "source": [
        "## 1\\. Write a Python Program to find sum of array?"
      ],
      "metadata": {
        "id": "45Ny3IjZjz18"
      }
    },
    {
      "cell_type": "code",
      "source": [
        "def sum_of_array(nums):\n",
        "\n",
        "  sum = 0\n",
        "\n",
        "  for num in nums:\n",
        "    sum += num\n",
        "\n",
        "  return sum\n",
        "\n",
        "nums = eval(input(\"Enter the array : \"))\n",
        "\n",
        "print(sum_of_array(nums))"
      ],
      "metadata": {
        "colab": {
          "base_uri": "https://localhost:8080/"
        },
        "id": "Z-Pms6kQkDM3",
        "outputId": "3f71c708-877f-4d18-8f88-ca0512500026"
      },
      "execution_count": null,
      "outputs": [
        {
          "output_type": "stream",
          "name": "stdout",
          "text": [
            "Enter the array : [1,2,3,4,5]\n",
            "15\n"
          ]
        }
      ]
    },
    {
      "cell_type": "markdown",
      "source": [
        "## 2\\. Write a Python Program to find largest element in an array?"
      ],
      "metadata": {
        "id": "kngucxXlj2EF"
      }
    },
    {
      "cell_type": "code",
      "source": [
        "def largest(nums):\n",
        "\n",
        "  large = nums[0]\n",
        "\n",
        "  for num in nums:\n",
        "    if large < num:\n",
        "      large = num\n",
        "    \n",
        "  return large\n",
        "\n",
        "nums = eval(input(\"Enter the array : \"))\n",
        "\n",
        "print(largest(nums))\n"
      ],
      "metadata": {
        "colab": {
          "base_uri": "https://localhost:8080/"
        },
        "id": "z8OI3eRHklo8",
        "outputId": "dd428532-1606-4c2f-b5b5-514c9122511f"
      },
      "execution_count": null,
      "outputs": [
        {
          "output_type": "stream",
          "name": "stdout",
          "text": [
            "Enter the array : [1,2,34,45,5,6,3,4,324,23]\n",
            "324\n"
          ]
        }
      ]
    },
    {
      "cell_type": "markdown",
      "source": [
        "## 3\\. Write a Python Program for array rotation?"
      ],
      "metadata": {
        "id": "fGugruvyj4ME"
      }
    },
    {
      "cell_type": "code",
      "source": [
        "def rotate(nums, d):\n",
        "  n = len(nums)\n",
        "  nums = nums[d:n] + nums[0:d]\n",
        "  return nums\n",
        "\n",
        "nums = eval(input(\"Enter the array : \"))\n",
        "rotation = int(input(\"Enter number of rotation : \"))\n",
        "\n",
        "print(rotate(nums,rotation))"
      ],
      "metadata": {
        "colab": {
          "base_uri": "https://localhost:8080/"
        },
        "id": "RCcK_lfmlU_U",
        "outputId": "58272409-ade2-40ba-8c4f-5a54ef91266e"
      },
      "execution_count": null,
      "outputs": [
        {
          "output_type": "stream",
          "name": "stdout",
          "text": [
            "Enter the array : [1, 2, 3, 4, 5, 6, 7, 8]\n",
            "Enter number of rotation : 6\n",
            "[7, 8, 1, 2, 3, 4, 5, 6]\n"
          ]
        }
      ]
    },
    {
      "cell_type": "markdown",
      "source": [
        "## 4\\. Write a Python Program to Split the array and add the first part to the end?"
      ],
      "metadata": {
        "id": "T-OsYxKmj6sc"
      }
    },
    {
      "cell_type": "code",
      "source": [
        "def split(nums):\n",
        "\n",
        "  n = len(nums)\n",
        "  first_part = nums[0:n//2]\n",
        "  second_part = nums[n//2:]\n",
        "  nums = second_part + first_part\n",
        "\n",
        "  return nums\n",
        "\n",
        "nums = eval(input(\"Enter the array : \"))\n",
        "\n",
        "print(split(nums))"
      ],
      "metadata": {
        "colab": {
          "base_uri": "https://localhost:8080/"
        },
        "id": "w-5zYhc6m5a7",
        "outputId": "557ba624-16e3-4ca0-9fac-1b25edffac0e"
      },
      "execution_count": null,
      "outputs": [
        {
          "output_type": "stream",
          "name": "stdout",
          "text": [
            "Enter the array : [1, 2, 3, 4, 5, 6, 7]\n",
            "[4, 5, 6, 7, 1, 2, 3]\n"
          ]
        }
      ]
    },
    {
      "cell_type": "markdown",
      "source": [
        "## 5\\. Write a Python Program to check if given array is Monotonic?"
      ],
      "metadata": {
        "id": "ZDC1u--7j9v1"
      }
    },
    {
      "cell_type": "code",
      "execution_count": null,
      "metadata": {
        "colab": {
          "base_uri": "https://localhost:8080/"
        },
        "id": "rqcUjysFjiGM",
        "outputId": "4e9d11fb-138f-4962-84ae-90f6d538d35a"
      },
      "outputs": [
        {
          "output_type": "stream",
          "name": "stdout",
          "text": [
            "Enter the array : [1, 2, 3, 4, 5, 6, 7]\n",
            "True\n"
          ]
        }
      ],
      "source": [
        "def is_monotonic(nums):\n",
        "\n",
        "  n = len(nums)\n",
        "\n",
        "  is_greater = False\n",
        "  is_lesser = False\n",
        "\n",
        "  for i in range(1,n):\n",
        "\n",
        "    if nums[i-1] > nums[i]:\n",
        "      is_greater = True\n",
        "    \n",
        "    if nums[i-1] < nums[i]:\n",
        "      is_lesser = True\n",
        "    \n",
        "    if is_greater and is_lesser:\n",
        "      return False\n",
        "  \n",
        "  return True\n",
        "\n",
        "nums = eval(input(\"Enter the array : \"))\n",
        "\n",
        "print(is_monotonic(nums))"
      ]
    }
  ]
}