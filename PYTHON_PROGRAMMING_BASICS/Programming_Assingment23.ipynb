{
  "nbformat": 4,
  "nbformat_minor": 0,
  "metadata": {
    "colab": {
      "provenance": [],
      "toc_visible": true
    },
    "kernelspec": {
      "name": "python3",
      "display_name": "Python 3"
    },
    "language_info": {
      "name": "python"
    }
  },
  "cells": [
    {
      "cell_type": "markdown",
      "source": [
        "# Programming Assingment 23"
      ],
      "metadata": {
        "id": "JzRzJjneX0Xb"
      }
    },
    {
      "cell_type": "markdown",
      "source": [
        "## Question 1 "
      ],
      "metadata": {
        "id": "EbZwUFydX-dK"
      }
    },
    {
      "cell_type": "markdown",
      "source": [
        "```\n",
        "Create a function that takes a number as an argument and returns True or False depending on whether the number is symmetrical or not.\n",
        "A number is symmetrical when it is the same as its reverse.\n",
        "\n",
        "Examples:\n",
        "is_symmetrical(7227) ➞ True\n",
        "is_symmetrical(12567) ➞ False\n",
        "is_symmetrical(44444444) ➞ True\n",
        "is_symmetrical(9939) ➞ False\n",
        "is_symmetrical(1112111) ➞ True\n",
        "```"
      ],
      "metadata": {
        "id": "pv14EL_xX1hT"
      }
    },
    {
      "cell_type": "code",
      "source": [
        "def is_symmetrical(num):\n",
        "  nums = list(str(num))\n",
        "  start = 0\n",
        "  end = len(nums)-1\n",
        "  while start < end:\n",
        "    if nums[start] != nums[end]:\n",
        "      return False\n",
        "    start += 1\n",
        "    end -= 1\n",
        "  return True"
      ],
      "metadata": {
        "id": "NAh_JpzDZE3h"
      },
      "execution_count": null,
      "outputs": []
    },
    {
      "cell_type": "code",
      "source": [
        "print(is_symmetrical(9939))\n",
        "print(is_symmetrical(1112111))"
      ],
      "metadata": {
        "colab": {
          "base_uri": "https://localhost:8080/"
        },
        "id": "ToWYH0eRdkq8",
        "outputId": "fdf1d239-35cf-425a-93cf-e3a0b2032f5b"
      },
      "execution_count": null,
      "outputs": [
        {
          "output_type": "stream",
          "name": "stdout",
          "text": [
            "False\n",
            "True\n"
          ]
        }
      ]
    },
    {
      "cell_type": "markdown",
      "source": [
        "## Question 2"
      ],
      "metadata": {
        "id": "9FJdGXECYdvK"
      }
    },
    {
      "cell_type": "markdown",
      "source": [
        "```\n",
        "Given a string of numbers separated by a comma and space, return the product of the numbers.\n",
        "\n",
        "Examples:\n",
        "multiply_nums(\"2, 3\") ➞ 6\n",
        "multiply_nums(\"1, 2, 3, 4\") ➞ 24\n",
        "multiply_nums(\"54, 75, 453, 0\") ➞ 0\n",
        "multiply_nums(\"10, -2\") ➞ -20\n",
        "```"
      ],
      "metadata": {
        "id": "y9Ao3qngYIzq"
      }
    },
    {
      "cell_type": "code",
      "source": [
        "def multiply_nums(items):\n",
        "  nums = items.split(',')\n",
        "  prod = 1\n",
        "  for num in nums:\n",
        "    prod *= int(num)\n",
        "  return prod"
      ],
      "metadata": {
        "id": "YRoVZ35FaxSB"
      },
      "execution_count": null,
      "outputs": []
    },
    {
      "cell_type": "code",
      "source": [
        "print(multiply_nums(\"1, 2, 3, 4\"))\n",
        "print(multiply_nums(\"10, -2\"))"
      ],
      "metadata": {
        "colab": {
          "base_uri": "https://localhost:8080/"
        },
        "id": "09CloSdPbTjc",
        "outputId": "c7c38fe5-73d8-48fa-d9f3-890e6d943213"
      },
      "execution_count": null,
      "outputs": [
        {
          "output_type": "stream",
          "name": "stdout",
          "text": [
            "24\n",
            "-20\n"
          ]
        }
      ]
    },
    {
      "cell_type": "markdown",
      "source": [
        "## Question 3 "
      ],
      "metadata": {
        "id": "rFKhUeEnYS3q"
      }
    },
    {
      "cell_type": "markdown",
      "source": [
        "```\n",
        "Create a function that squares every digit of a number.\n",
        "\n",
        "Examples:\n",
        "square_digits(9119) ➞ 811181\n",
        "square_digits(2483) ➞ 416649\n",
        "square_digits(3212) ➞ 9414 \n",
        "\n",
        "Notes The function receives an integer and must return an integer.\n",
        "```"
      ],
      "metadata": {
        "id": "EAoCQMn_YRC7"
      }
    },
    {
      "cell_type": "code",
      "source": [
        "def square_digits(num):\n",
        "  nums = list(str(num))\n",
        "  ans = ''\n",
        "\n",
        "  for num in nums:\n",
        "    ans += str(int(num)**2)\n",
        "    \n",
        "  return int(ans)"
      ],
      "metadata": {
        "id": "SrT_qv5bbbK1"
      },
      "execution_count": null,
      "outputs": []
    },
    {
      "cell_type": "code",
      "source": [
        "print(square_digits(9119))\n",
        "print(square_digits(2483))\n",
        "print(square_digits(3212))"
      ],
      "metadata": {
        "colab": {
          "base_uri": "https://localhost:8080/"
        },
        "id": "tR2_HEpbb4kI",
        "outputId": "9079ac61-90fb-419a-d01a-6e235ee9dbbd"
      },
      "execution_count": null,
      "outputs": [
        {
          "output_type": "stream",
          "name": "stdout",
          "text": [
            "811181\n",
            "416649\n",
            "9414\n"
          ]
        }
      ]
    },
    {
      "cell_type": "markdown",
      "source": [
        "## Question 4 "
      ],
      "metadata": {
        "id": "gQ-S4XpiYqay"
      }
    },
    {
      "cell_type": "markdown",
      "source": [
        "```\n",
        "Create a function that sorts a list and removes all duplicate items from it.\n",
        "\n",
        "Examples:\n",
        "setify([1, 3, 3, 5, 5]) ➞ [1, 3, 5]\n",
        "setify([4, 4, 4, 4]) ➞ [4]\n",
        "setify([5, 7, 8, 9, 10, 15]) ➞ [5, 7, 8, 9, 10, 15]\n",
        "setify([3, 3, 3, 2, 1]) ➞ [1, 2, 3]\n",
        "```"
      ],
      "metadata": {
        "id": "lSMk93qiYg6q"
      }
    },
    {
      "cell_type": "code",
      "source": [
        "def setify(nums):\n",
        "  return list(set(nums))"
      ],
      "metadata": {
        "id": "9W57CdJociu_"
      },
      "execution_count": null,
      "outputs": []
    },
    {
      "cell_type": "code",
      "source": [
        "print(setify([1, 3, 3, 5, 5]))\n",
        "print(setify([4, 4, 4, 4]))\n",
        "print(setify([5, 7, 8, 9, 10, 15]))\n",
        "print(setify([3, 3, 3, 2, 1]))"
      ],
      "metadata": {
        "colab": {
          "base_uri": "https://localhost:8080/"
        },
        "id": "svN15JZFcpn8",
        "outputId": "1360df7e-dec9-4a00-9bc0-216577594c65"
      },
      "execution_count": null,
      "outputs": [
        {
          "output_type": "stream",
          "name": "stdout",
          "text": [
            "[1, 3, 5]\n",
            "[4]\n",
            "[5, 7, 8, 9, 10, 15]\n",
            "[1, 2, 3]\n"
          ]
        }
      ]
    },
    {
      "cell_type": "markdown",
      "source": [
        "## Question 5 "
      ],
      "metadata": {
        "id": "Ew6AUL_gYzTK"
      }
    },
    {
      "cell_type": "markdown",
      "source": [
        "```\n",
        "Create a function that returns the mean of all digits.\n",
        "\n",
        "Examples:\n",
        "\n",
        "mean(42) ➞ 3\n",
        "mean(12345) ➞ 3\n",
        "mean(666) ➞ 6\n",
        "\n",
        "Notes The mean of all digits is the \n",
        "sum of digits / how many digits there are (e.g. mean of digits in 512 is (5+1+2)/3(number of digits) = 8/3=2).\n",
        "The mean will always be an integer.\n",
        "```"
      ],
      "metadata": {
        "id": "PvUI2ewjYufa"
      }
    },
    {
      "cell_type": "code",
      "source": [
        "def mean(num):\n",
        "    nums = list(str(num))\n",
        "    n = len(nums)\n",
        "    sum = 0\n",
        "\n",
        "    for num in nums:\n",
        "      sum += int(num)\n",
        "    \n",
        "    return sum // n"
      ],
      "metadata": {
        "id": "I4RHdlMGXv8J"
      },
      "execution_count": null,
      "outputs": []
    },
    {
      "cell_type": "code",
      "source": [
        "print(mean(42))\n",
        "print(mean(12345))\n",
        "print(mean(666))"
      ],
      "metadata": {
        "colab": {
          "base_uri": "https://localhost:8080/"
        },
        "id": "_kvUI5SNdSlM",
        "outputId": "a286f152-5b4e-4709-ccb1-af4972755a05"
      },
      "execution_count": null,
      "outputs": [
        {
          "output_type": "stream",
          "name": "stdout",
          "text": [
            "3\n",
            "3\n",
            "6\n"
          ]
        }
      ]
    }
  ]
}