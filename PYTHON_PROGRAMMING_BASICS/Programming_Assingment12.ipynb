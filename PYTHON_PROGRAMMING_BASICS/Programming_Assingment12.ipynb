{
  "nbformat": 4,
  "nbformat_minor": 0,
  "metadata": {
    "colab": {
      "provenance": [],
      "toc_visible": true
    },
    "kernelspec": {
      "name": "python3",
      "display_name": "Python 3"
    },
    "language_info": {
      "name": "python"
    }
  },
  "cells": [
    {
      "cell_type": "markdown",
      "source": [
        "# Programming Assingment 12"
      ],
      "metadata": {
        "id": "G5k4f6AObZYf"
      }
    },
    {
      "cell_type": "markdown",
      "source": [
        "## 1\\. Write a Python program to Extract Unique values dictionary values?"
      ],
      "metadata": {
        "id": "k78rjoFjbh0X"
      }
    },
    {
      "cell_type": "code",
      "source": [
        "def unique_values(dictionary):\n",
        "  x = list(dictionary.values())\n",
        "  y = []\n",
        "  \n",
        "  for i in x:\n",
        "    y.extend(i)\n",
        "  \n",
        "  y = list(set(y))\n",
        "\n",
        "  y.sort()\n",
        "  \n",
        "  return y\n",
        "\n",
        "dictionary = {\n",
        "    'a' : [1, 26, 1],\n",
        "\t\t'b' : [11, 11, 0],\n",
        "\t\t'c' : [22, 2, 8],\n",
        "\t\t'd' : [11, 26, 3]\n",
        "  }\n",
        "\n",
        "print(unique_values(dictionary))"
      ],
      "metadata": {
        "id": "c8dVf9Q3cgcg",
        "colab": {
          "base_uri": "https://localhost:8080/"
        },
        "outputId": "19b673f3-8056-494d-c325-1f6031ccc7f0"
      },
      "execution_count": null,
      "outputs": [
        {
          "output_type": "stream",
          "name": "stdout",
          "text": [
            "[0, 1, 2, 3, 8, 11, 22, 26]\n"
          ]
        }
      ]
    },
    {
      "cell_type": "markdown",
      "source": [
        "## 2\\. Write a Python program to find the sum of all items in a dictionary?"
      ],
      "metadata": {
        "id": "1RCNcz67bkkr"
      }
    },
    {
      "cell_type": "code",
      "source": [
        "def sum_dict(dictionary):\n",
        "  return sum(dictionary.values())\n",
        "\n",
        "dictionary = {\n",
        "    \"a\":1,\n",
        "    \"b\":99,\n",
        "    \"c\":100\n",
        "}\n",
        "\n",
        "print(sum_dict(dictionary))"
      ],
      "metadata": {
        "colab": {
          "base_uri": "https://localhost:8080/"
        },
        "id": "g7UzAsU-dJTw",
        "outputId": "b4b7ad25-21c1-4788-96b8-8748909c6847"
      },
      "execution_count": null,
      "outputs": [
        {
          "output_type": "stream",
          "name": "stdout",
          "text": [
            "200\n"
          ]
        }
      ]
    },
    {
      "cell_type": "markdown",
      "source": [
        "## 3\\. Write a Python program to Merging two Dictionaries?\n",
        "\n"
      ],
      "metadata": {
        "id": "FL9fODafbmrN"
      }
    },
    {
      "cell_type": "code",
      "source": [
        "## method 1 NOTE:Python 3.9 and later versions\n",
        "dict_1 = {1: 'a', 2: 'b'}\n",
        "dict_2 = {2: 'c', 4: 'd'}\n",
        "\n",
        "print(dict_1 | dict_2)\n",
        "\n",
        "## method 2\n",
        "dict_1 = {1: 'a', 2: 'b'}\n",
        "dict_2 = {2: 'c', 4: 'd'}\n",
        "\n",
        "print({**dict_1, **dict_2})"
      ],
      "metadata": {
        "colab": {
          "base_uri": "https://localhost:8080/"
        },
        "id": "23w3Xg-Md7Gb",
        "outputId": "0c0af5a9-3374-43be-a3cf-e9b93fe7edd6"
      },
      "execution_count": null,
      "outputs": [
        {
          "output_type": "stream",
          "name": "stdout",
          "text": [
            "{1: 'a', 2: 'c', 4: 'd'}\n"
          ]
        }
      ]
    },
    {
      "cell_type": "markdown",
      "source": [
        "## 4\\. Write a Python program to convert key-values list to flat dictionary?"
      ],
      "metadata": {
        "id": "2iQ3ReUIbpAr"
      }
    },
    {
      "cell_type": "code",
      "source": [
        "def list_to_flat(x):\n",
        "  x = list(x.values())\n",
        "  key1 = x[0]\n",
        "  key2 = x[1]\n",
        "  d = dict()\n",
        "\n",
        "  for i in range(0,len(key1)):\n",
        "    d[key1[i]] = key2[i]\n",
        "    \n",
        "  return d\n",
        "\n",
        "x = {\n",
        "    'month' : ['jan', 'feb', 'mar'],\n",
        "     'days' : [31, 28, 31]\n",
        "}\n",
        "\n",
        "print(list_to_flat(x))"
      ],
      "metadata": {
        "colab": {
          "base_uri": "https://localhost:8080/"
        },
        "id": "BJeK8skmfZ24",
        "outputId": "833b2f27-321f-4a93-e226-c987360bb070"
      },
      "execution_count": null,
      "outputs": [
        {
          "output_type": "stream",
          "name": "stdout",
          "text": [
            "{'jan': 31, 'feb': 28, 'mar': 31}\n"
          ]
        }
      ]
    },
    {
      "cell_type": "markdown",
      "source": [
        "## 5\\. Write a Python program to insertion at the beginning in OrderedDict?"
      ],
      "metadata": {
        "id": "n1Pmfa3jbrM1"
      }
    },
    {
      "cell_type": "code",
      "source": [
        "from collections import OrderedDict\n",
        "\n",
        "def insert_dict(x, y):\n",
        "  x.update(y)\n",
        "  x.move_to_end(list(y.keys())[0], last = False)\n",
        "  return x\n",
        "\n",
        "x = {\n",
        "    'a' : 1,\n",
        "    'b' : 2,\n",
        "}\n",
        "\n",
        "x = OrderedDict(x)\n",
        "\n",
        "y = {\n",
        "    'c': 3\n",
        "}\n",
        "\n",
        "insert_dict(x, y)"
      ],
      "metadata": {
        "colab": {
          "base_uri": "https://localhost:8080/"
        },
        "id": "ncJJqmqFg_ao",
        "outputId": "766877c5-eca6-44de-d037-2139552cf171"
      },
      "execution_count": null,
      "outputs": [
        {
          "output_type": "execute_result",
          "data": {
            "text/plain": [
              "OrderedDict([('c', 3), ('a', 1), ('b', 2)])"
            ]
          },
          "metadata": {},
          "execution_count": 47
        }
      ]
    },
    {
      "cell_type": "markdown",
      "source": [
        "## 6\\. Write a Python program to check order of character in string using OrderedDict()?"
      ],
      "metadata": {
        "id": "6gRrFukibt5j"
      }
    },
    {
      "cell_type": "code",
      "source": [
        "from collections import OrderedDict\n",
        "\n",
        "def check_order(input, pattern):\n",
        "\t\n",
        "  dict = OrderedDict.fromkeys(input)\n",
        "  ptrlen = 0\n",
        "  for key in dict.keys():\n",
        "    if (key == pattern[ptrlen]):\n",
        "      ptrlen = ptrlen + 1\n",
        "    if (ptrlen == (len(pattern))):\n",
        "      return 'true'\n",
        "  return 'false'\n",
        "\n",
        "\n",
        "input = 'engineers rock'\n",
        "pattern = 'nirs'\n",
        "\n",
        "print(check_order(input,pattern))"
      ],
      "metadata": {
        "colab": {
          "base_uri": "https://localhost:8080/"
        },
        "id": "rD6WG3BJi6o4",
        "outputId": "5581a92f-4748-4661-93db-5703d96a8e3d"
      },
      "execution_count": null,
      "outputs": [
        {
          "output_type": "stream",
          "name": "stdout",
          "text": [
            "true\n"
          ]
        }
      ]
    },
    {
      "cell_type": "markdown",
      "source": [
        "## 7\\. Write a Python program to sort Python Dictionaries by Key or Value?"
      ],
      "metadata": {
        "id": "D61uC2aLbv5d"
      }
    },
    {
      "cell_type": "code",
      "source": [
        "def sort_dict_by_key(d):\n",
        "  return (sorted(d.items(), key = lambda v: (v[0],v[1])))\n",
        "\n",
        "def sort_dict_by_value(d):\n",
        "  return sorted(d.items(), key = lambda v: (v[1],v[0]))\n",
        "\n",
        "dictionary = {\n",
        "    'jaydeep' : 78,\n",
        "    'agravat' : 63,\n",
        "    'ajay' : 92,\n",
        "    'vk' : 33\n",
        "}\n",
        "\n",
        "print(f\"ORIGINAL : {dictionary}\")\n",
        "print(\"KEY SORTED : \",sort_dict_by_key(dictionary))\n",
        "print(\"VALUE SORTED : \",sort_dict_by_value(dictionary))"
      ],
      "metadata": {
        "colab": {
          "base_uri": "https://localhost:8080/"
        },
        "id": "FW3sum7nn6I1",
        "outputId": "c4723f53-6e60-4deb-ab93-89952b89a299"
      },
      "execution_count": null,
      "outputs": [
        {
          "output_type": "stream",
          "name": "stdout",
          "text": [
            "ORIGINAL : {'jaydeep': 78, 'agravat': 63, 'ajay': 92, 'vk': 33}\n",
            "KEY SORTED :  [('agravat', 63), ('ajay', 92), ('jaydeep', 78), ('vk', 33)]\n",
            "VALUE SORTED :  [('vk', 33), ('agravat', 63), ('jaydeep', 78), ('ajay', 92)]\n"
          ]
        }
      ]
    }
  ]
}