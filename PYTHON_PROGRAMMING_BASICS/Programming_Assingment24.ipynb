{
  "nbformat": 4,
  "nbformat_minor": 0,
  "metadata": {
    "colab": {
      "provenance": [],
      "collapsed_sections": [
        "mdKW1-lWSwHf",
        "dKUtWMiLTF0e",
        "NxnBQy6sTW3O",
        "dMfJvdfVTmQP",
        "wIUp0P4cTziN"
      ],
      "toc_visible": true
    },
    "kernelspec": {
      "name": "python3",
      "display_name": "Python 3"
    },
    "language_info": {
      "name": "python"
    }
  },
  "cells": [
    {
      "cell_type": "markdown",
      "source": [
        "# Programming Assingment 24"
      ],
      "metadata": {
        "id": "SZyrpqoQSknR"
      }
    },
    {
      "cell_type": "markdown",
      "source": [
        "## Question 1 "
      ],
      "metadata": {
        "id": "mdKW1-lWSwHf"
      }
    },
    {
      "cell_type": "markdown",
      "source": [
        "```\n",
        "Create a function that takes an integer and returns a list from 1 to the given number, where: If the number can be divided evenly by 4,\n",
        "amplify it by 10 (i.e. return 10 times the number).\n",
        "If the number cannot be divided evenly by 4, simply return the number. \n",
        "\n",
        "Examples:\n",
        "amplify(4) ➞ [1, 2, 3, 40]\n",
        "amplify(3) ➞ [1, 2, 3]\n",
        "amplify(25) ➞ [1, 2, 3, 40, 5, 6, 7, 80, 9, 10, 11, 120, 13, 14, 15, 160, 17, 18, 19, 200, 21, 22, 23, 240, 25] \n",
        "\n",
        "Notes The given integer will always be equal to or greater than 1. Include the number (see example above).\n",
        "To perform this problem with its intended purpose, try doing it with list comprehensions.\n",
        "If that's too difficult, just solve the challenge any way you can.\n",
        "```"
      ],
      "metadata": {
        "id": "kabM3-m7Sr82"
      }
    },
    {
      "cell_type": "code",
      "source": [
        "def amplify(num):\n",
        "  nums = [i*10 if i%4==0 else i for i in range(1, num+1)]\n",
        "  return nums"
      ],
      "metadata": {
        "id": "Uh_CS8I1UG-Z"
      },
      "execution_count": null,
      "outputs": []
    },
    {
      "cell_type": "code",
      "source": [
        "print(amplify(4))\n",
        "print(amplify(3))\n",
        "print(amplify(25))"
      ],
      "metadata": {
        "colab": {
          "base_uri": "https://localhost:8080/"
        },
        "id": "kGa7vaZEUbNV",
        "outputId": "4d6abd7c-35d3-4243-816e-727d7b475ab7"
      },
      "execution_count": null,
      "outputs": [
        {
          "output_type": "stream",
          "name": "stdout",
          "text": [
            "[1, 2, 3, 40]\n",
            "[1, 2, 3]\n",
            "[1, 2, 3, 40, 5, 6, 7, 80, 9, 10, 11, 120, 13, 14, 15, 160, 17, 18, 19, 200, 21, 22, 23, 240, 25]\n"
          ]
        }
      ]
    },
    {
      "cell_type": "markdown",
      "source": [
        "## Question 2 "
      ],
      "metadata": {
        "id": "dKUtWMiLTF0e"
      }
    },
    {
      "cell_type": "markdown",
      "source": [
        "```\n",
        "Create a function that takes a list of numbers and return the number that's unique. \n",
        "\n",
        "Examples:\n",
        "unique([3, 3, 3, 7, 3, 3]) ➞ 7\n",
        "unique([0, 0, 0.77, 0, 0]) ➞ 0.77\n",
        "unique([0, 1, 1, 1, 1, 1, 1, 1]) ➞ 0\n",
        "Notes Test cases will always have exactly one unique number while all others are the same.\n",
        "```"
      ],
      "metadata": {
        "id": "9rxL9zj0S9ru"
      }
    },
    {
      "cell_type": "code",
      "source": [
        "def unique(nums):\n",
        "  for num in set(nums):\n",
        "    if nums.count(num) == 1:\n",
        "      return num"
      ],
      "metadata": {
        "id": "0bIXWyLNVRPs"
      },
      "execution_count": null,
      "outputs": []
    },
    {
      "cell_type": "code",
      "source": [
        "print(unique([3, 3, 3, 7, 3, 3]))\n",
        "print(unique([0, 0, 0.77, 0, 0]))\n",
        "print(unique([0, 1, 1, 1, 1, 1, 1, 1]))"
      ],
      "metadata": {
        "colab": {
          "base_uri": "https://localhost:8080/"
        },
        "id": "iU2BdanPV0hk",
        "outputId": "43118414-9c2e-40ba-a4a0-969bd9d5ff5f"
      },
      "execution_count": null,
      "outputs": [
        {
          "output_type": "stream",
          "name": "stdout",
          "text": [
            "7\n",
            "0.77\n",
            "0\n"
          ]
        }
      ]
    },
    {
      "cell_type": "markdown",
      "source": [
        "## Question 3"
      ],
      "metadata": {
        "id": "NxnBQy6sTW3O"
      }
    },
    {
      "cell_type": "markdown",
      "source": [
        "```\n",
        "Your task is to create a Circle constructor that creates a circle with a radius provided by an argument.\n",
        "The circles constructed must have two getters getArea() (PIr^2) and getPerimeter() (2PI*r) which give both respective areas\n",
        "and perimeter (circumference).\n",
        "For help with this class, I have provided you with a Rectangle constructor which you can use as a base example.\n",
        "\n",
        "Examples:\n",
        "circy = Circle(11) circy.getArea()\n",
        "Should return 380.132711084365\n",
        "circy = Circle(4.44) circy.getPerimeter()\n",
        "Should return 27.897342763877365\n",
        "\n",
        "Notes Round results up to the nearest integer.\n",
        "```"
      ],
      "metadata": {
        "id": "gKt-uXBkTKA2"
      }
    },
    {
      "cell_type": "code",
      "source": [
        "import math\n",
        "\n",
        "class Circle:\n",
        "  def __init__(self, radius):\n",
        "    self.radius = radius\n",
        "  def getArea(self):\n",
        "    area = math.pi * (self.radius ** 2)\n",
        "    return round(area)\n",
        "  def getPerimeter(self):\n",
        "    perimeter = 2 * math.pi * self.radius\n",
        "    return round(perimeter)\n",
        "\n",
        "circy = Circle(11)\n",
        "print(circy.getArea())\n",
        "print(circy.getPerimeter())\n",
        "\n",
        "circy = Circle(4.44)\n",
        "print(circy.getArea())\n",
        "print(circy.getPerimeter())"
      ],
      "metadata": {
        "colab": {
          "base_uri": "https://localhost:8080/"
        },
        "id": "3X_rZJnHV94M",
        "outputId": "edb88bac-0008-4101-d84d-e1c79e93bcf6"
      },
      "execution_count": null,
      "outputs": [
        {
          "output_type": "stream",
          "name": "stdout",
          "text": [
            "380\n",
            "69\n",
            "62\n",
            "28\n"
          ]
        }
      ]
    },
    {
      "cell_type": "markdown",
      "source": [
        "## Question 4 "
      ],
      "metadata": {
        "id": "dMfJvdfVTmQP"
      }
    },
    {
      "cell_type": "markdown",
      "source": [
        "```\n",
        "Create a function that takes a list of strings and return a list, sorted from shortest to longest.\n",
        "\n",
        "Examples:\n",
        "sort_by_length([\"Google\", \"Apple\", \"Microsoft\"]) ➞ [\"Apple\", \"Google\", \"Microsoft\"]\n",
        "sort_by_length([\"Leonardo\", \"Michelangelo\", \"Raphael\", \"Donatello\"]) ➞ [\"Raphael\", \"Leonardo\", \"Donatello\", \"Michelangelo\"]\n",
        "sort_by_length([\"Turing\", \"Einstein\", \"Jung\"]) ➞ [\"Jung\", \"Turing\", \"Einstein\"] \n",
        "\n",
        "Notes All test cases contain lists with strings of different lengths, so you won't have to deal with multiple strings of the same length.\n",
        "```"
      ],
      "metadata": {
        "id": "v4in4moKTbeW"
      }
    },
    {
      "cell_type": "code",
      "source": [
        "def sort_by_length(items):\n",
        "  sort = sorted(items, key=len)\n",
        "  print(sort)"
      ],
      "metadata": {
        "id": "RXSkPB0-XceL"
      },
      "execution_count": null,
      "outputs": []
    },
    {
      "cell_type": "code",
      "source": [
        "sort_by_length([\"Google\", \"Apple\", \"Microsoft\"])\n",
        "sort_by_length([\"Leonardo\", \"Michelangelo\", \"Raphael\", \"Donatello\"])\n",
        "sort_by_length([\"Turing\", \"Einstein\", \"Jung\"])"
      ],
      "metadata": {
        "colab": {
          "base_uri": "https://localhost:8080/"
        },
        "id": "Ef6beDvBX2AD",
        "outputId": "e422af0b-32fd-493b-eec7-0e78acb7b133"
      },
      "execution_count": null,
      "outputs": [
        {
          "output_type": "stream",
          "name": "stdout",
          "text": [
            "['Apple', 'Google', 'Microsoft']\n",
            "['Raphael', 'Leonardo', 'Donatello', 'Michelangelo']\n",
            "['Jung', 'Turing', 'Einstein']\n"
          ]
        }
      ]
    },
    {
      "cell_type": "markdown",
      "source": [
        "## Question 5"
      ],
      "metadata": {
        "id": "wIUp0P4cTziN"
      }
    },
    {
      "cell_type": "markdown",
      "source": [
        "```\n",
        "Create a function that validates whether three given integers form a Pythagorean triplet.\n",
        "The sum of the squares of the two smallest integers must equal the square of the largest number to be validated.\n",
        "\n",
        "Examples:\n",
        "\n",
        "is_triplet(3, 4, 5) ➞ True\n",
        "3² + 4² = 25\n",
        "5² = 25\n",
        "\n",
        "is_triplet(13, 5, 12) ➞ True\n",
        "5² + 12² = 169\n",
        "13² = 169\n",
        "\n",
        "is_triplet(1, 2, 3) ➞ False\n",
        "1² + 2² = 5\n",
        "3² = 9\n",
        "\n",
        "Notes Numbers may not be given in a sorted order.\n",
        "```"
      ],
      "metadata": {
        "id": "RrxD6B47TqBF"
      }
    },
    {
      "cell_type": "code",
      "execution_count": null,
      "metadata": {
        "id": "zVxEmbsNShI4"
      },
      "outputs": [],
      "source": [
        "def is_triplet(a, b, c):\n",
        "  n1 = max(a, b, c)\n",
        "  n2 = min(a, b, c)\n",
        "  n3 = (n1 + n2) - (a + b + c)\n",
        "  print((n1**2) == (n2**2 + n3**2))"
      ]
    },
    {
      "cell_type": "code",
      "source": [
        "is_triplet(3, 4, 5)\n",
        "is_triplet(13, 5, 12)\n",
        "is_triplet(1, 2, 3)"
      ],
      "metadata": {
        "colab": {
          "base_uri": "https://localhost:8080/"
        },
        "id": "rOhaBihNSpr1",
        "outputId": "0c1229df-8bc2-4eb8-bf81-074ede8819c5"
      },
      "execution_count": null,
      "outputs": [
        {
          "output_type": "stream",
          "name": "stdout",
          "text": [
            "True\n",
            "True\n",
            "False\n"
          ]
        }
      ]
    }
  ]
}