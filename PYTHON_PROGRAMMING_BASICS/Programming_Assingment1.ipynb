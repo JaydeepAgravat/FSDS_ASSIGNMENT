{
  "nbformat": 4,
  "nbformat_minor": 0,
  "metadata": {
    "colab": {
      "provenance": []
    },
    "kernelspec": {
      "name": "python3",
      "display_name": "Python 3"
    },
    "language_info": {
      "name": "python"
    }
  },
  "cells": [
    {
      "cell_type": "markdown",
      "source": [
        "# Programming Assingment 1"
      ],
      "metadata": {
        "id": "VaU_dsonzpPx"
      }
    },
    {
      "cell_type": "markdown",
      "source": [
        "## 1\\. Write a Python program to print \"Hello Python\" ?"
      ],
      "metadata": {
        "id": "G7hahgiVzv3I"
      }
    },
    {
      "cell_type": "code",
      "source": [
        "print(\"Hello Python\")"
      ],
      "metadata": {
        "colab": {
          "base_uri": "https://localhost:8080/"
        },
        "id": "VqkvPkGC0CG1",
        "outputId": "2657e934-268a-40d8-c458-f07671e44aad"
      },
      "execution_count": null,
      "outputs": [
        {
          "output_type": "stream",
          "name": "stdout",
          "text": [
            "Hello Python\n"
          ]
        }
      ]
    },
    {
      "cell_type": "markdown",
      "source": [
        "## 2\\. Write a Python program to do arithmetical operations addition and division?"
      ],
      "metadata": {
        "id": "aEnZCxN_z0JX"
      }
    },
    {
      "cell_type": "code",
      "source": [
        "num1 = 10\n",
        "num2 = 5\n",
        "\n",
        "add = num1 + num2\n",
        "print(add)\n",
        "\n",
        "div = num1 / num2\n",
        "print(div)"
      ],
      "metadata": {
        "colab": {
          "base_uri": "https://localhost:8080/"
        },
        "id": "-jsnzggI0FPY",
        "outputId": "5e925020-4acf-4dc4-9a66-468dedc4f3fd"
      },
      "execution_count": null,
      "outputs": [
        {
          "output_type": "stream",
          "name": "stdout",
          "text": [
            "15\n",
            "2.0\n"
          ]
        }
      ]
    },
    {
      "cell_type": "markdown",
      "source": [
        "## 3\\. Write a Python program to find the area of a triangle?"
      ],
      "metadata": {
        "id": "LMSVgC58z4Gz"
      }
    },
    {
      "cell_type": "code",
      "source": [
        "height = float(input(\"Enter height of triangle : \"))\n",
        "base = float(input(\"Enter base of triangle : \"))\n",
        "\n",
        "area = 0.5 * height * base\n",
        "\n",
        "print(f\"Area of triangle is {area}\")"
      ],
      "metadata": {
        "colab": {
          "base_uri": "https://localhost:8080/"
        },
        "id": "kAxmZQxz0tk1",
        "outputId": "50439a81-81aa-416a-fa3f-9de680f9deed"
      },
      "execution_count": null,
      "outputs": [
        {
          "output_type": "stream",
          "name": "stdout",
          "text": [
            "Enter height of triangle : 10\n",
            "Enter base of triangle : 5\n",
            "Area of triangle is 25.0\n"
          ]
        }
      ]
    },
    {
      "cell_type": "markdown",
      "source": [
        "## 4\\. Write a Python program to swap two variables?"
      ],
      "metadata": {
        "id": "3HJ8sz1Zz7u8"
      }
    },
    {
      "cell_type": "code",
      "source": [
        "num1 = int(input(\"Enter first number : \"))\n",
        "num2 = int(input(\"Enter second number : \"))\n",
        "\n",
        "temp = num1\n",
        "num1 = num2\n",
        "num2 = temp\n",
        "\n",
        "print(f\"first number is {num1} and second number is {num2}.\")"
      ],
      "metadata": {
        "colab": {
          "base_uri": "https://localhost:8080/"
        },
        "id": "uXr_IiMt1bQm",
        "outputId": "2e097cf1-6a50-4da6-ceee-eb8717c1ae70"
      },
      "execution_count": null,
      "outputs": [
        {
          "output_type": "stream",
          "name": "stdout",
          "text": [
            "Enter first number : 2\n",
            "Enter second number : 5\n",
            "first number is 5 and second number is 2.\n"
          ]
        }
      ]
    },
    {
      "cell_type": "markdown",
      "source": [
        "## 5\\. Write a Python program to generate a random number?"
      ],
      "metadata": {
        "id": "U0lEi0etz_IG"
      }
    },
    {
      "cell_type": "code",
      "execution_count": null,
      "metadata": {
        "colab": {
          "base_uri": "https://localhost:8080/"
        },
        "id": "Ui1QZu3OzjCa",
        "outputId": "e8ec7865-b2c6-426e-b780-ac1c58338ad7"
      },
      "outputs": [
        {
          "output_type": "stream",
          "name": "stdout",
          "text": [
            "3\n"
          ]
        }
      ],
      "source": [
        "from random import randint\n",
        "\n",
        "random_number = randint(1,6)\n",
        "\n",
        "print(random_number)"
      ]
    }
  ]
}