{
  "nbformat": 4,
  "nbformat_minor": 0,
  "metadata": {
    "colab": {
      "provenance": [],
      "toc_visible": true
    },
    "kernelspec": {
      "name": "python3",
      "display_name": "Python 3"
    },
    "language_info": {
      "name": "python"
    }
  },
  "cells": [
    {
      "cell_type": "markdown",
      "source": [
        "# Programming Assingment 10"
      ],
      "metadata": {
        "id": "45yJ6BDvoY8a"
      }
    },
    {
      "cell_type": "markdown",
      "source": [
        "## 1\\. Write a Python program to find sum of elements in list?"
      ],
      "metadata": {
        "id": "taq1S8LRokTS"
      }
    },
    {
      "cell_type": "code",
      "source": [
        "def sum_of_list(nums):\n",
        "  sum = 0\n",
        "  for num in nums:\n",
        "    sum += num\n",
        "  return sum\n",
        "\n",
        "nums = eval(input(\"Enter list : \"))\n",
        "print(sum_of_list(nums))\n",
        "sum(nums)"
      ],
      "metadata": {
        "colab": {
          "base_uri": "https://localhost:8080/"
        },
        "id": "OrXHPkSaplTT",
        "outputId": "a1f0baf6-b022-4f93-a0ff-5206b7d47a03"
      },
      "execution_count": null,
      "outputs": [
        {
          "output_type": "stream",
          "name": "stdout",
          "text": [
            "Enter list : [1,2,3]\n",
            "6\n"
          ]
        },
        {
          "output_type": "execute_result",
          "data": {
            "text/plain": [
              "6"
            ]
          },
          "metadata": {},
          "execution_count": 3
        }
      ]
    },
    {
      "cell_type": "markdown",
      "source": [
        "## 2\\. Write a Python program to  Multiply all numbers in the list?"
      ],
      "metadata": {
        "id": "-JFrasZholdy"
      }
    },
    {
      "cell_type": "code",
      "source": [
        "def mul_of_list(nums):\n",
        "  mul = 1\n",
        "  for num in nums:\n",
        "    mul *= num\n",
        "  return mul\n",
        "\n",
        "nums = eval(input(\"Enter list : \"))\n",
        "print(mul_of_list(nums))"
      ],
      "metadata": {
        "colab": {
          "base_uri": "https://localhost:8080/"
        },
        "id": "tr4Usclcp7AR",
        "outputId": "f5a72a71-3f45-4aee-82b3-0609f5d3c510"
      },
      "execution_count": null,
      "outputs": [
        {
          "output_type": "stream",
          "name": "stdout",
          "text": [
            "Enter list : [1,2,3]\n",
            "6\n"
          ]
        }
      ]
    },
    {
      "cell_type": "markdown",
      "source": [
        "## 3\\. Write a Python program to find smallest number in a list?"
      ],
      "metadata": {
        "id": "zljKnTQgooBM"
      }
    },
    {
      "cell_type": "code",
      "source": [
        "def smallest_of_list(nums):\n",
        "  small = nums[0]\n",
        "  for num in nums:\n",
        "    if small > num:\n",
        "      small = num\n",
        "  return small\n",
        "\n",
        "nums = eval(input(\"Enter list : \"))\n",
        "print(smallest_of_list(nums))"
      ],
      "metadata": {
        "colab": {
          "base_uri": "https://localhost:8080/"
        },
        "id": "d0L_WiOnqE7Y",
        "outputId": "ccf16083-4524-4fe9-8f98-4e49402dd0c2"
      },
      "execution_count": null,
      "outputs": [
        {
          "output_type": "stream",
          "name": "stdout",
          "text": [
            "Enter list : [1,2,3,4,5,60,0,12,321,31,3]\n",
            "0\n"
          ]
        }
      ]
    },
    {
      "cell_type": "markdown",
      "source": [
        "## 4\\. Write a Python program to find largest number in a list?\n"
      ],
      "metadata": {
        "id": "vdHAO220pPL6"
      }
    },
    {
      "cell_type": "code",
      "source": [
        "def largest_of_list(nums):\n",
        "  large = nums[0]\n",
        "  for num in nums:\n",
        "    if large < num:\n",
        "      large = num\n",
        "  return large\n",
        "\n",
        "nums = eval(input(\"Enter list : \"))\n",
        "print(largest_of_list(nums))"
      ],
      "metadata": {
        "colab": {
          "base_uri": "https://localhost:8080/"
        },
        "id": "YYLEBgvAqh5N",
        "outputId": "2c7eb20e-fbaa-48b9-9654-829ba6acdc3c"
      },
      "execution_count": null,
      "outputs": [
        {
          "output_type": "stream",
          "name": "stdout",
          "text": [
            "Enter list : [12,3,12,321,3,123,1]\n",
            "321\n"
          ]
        }
      ]
    },
    {
      "cell_type": "markdown",
      "source": [
        "## 5\\. Write a Python program to find second largest number in a list?"
      ],
      "metadata": {
        "id": "qfybxE4mon9S"
      }
    },
    {
      "cell_type": "code",
      "source": [
        "def s_largest_of_list(nums):\n",
        "  nums = list(set(nums))\n",
        "  nums.sort()\n",
        "  return nums[-2]\n",
        "\n",
        "nums = eval(input(\"Enter list : \"))\n",
        "print(s_largest_of_list(nums))"
      ],
      "metadata": {
        "colab": {
          "base_uri": "https://localhost:8080/"
        },
        "id": "8pvo0Ch3qyjB",
        "outputId": "2dab8d1f-93a4-40ef-9dd3-ae4a6e67c857"
      },
      "execution_count": null,
      "outputs": [
        {
          "output_type": "stream",
          "name": "stdout",
          "text": [
            "Enter list : [10, 20, 4, 45, 99]\n",
            "45\n"
          ]
        }
      ]
    },
    {
      "cell_type": "markdown",
      "source": [
        "## 6\\. Write a Python program to find N largest elements from a list?"
      ],
      "metadata": {
        "id": "Yxrvn_0Tosjo"
      }
    },
    {
      "cell_type": "code",
      "execution_count": null,
      "metadata": {
        "colab": {
          "base_uri": "https://localhost:8080/"
        },
        "id": "uLywi4leoXFO",
        "outputId": "827152ae-7df2-4c17-b0d3-72f309fae4d8"
      },
      "outputs": [
        {
          "output_type": "stream",
          "name": "stdout",
          "text": [
            "Enter list : [10, 20, 20, 4, 45, 45, 45, 99, 99] \n",
            "Enter n largest : 3\n",
            "20\n"
          ]
        }
      ],
      "source": [
        "def n_largest_of_list(nums, n):\n",
        "  nums = list(set(nums))\n",
        "  nums.sort()\n",
        "  return nums[-n]\n",
        "\n",
        "nums = eval(input(\"Enter list : \"))\n",
        "n = int(input(\"Enter n largest : \"))\n",
        "print(n_largest_of_list(nums, n))"
      ]
    },
    {
      "cell_type": "markdown",
      "source": [
        "## 7\\. Write a Python program to print even numbers in a list?"
      ],
      "metadata": {
        "id": "AAP3jco-ot7o"
      }
    },
    {
      "cell_type": "code",
      "source": [
        "def even_list(nums):\n",
        "  for num in nums:\n",
        "    if num % 2 == 0:\n",
        "      print(num,end=' ')\n",
        "\n",
        "nums = eval(input(\"Enter list : \"))\n",
        "even_list(nums)"
      ],
      "metadata": {
        "colab": {
          "base_uri": "https://localhost:8080/"
        },
        "id": "tOtaCY4itbsi",
        "outputId": "43df6bfd-162e-4205-8eaf-edb54fc83800"
      },
      "execution_count": null,
      "outputs": [
        {
          "output_type": "stream",
          "name": "stdout",
          "text": [
            "Enter list : [10, 20, 20, 4, 45, 45, 45, 99, 99]\n",
            "10 20 20 4 "
          ]
        }
      ]
    },
    {
      "cell_type": "markdown",
      "source": [
        "## 8\\. Write a Python program to print odd numbers in a List?\n",
        "\n"
      ],
      "metadata": {
        "id": "IpYKKgxGowOw"
      }
    },
    {
      "cell_type": "code",
      "source": [
        "def odd_list(nums):\n",
        "  for num in nums:\n",
        "    if num % 2 != 0:\n",
        "      print(num,end=' ')\n",
        "\n",
        "nums = eval(input(\"Enter list : \"))\n",
        "odd_list(nums)"
      ],
      "metadata": {
        "colab": {
          "base_uri": "https://localhost:8080/"
        },
        "id": "An9fgTwmtuND",
        "outputId": "c31b8eac-c0eb-47f2-ef94-1146773a3a42"
      },
      "execution_count": null,
      "outputs": [
        {
          "output_type": "stream",
          "name": "stdout",
          "text": [
            "Enter list : [10, 20, 20, 4, 45, 45, 45, 99, 99]\n",
            "45 45 45 99 99 "
          ]
        }
      ]
    },
    {
      "cell_type": "markdown",
      "source": [
        "## 9\\. Write a Python program to Remove empty List from List?"
      ],
      "metadata": {
        "id": "opS_KrDhoylB"
      }
    },
    {
      "cell_type": "code",
      "source": [
        "def remove_empty_list(nums):\n",
        "\n",
        "  while [] in nums:\n",
        "      nums.remove([])\n",
        "  \n",
        "  return nums\n",
        "\n",
        "nums = [[],1,[],2,[],3,[],[],[],21,321,34,[],[]]\n",
        "print(remove_empty_list(nums))"
      ],
      "metadata": {
        "colab": {
          "base_uri": "https://localhost:8080/"
        },
        "id": "MdAZRkuquHcp",
        "outputId": "f7cc1ece-178c-49c2-ba33-a007e0651dae"
      },
      "execution_count": null,
      "outputs": [
        {
          "output_type": "stream",
          "name": "stdout",
          "text": [
            "[1, 2, 3, 21, 321, 34]\n"
          ]
        }
      ]
    },
    {
      "cell_type": "markdown",
      "source": [
        "## 10\\. Write a Python program to Cloning or Copying a list?"
      ],
      "metadata": {
        "id": "Uhs1DmX7o0ZX"
      }
    },
    {
      "cell_type": "code",
      "source": [
        "nums1 = [1,2,3,4,5]\n",
        "nums2 = nums1[:]\n",
        "nums2"
      ],
      "metadata": {
        "colab": {
          "base_uri": "https://localhost:8080/"
        },
        "id": "55wESG4NwYV2",
        "outputId": "72e1876d-6778-4e0a-b47a-84bbdfeeec02"
      },
      "execution_count": null,
      "outputs": [
        {
          "output_type": "execute_result",
          "data": {
            "text/plain": [
              "[1, 2, 3, 4, 5]"
            ]
          },
          "metadata": {},
          "execution_count": 1
        }
      ]
    },
    {
      "cell_type": "markdown",
      "source": [
        "## 11\\. Write a Python program to Count occurrences of an element in a list?"
      ],
      "metadata": {
        "id": "pRwMxWtfo113"
      }
    },
    {
      "cell_type": "code",
      "source": [
        "def counter(nums, key):\n",
        "  count = 0\n",
        "  for i in range(len(nums)):\n",
        "    if nums[i] == key:\n",
        "      count += 1\n",
        "  return count\n",
        "\n",
        "nums = [5,2,3,4,5,5,5,6,6,6,5]\n",
        "key = 5\n",
        "print(counter(nums, key))\n",
        "key = 0\n",
        "print(counter(nums, key))\n",
        "nums.count(5)"
      ],
      "metadata": {
        "colab": {
          "base_uri": "https://localhost:8080/"
        },
        "id": "ILmWErQMogZP",
        "outputId": "77137fbb-b48c-47e1-9026-43f288f2ded6"
      },
      "execution_count": null,
      "outputs": [
        {
          "output_type": "stream",
          "name": "stdout",
          "text": [
            "5\n",
            "0\n"
          ]
        },
        {
          "output_type": "execute_result",
          "data": {
            "text/plain": [
              "5"
            ]
          },
          "metadata": {},
          "execution_count": 43
        }
      ]
    }
  ]
}