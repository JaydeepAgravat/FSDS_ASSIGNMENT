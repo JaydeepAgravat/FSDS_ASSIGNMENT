{
  "nbformat": 4,
  "nbformat_minor": 0,
  "metadata": {
    "colab": {
      "provenance": [],
      "toc_visible": true
    },
    "kernelspec": {
      "name": "python3",
      "display_name": "Python 3"
    },
    "language_info": {
      "name": "python"
    }
  },
  "cells": [
    {
      "cell_type": "markdown",
      "source": [
        "# Programming Assingment 14"
      ],
      "metadata": {
        "id": "WmyAEIeG2ZkW"
      }
    },
    {
      "cell_type": "markdown",
      "source": [
        "## Question 1"
      ],
      "metadata": {
        "id": "Mx5caaBv2eW8"
      }
    },
    {
      "cell_type": "markdown",
      "source": [
        "```\n",
        "Define a class with a generator which can iterate the numbers, which are divisible by 7, between a given range 0 and n.\n",
        "```"
      ],
      "metadata": {
        "id": "hM-JdQOA2eGr"
      }
    },
    {
      "cell_type": "code",
      "source": [
        "class divisible_gen:\n",
        "  def __init__(self, num):\n",
        "    self.num = num\n",
        "\n",
        "  def gen_num(self):\n",
        "    for i in range(self.num+1):\n",
        "      if i%7==0:\n",
        "        yield i\n",
        "\n",
        "number = int(input(\"Enter a number (0, number) : \"))\n",
        "num = divisible_gen(number)\n",
        "for i in num.gen_num():\n",
        "  print(i,end=' ')"
      ],
      "metadata": {
        "colab": {
          "base_uri": "https://localhost:8080/"
        },
        "id": "jk-iH13I37Sl",
        "outputId": "3ade0c2a-578e-4a79-d04a-092be82c2b8b"
      },
      "execution_count": null,
      "outputs": [
        {
          "output_type": "stream",
          "name": "stdout",
          "text": [
            "Enter a number (0, number) : 100\n",
            "0 7 14 21 28 35 42 49 56 63 70 77 84 91 98 "
          ]
        }
      ]
    },
    {
      "cell_type": "markdown",
      "source": [
        "## Question 2"
      ],
      "metadata": {
        "id": "mQvWPI2z2rHs"
      }
    },
    {
      "cell_type": "markdown",
      "source": [
        "```\n",
        "Write a program to compute the frequency of the words from the input. The output should output after sorting the key alphanumerically.\n",
        "\n",
        "Suppose the following input is supplied to the program:\n",
        "New to Python or choosing between Python 2 and Python 3? Read Python 2 or Python 3.\n",
        "Then, the output should be:\n",
        "2:2\n",
        "3.:1\n",
        "3?:1\n",
        "New:1\n",
        "Python:5\n",
        "Read:1\n",
        "and:1\n",
        "between:1\n",
        "choosing:1\n",
        "or:2\n",
        "to:1\n",
        "```"
      ],
      "metadata": {
        "id": "E6nnasDY2n28"
      }
    },
    {
      "cell_type": "code",
      "source": [
        "def word_frequency(words):\n",
        "  frequency = {}\n",
        "\n",
        "  for word in words.split(' '):\n",
        "    frequency[word] = frequency.get(word,0) + 1\n",
        "  \n",
        "  return frequency\n",
        "\n",
        "words = input(\"Enter words : \")\n",
        "\n",
        "print(word_frequency(words))"
      ],
      "metadata": {
        "colab": {
          "base_uri": "https://localhost:8080/"
        },
        "id": "ZzE82LZv5Wg-",
        "outputId": "2813b464-e483-48c6-942f-49979a631b65"
      },
      "execution_count": null,
      "outputs": [
        {
          "output_type": "stream",
          "name": "stdout",
          "text": [
            "Enter words : New to Python or choosing between Python 2 and Python 3? Read Python 2 or Python 3.\n",
            "{'New': 1, 'to': 1, 'Python': 5, 'or': 2, 'choosing': 1, 'between': 1, '2': 2, 'and': 1, '3?': 1, 'Read': 1, '3.': 1}\n"
          ]
        }
      ]
    },
    {
      "cell_type": "markdown",
      "source": [
        "## Question 3"
      ],
      "metadata": {
        "id": "lcEII3fr3M9b"
      }
    },
    {
      "cell_type": "markdown",
      "source": [
        "```\n",
        "Define a class Person and its two child classes: Male and Female. \n",
        "\n",
        "All classes have a method \"getGender\" which can print \"Male\" for Male class and \"Female\" for Female class.\n",
        "```"
      ],
      "metadata": {
        "id": "SSwciKl02-zr"
      }
    },
    {
      "cell_type": "code",
      "source": [
        "class Person():\n",
        "  pass\n",
        "\n",
        "class Male(Person):\n",
        "  def getGender():\n",
        "    print(\"Male\")\n",
        "\n",
        "class Female(Person):\n",
        "  def getGender():\n",
        "    print(\"Female\")\n",
        "\n",
        "Male.getGender()\n",
        "Female.getGender()"
      ],
      "metadata": {
        "colab": {
          "base_uri": "https://localhost:8080/"
        },
        "id": "SELD-wKI7Ayb",
        "outputId": "bcbf9f80-d8bc-4728-cda6-408209e1d715"
      },
      "execution_count": null,
      "outputs": [
        {
          "output_type": "stream",
          "name": "stdout",
          "text": [
            "Male\n",
            "Female\n"
          ]
        }
      ]
    },
    {
      "cell_type": "markdown",
      "source": [
        "## Question 4"
      ],
      "metadata": {
        "id": "c0HvGVRz3S1j"
      }
    },
    {
      "cell_type": "markdown",
      "source": [
        "```\n",
        "Please write a program to generate all sentences where subject is in [\"I\", \"You\"] and\n",
        "verb is in [\"Play\", \"Love\"] and the object is in [\"Hockey\",\"Football\"].\n",
        "```"
      ],
      "metadata": {
        "id": "X5KNw5XS3Aaz"
      }
    },
    {
      "cell_type": "code",
      "source": [
        "def gen_sen():\n",
        "  subjects = [\"I\", \"You\"]\n",
        "  verbs = [\"Play\", \"Love\"]\n",
        "  objects = [\"Hockey\",\"Football\"]\n",
        "  for i in range(len(subjects)):\n",
        "      for j in range(len(verbs)):\n",
        "          for k in range(len(objects)):\n",
        "              sentence = f\"{subjects[i]} {verbs[j]} {objects[k]}.\"\n",
        "              print(sentence)\n",
        "\n",
        "gen_sen()"
      ],
      "metadata": {
        "colab": {
          "base_uri": "https://localhost:8080/"
        },
        "id": "K-6jva8K78iY",
        "outputId": "37e572c0-44df-4957-86e6-d73828ab75af"
      },
      "execution_count": null,
      "outputs": [
        {
          "output_type": "stream",
          "name": "stdout",
          "text": [
            "I Play Hockey.\n",
            "I Play Football.\n",
            "I Love Hockey.\n",
            "I Love Football.\n",
            "You Play Hockey.\n",
            "You Play Football.\n",
            "You Love Hockey.\n",
            "You Love Football.\n"
          ]
        }
      ]
    },
    {
      "cell_type": "markdown",
      "source": [
        "## Question 5"
      ],
      "metadata": {
        "id": "yvL0nKBd3m0D"
      }
    },
    {
      "cell_type": "markdown",
      "source": [
        "```\n",
        "Please write a program to compress and decompress the string \"hello world!hello world!hello world!hello world!\".\n",
        "```"
      ],
      "metadata": {
        "id": "KmzqRuNC3B91"
      }
    },
    {
      "cell_type": "code",
      "source": [
        "import zlib\n",
        "s = 'hello world!hello world!hello world!hello world!'\n",
        "byte_obj = bytes(s, 'utf-8')\n",
        "x = zlib.compress(byte_obj)\n",
        "print(x)\n",
        "print(zlib.decompress(x))"
      ],
      "metadata": {
        "colab": {
          "base_uri": "https://localhost:8080/"
        },
        "id": "i4OLftCx3uRa",
        "outputId": "1b22fc96-eb45-4c7b-9c7e-3c15fd6f9eec"
      },
      "execution_count": null,
      "outputs": [
        {
          "output_type": "stream",
          "name": "stdout",
          "text": [
            "b'x\\x9c\\xcbH\\xcd\\xc9\\xc9W(\\xcf/\\xcaIQ\\xcc \\x82\\r\\x00\\xbd[\\x11\\xf5'\n",
            "b'hello world!hello world!hello world!hello world!'\n"
          ]
        }
      ]
    },
    {
      "cell_type": "markdown",
      "source": [
        "## Question 6"
      ],
      "metadata": {
        "id": "qcr0Gyku3pjj"
      }
    },
    {
      "cell_type": "markdown",
      "source": [
        "```\n",
        "Please write a binary search function which searches an item in a sorted list.\n",
        "The function should return the index of element to be searched in the list.\n",
        "```"
      ],
      "metadata": {
        "id": "I-WTwT_-3DJr"
      }
    },
    {
      "cell_type": "code",
      "source": [
        "def bin_search(nums, key):\n",
        "  n = len(nums)\n",
        "  low = 0\n",
        "  high = n - 1\n",
        "\n",
        "  while low <= high:\n",
        "    mid = (low + high) // 2\n",
        "    \n",
        "    if nums[mid] == key:\n",
        "      return mid\n",
        "    elif nums[mid] < key:\n",
        "      low = mid + 1\n",
        "    else:\n",
        "      high = mid - 1\n",
        "    \n",
        "  return -1\n",
        "\n",
        "nums = [1,2,3,4,5,6,7]\n",
        "key = 2\n",
        "print(bin_search(nums, key))"
      ],
      "metadata": {
        "colab": {
          "base_uri": "https://localhost:8080/"
        },
        "id": "Htu8pnq59C9O",
        "outputId": "3230bcc7-08fe-48f7-be67-10aafb73e4cf"
      },
      "execution_count": null,
      "outputs": [
        {
          "output_type": "stream",
          "name": "stdout",
          "text": [
            "1\n"
          ]
        }
      ]
    }
  ]
}