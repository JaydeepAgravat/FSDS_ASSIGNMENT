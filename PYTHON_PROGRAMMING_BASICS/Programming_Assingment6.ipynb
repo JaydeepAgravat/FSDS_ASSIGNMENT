{
  "nbformat": 4,
  "nbformat_minor": 0,
  "metadata": {
    "colab": {
      "provenance": []
    },
    "kernelspec": {
      "name": "python3",
      "display_name": "Python 3"
    },
    "language_info": {
      "name": "python"
    }
  },
  "cells": [
    {
      "cell_type": "markdown",
      "source": [
        "# Programming Assingment 6"
      ],
      "metadata": {
        "id": "g6dMNYFDesj4"
      }
    },
    {
      "cell_type": "markdown",
      "source": [
        "## 1\\. Write a Python Program to Display Fibonacci Sequence Using Recursion?"
      ],
      "metadata": {
        "id": "6dBf5nuCewfI"
      }
    },
    {
      "cell_type": "code",
      "source": [
        "def fib_seq(n):\n",
        "  for i in range(n):\n",
        "    print(fib(i),end=' ')\n",
        "\n",
        "def fib(n):\n",
        "\n",
        "  if n <= 1:\n",
        "    return n\n",
        "  else:\n",
        "    return fib(n-1) + fib(n-2)\n",
        "\n",
        "\n",
        "num = int(input(\"Enter number of terms : \"))\n",
        "\n",
        "\n",
        "fib_seq(num)"
      ],
      "metadata": {
        "colab": {
          "base_uri": "https://localhost:8080/"
        },
        "id": "QhGDh2icfF72",
        "outputId": "7650e3ae-f39a-413c-e583-18edcf8448a6"
      },
      "execution_count": null,
      "outputs": [
        {
          "output_type": "stream",
          "name": "stdout",
          "text": [
            "Enter number of terms : 5\n",
            "0 1 1 2 3 "
          ]
        }
      ]
    },
    {
      "cell_type": "markdown",
      "source": [
        "## 2\\. Write a Python Program to Find Factorial of Number Using Recursion?"
      ],
      "metadata": {
        "id": "RI6aRMoiey1o"
      }
    },
    {
      "cell_type": "code",
      "source": [
        "def factorial(n):\n",
        "  if n <= 1:\n",
        "    return n\n",
        "  else:\n",
        "    return n * factorial(n-1)\n",
        "\n",
        "num = int(input(\"Enter a number : \"))\n",
        "fact = factorial(num)\n",
        "\n",
        "print(fact)"
      ],
      "metadata": {
        "colab": {
          "base_uri": "https://localhost:8080/"
        },
        "id": "hLo1xR46gA-P",
        "outputId": "5d336766-408d-4814-9d09-8c5e4c61bfba"
      },
      "execution_count": null,
      "outputs": [
        {
          "output_type": "stream",
          "name": "stdout",
          "text": [
            "Enter a number : 5\n",
            "120\n"
          ]
        }
      ]
    },
    {
      "cell_type": "markdown",
      "source": [
        "## 3\\. Write a Python Program to calculate your Body Mass Index?"
      ],
      "metadata": {
        "id": "7kpC2hAHe08v"
      }
    },
    {
      "cell_type": "code",
      "source": [
        "def get_bmi(w, h):\n",
        "  bmi = w / (h**2)\n",
        "\n",
        "  print(f\"bmi is {bmi}\")\n",
        "\n",
        "weight = float(input(\"Enter your weight in kg : \"))\n",
        "height = float(input(\"Enter your height in mt : \"))\n",
        "\n",
        "get_bmi(weight, height)"
      ],
      "metadata": {
        "colab": {
          "base_uri": "https://localhost:8080/"
        },
        "id": "QOIMDpR_gryG",
        "outputId": "ec7a434a-da46-4da1-f19f-c8636b146c04"
      },
      "execution_count": null,
      "outputs": [
        {
          "output_type": "stream",
          "name": "stdout",
          "text": [
            "Enter your weight in kg : 50\n",
            "Enter your height in mt : 1.6\n",
            "bmi is 19.531249999999996\n"
          ]
        }
      ]
    },
    {
      "cell_type": "markdown",
      "source": [
        "## 4\\. Write a Python Program to calculate the natural logarithm of any number?"
      ],
      "metadata": {
        "id": "9dqanMHke4cX"
      }
    },
    {
      "cell_type": "code",
      "source": [
        "import math\n",
        "\n",
        "num = float(input(\"Enter a number : \"))\n",
        "\n",
        "ans = math.log(num)\n",
        "\n",
        "print(ans)"
      ],
      "metadata": {
        "colab": {
          "base_uri": "https://localhost:8080/"
        },
        "id": "voG0TW02iBXm",
        "outputId": "ac8279df-660b-4b5d-d116-4cdb3c02c9bb"
      },
      "execution_count": null,
      "outputs": [
        {
          "output_type": "stream",
          "name": "stdout",
          "text": [
            "Enter a number :  2.718281828459045\n",
            "1.0\n"
          ]
        }
      ]
    },
    {
      "cell_type": "markdown",
      "source": [
        "## 5\\. Write a Python Program for cube sum of first n natural numbers?\n",
        "\n",
        "\n"
      ],
      "metadata": {
        "id": "rShDT9NBe6_f"
      }
    },
    {
      "cell_type": "code",
      "execution_count": null,
      "metadata": {
        "colab": {
          "base_uri": "https://localhost:8080/"
        },
        "id": "JET07udIeZ70",
        "outputId": "b440fc64-7b07-4a2c-8898-45974c40ff29"
      },
      "outputs": [
        {
          "output_type": "stream",
          "name": "stdout",
          "text": [
            "Enter a number : 3\n",
            "36\n"
          ]
        }
      ],
      "source": [
        "n = int(input(\"Enter a number : \"))\n",
        "\n",
        "ans = (n * (n + 1) / 2) ** 2\n",
        "\n",
        "ans = int(ans)\n",
        "\n",
        "print(ans)"
      ]
    }
  ]
}