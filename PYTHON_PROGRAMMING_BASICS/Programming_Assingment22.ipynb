{
  "nbformat": 4,
  "nbformat_minor": 0,
  "metadata": {
    "colab": {
      "provenance": [],
      "collapsed_sections": [
        "PGfhXMENRpy_",
        "k4JeWXQtR2wu",
        "wrbnQigOSd6t",
        "ZaBx42UFScR1",
        "vTXVx9pZSZ_t"
      ],
      "toc_visible": true
    },
    "kernelspec": {
      "name": "python3",
      "display_name": "Python 3"
    },
    "language_info": {
      "name": "python"
    }
  },
  "cells": [
    {
      "cell_type": "markdown",
      "source": [
        "# Programming Assingment 22"
      ],
      "metadata": {
        "id": "jSR-qwQpRHsn"
      }
    },
    {
      "cell_type": "markdown",
      "source": [
        "## Question 1 "
      ],
      "metadata": {
        "id": "PGfhXMENRpy_"
      }
    },
    {
      "cell_type": "markdown",
      "source": [
        "```\n",
        "Create a function that takes three parameters where: x is the start of the range (inclusive). y is the end of the range (inclusive). \n",
        "n is the divisor to be checked against.\n",
        "Return an ordered list with numbers in the range that are divisible by the third parameter n.\n",
        "Return an empty list if there are no numbers that are divisible by n.\n",
        "\n",
        "Examples:\n",
        "list_operation(1, 10, 3) ➞ [3, 6, 9]\n",
        "list_operation(7, 9, 2) ➞ [8]\n",
        "list_operation(15, 20, 7) ➞ []\n",
        "```"
      ],
      "metadata": {
        "id": "pCxUI0myRQc9"
      }
    },
    {
      "cell_type": "code",
      "source": [
        "def list_operation(x, y, n):\n",
        "  nums = []\n",
        "  for num in range(x, y+1):\n",
        "    if num%n == 0:\n",
        "      nums.append(num)\n",
        "  return nums"
      ],
      "metadata": {
        "id": "Bxx9qgltSkCG"
      },
      "execution_count": null,
      "outputs": []
    },
    {
      "cell_type": "code",
      "source": [
        "print(list_operation(1, 10, 3))\n",
        "print(list_operation(7, 9, 2))\n",
        "print(list_operation(15, 20, 7))"
      ],
      "metadata": {
        "colab": {
          "base_uri": "https://localhost:8080/"
        },
        "id": "qmHyM9pRTGcN",
        "outputId": "3377562d-f63f-48f2-feec-80917407ab53"
      },
      "execution_count": null,
      "outputs": [
        {
          "output_type": "stream",
          "name": "stdout",
          "text": [
            "[3, 6, 9]\n",
            "[8]\n",
            "[]\n"
          ]
        }
      ]
    },
    {
      "cell_type": "markdown",
      "source": [
        "## Question 2 "
      ],
      "metadata": {
        "id": "k4JeWXQtR2wu"
      }
    },
    {
      "cell_type": "markdown",
      "source": [
        "```\n",
        "Create a function that takes in two lists and returns True if the second list follows the first list by one element, and False otherwise.\n",
        "In other words, determine if the second list is the first list shifted to the right by 1. \n",
        "\n",
        "Examples simon_says([1, 2], [5, 1]) ➞ True\n",
        "simon_says([1, 2], [5, 5]) ➞ False\n",
        "simon_says([1, 2, 3, 4, 5], [0, 1, 2, 3, 4]) ➞ True\n",
        "simon_says([1, 2, 3, 4, 5], [5, 5, 1, 2, 3]) ➞ False\n",
        "\n",
        "Notes Both input lists will be of the same length, and will have a minimum length of 2. \n",
        "The values of the 0-indexed element in the second list and the n-1th indexed element in the first list do not matter.\n",
        "```"
      ],
      "metadata": {
        "id": "79W_tw1zRUXV"
      }
    },
    {
      "cell_type": "code",
      "source": [
        "def simon_says(in_list_1,in_list_2):\n",
        "    if len(in_list_1) == len(in_list_1) and len(in_list_1) >=2 and len(in_list_1) >=2:\n",
        "        if(in_list_1[:-1] == in_list_2[1:]):\n",
        "            print(f'{in_list_1,in_list_2} ➞ {True}')\n",
        "        else:\n",
        "            print(f'{in_list_1,in_list_2} ➞ {False}')\n",
        "            \n",
        "simon_says([1, 2], [5, 1])\n",
        "simon_says([1, 2], [5, 5])\n",
        "simon_says([1, 2, 3, 4, 5], [0, 1, 2, 3, 4])\n",
        "simon_says([1, 2, 3, 4, 5], [5, 5, 1, 2, 3])"
      ],
      "metadata": {
        "colab": {
          "base_uri": "https://localhost:8080/"
        },
        "id": "q8yFNUn-TQ-1",
        "outputId": "e07bd2a4-7762-4a80-aa24-b04618fe5bb3"
      },
      "execution_count": null,
      "outputs": [
        {
          "output_type": "stream",
          "name": "stdout",
          "text": [
            "([1, 2], [5, 1]) ➞ True\n",
            "([1, 2], [5, 5]) ➞ False\n",
            "([1, 2, 3, 4, 5], [0, 1, 2, 3, 4]) ➞ True\n",
            "([1, 2, 3, 4, 5], [5, 5, 1, 2, 3]) ➞ False\n"
          ]
        }
      ]
    },
    {
      "cell_type": "markdown",
      "source": [
        "## Question 3"
      ],
      "metadata": {
        "id": "wrbnQigOSd6t"
      }
    },
    {
      "cell_type": "markdown",
      "source": [
        "```\n",
        "A group of friends have decided to start a secret society.\n",
        "The name will be the first letter of each of their names, sorted in alphabetical order.\n",
        "Create a function that takes in a list of names and returns the name of the secret society.\n",
        "\n",
        "Examples:\n",
        "society_name([\"Adam\", \"Sarah\", \"Malcolm\"]) ➞ \"AMS\"\n",
        "society_name([\"Harry\", \"Newt\", \"Luna\", \"Cho\"]) ➞ \"CHLN\"\n",
        "society_name([\"Phoebe\", \"Chandler\", \"Rachel\", \"Ross\", \"Monica\", \"Joey\"])\n",
        "```"
      ],
      "metadata": {
        "id": "56khJyVGRWu9"
      }
    },
    {
      "cell_type": "code",
      "source": [
        "def society_name(items):\n",
        "  s_name = ''\n",
        "  for item in items:\n",
        "    s_name += item[0].upper()\n",
        "  \n",
        "  s_name = ''.join(sorted(s_name))\n",
        "  return s_name"
      ],
      "metadata": {
        "id": "Ilrkc1_UUvmG"
      },
      "execution_count": null,
      "outputs": []
    },
    {
      "cell_type": "code",
      "source": [
        "print(society_name([\"Adam\", \"Sarah\", \"Malcolm\"]))\n",
        "print(society_name([\"Harry\", \"Newt\", \"Luna\", \"Cho\"]))\n",
        "print(society_name([\"Phoebe\", \"Chandler\", \"Rachel\", \"Ross\", \"Monica\", \"Joey\"]))"
      ],
      "metadata": {
        "colab": {
          "base_uri": "https://localhost:8080/"
        },
        "id": "eApmDVWmVLgc",
        "outputId": "7071c6f2-f3d3-4c2b-8c3c-945198cfa13d"
      },
      "execution_count": null,
      "outputs": [
        {
          "output_type": "stream",
          "name": "stdout",
          "text": [
            "AMS\n",
            "CHLN\n",
            "CJMPRR\n"
          ]
        }
      ]
    },
    {
      "cell_type": "markdown",
      "source": [
        "## Question 4"
      ],
      "metadata": {
        "id": "ZaBx42UFScR1"
      }
    },
    {
      "cell_type": "markdown",
      "source": [
        "```\n",
        "An isogram is a word that has no duplicate letters.\n",
        "Create a function that takes a string and returns either True or False depending on whether or not it's an \"isogram\". \n",
        "\n",
        "Examples:\n",
        "\n",
        "is_isogram(\"Algorism\") ➞ True\n",
        "is_isogram(\"PasSword\") ➞ False\n",
        "Not case sensitive.\n",
        "is_isogram(\"Consecutive\") ➞ False Notes Ignore letter case (should not be case sensitive). All test cases contain valid one word strings.\n",
        "```"
      ],
      "metadata": {
        "id": "lLF4lU7IRZxO"
      }
    },
    {
      "cell_type": "code",
      "source": [
        "def is_isogram(letters):\n",
        "  letters = letters.lower()\n",
        "  for letter in letters:\n",
        "    if letters.count(letter) > 1:\n",
        "      return False\n",
        "  return True"
      ],
      "metadata": {
        "id": "Oc6UYTXyVhjk"
      },
      "execution_count": null,
      "outputs": []
    },
    {
      "cell_type": "code",
      "source": [
        "print(is_isogram(\"Algorism\"))\n",
        "print(is_isogram(\"PasSword\"))\n",
        "print(is_isogram(\"Consecutive\"))"
      ],
      "metadata": {
        "colab": {
          "base_uri": "https://localhost:8080/"
        },
        "id": "QQP3MuxEWJl0",
        "outputId": "47b936ba-2aab-4291-8aaf-a8716d57a74d"
      },
      "execution_count": null,
      "outputs": [
        {
          "output_type": "stream",
          "name": "stdout",
          "text": [
            "True\n",
            "False\n",
            "False\n"
          ]
        }
      ]
    },
    {
      "cell_type": "markdown",
      "source": [
        "## Question 5 "
      ],
      "metadata": {
        "id": "vTXVx9pZSZ_t"
      }
    },
    {
      "cell_type": "markdown",
      "source": [
        "```\n",
        "Create a function that takes a string and returns True or False, depending on whether the characters are in order or not.\n",
        "\n",
        "Examples:\n",
        "\n",
        "is_in_order(\"abc\") ➞ True\n",
        "is_in_order(\"edabit\") ➞ False\n",
        "is_in_order(\"123\") ➞ True\n",
        "is_in_order(\"xyzz\") ➞ True\n",
        "Notes You don't have to handle empty strings.\n",
        "```"
      ],
      "metadata": {
        "id": "gQt1OwsRRcSd"
      }
    },
    {
      "cell_type": "code",
      "source": [
        "def is_in_order(items):\n",
        "\n",
        "  for i in range(1,len(items)):\n",
        "    if items[i-1] > items[i]:\n",
        "      return False\n",
        "  \n",
        "  return  True"
      ],
      "metadata": {
        "id": "b9_P4yUEROt7"
      },
      "execution_count": null,
      "outputs": []
    },
    {
      "cell_type": "code",
      "source": [
        "print(is_in_order(\"abc\"))\n",
        "print(is_in_order(\"edabit\"))\n",
        "print(is_in_order(\"xyzz\"))\n",
        "print(is_in_order(\"123\"))"
      ],
      "metadata": {
        "colab": {
          "base_uri": "https://localhost:8080/"
        },
        "id": "Z5nDa8CMWskT",
        "outputId": "e8d286f0-86c9-4928-eec3-421532384076"
      },
      "execution_count": null,
      "outputs": [
        {
          "output_type": "stream",
          "name": "stdout",
          "text": [
            "True\n",
            "False\n",
            "True\n",
            "True\n"
          ]
        }
      ]
    }
  ]
}