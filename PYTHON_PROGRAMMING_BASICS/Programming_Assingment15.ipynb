{
  "nbformat": 4,
  "nbformat_minor": 0,
  "metadata": {
    "colab": {
      "provenance": [],
      "toc_visible": true
    },
    "kernelspec": {
      "name": "python3",
      "display_name": "Python 3"
    },
    "language_info": {
      "name": "python"
    }
  },
  "cells": [
    {
      "cell_type": "markdown",
      "source": [
        "# Programming Assingment 15"
      ],
      "metadata": {
        "id": "LD2VbyOm-31L"
      }
    },
    {
      "cell_type": "markdown",
      "source": [
        "## Question 1 "
      ],
      "metadata": {
        "id": "IhuChpm8_M5K"
      }
    },
    {
      "cell_type": "markdown",
      "source": [
        "```\n",
        "Please write a program using generator to print the numbers which can be divisible by 5 and 7 between 0 and\n",
        "n in comma separated form while n is input by console. \n",
        "Example: If the following n is given as input to the program: 100 Then, the output of the program should be: 0,35,70\n",
        "```"
      ],
      "metadata": {
        "id": "t_y637BK-_Bp"
      }
    },
    {
      "cell_type": "code",
      "source": [
        "def gen(n):\n",
        "  for i in range(n+1):\n",
        "    if i%5==0 and i%7==0:\n",
        "      yield i\n",
        "\n",
        "n = int(input(\"Enter a number : \"))\n",
        "items = []\n",
        "for i in gen(n):\n",
        "    items.append(str(i))\n",
        "\n",
        "output = \",\".join(items) \n",
        "print(output)"
      ],
      "metadata": {
        "colab": {
          "base_uri": "https://localhost:8080/"
        },
        "id": "kwlsrIt-_0gi",
        "outputId": "819381a0-b280-4967-f99e-0c6126c4013a"
      },
      "execution_count": null,
      "outputs": [
        {
          "output_type": "stream",
          "name": "stdout",
          "text": [
            "Enter a number : 100\n",
            "0,35,70\n"
          ]
        }
      ]
    },
    {
      "cell_type": "markdown",
      "source": [
        "## Question 2"
      ],
      "metadata": {
        "id": "MeL4RuQP_PuU"
      }
    },
    {
      "cell_type": "markdown",
      "source": [
        "Please write a program using generator to print the even numbers between 0 and n in comma separated form while n is input by console. Example: If the following n is given as input to the program: 10 Then, the output of the program should be: 0,2,4,6,8,10"
      ],
      "metadata": {
        "id": "UD6UfjLh_BJZ"
      }
    },
    {
      "cell_type": "code",
      "source": [
        "def gen(n):\n",
        "  for i in range(n+1):\n",
        "    if i%2==0:\n",
        "      yield i\n",
        "\n",
        "n = int(input(\"Enter a number : \"))\n",
        "items = []\n",
        "for i in gen(n):\n",
        "    items.append(str(i))\n",
        "\n",
        "output = \",\".join(items) \n",
        "print(output)"
      ],
      "metadata": {
        "colab": {
          "base_uri": "https://localhost:8080/"
        },
        "id": "RKjoHYR3DKtB",
        "outputId": "5e4db165-e7b1-43bf-a9f9-730166dbb23d"
      },
      "execution_count": null,
      "outputs": [
        {
          "output_type": "stream",
          "name": "stdout",
          "text": [
            "Enter a number : 10\n",
            "0,2,4,6,8,10\n"
          ]
        }
      ]
    },
    {
      "cell_type": "markdown",
      "source": [
        "## Question 3"
      ],
      "metadata": {
        "id": "0Sxoeg8q_TUK"
      }
    },
    {
      "cell_type": "markdown",
      "source": [
        "```\n",
        "The Fibonacci Sequence is computed based on the following formula: f(n)=0 if n=0 f(n)=1 if n=1 f(n)=f(n-1)+f(n-2) \n",
        "if n>1 Please write a program using list comprehension to print the Fibonacci Sequence in comma separated form with a given n input by console.\n",
        "\n",
        "Example: If the following n is given as input to the program: 7\n",
        "\n",
        "Then, the output of the program should be: 0,1,1,2,3,5,8,13\n",
        "```"
      ],
      "metadata": {
        "id": "crD20c0m_D7J"
      }
    },
    {
      "cell_type": "code",
      "source": [
        "def fib_gen(n):\n",
        "\n",
        "    if n == 0:\n",
        "        return [\"0\"]\n",
        "    if n == 1:\n",
        "        return [\"0\", \"1\"]\n",
        "\n",
        "    sequence = [\"0\", \"1\"]\n",
        "    a, b = 0, 1\n",
        "\n",
        "    for x in range(2, n+1):\n",
        "        c = a + b\n",
        "        sequence.append(str(c))\n",
        "        a = b\n",
        "        b = c\n",
        "    \n",
        "    sequence = ','.join(sequence)\n",
        "    \n",
        "    return sequence\n",
        "\n",
        "n = int(input(\"Enter a number : \"))\n",
        "print(fib_gen(n))"
      ],
      "metadata": {
        "colab": {
          "base_uri": "https://localhost:8080/"
        },
        "id": "MvIvEiQ9En3N",
        "outputId": "819c4269-ec7b-409f-f181-283d205be293"
      },
      "execution_count": null,
      "outputs": [
        {
          "output_type": "stream",
          "name": "stdout",
          "text": [
            "Enter a number : 7\n",
            "0,1,1,2,3,5,8,13\n"
          ]
        }
      ]
    },
    {
      "cell_type": "markdown",
      "source": [
        "## Question 4"
      ],
      "metadata": {
        "id": "nncG9Tm6_WvJ"
      }
    },
    {
      "cell_type": "markdown",
      "source": [
        "```\n",
        "Assuming that we have some email addresses in the \"username@companyname.com\" format,\n",
        "please write program to print the user name of a given email address. Both user names and company names are composed of letters only.\n",
        "Example: If the following email address is given as input to the program: john@google.com Then, the output of the program should be: john\n",
        "```"
      ],
      "metadata": {
        "id": "AstPjQtG_GKL"
      }
    },
    {
      "cell_type": "code",
      "source": [
        "def get_user_names(email):\n",
        "    output = email.split('@')[0]\n",
        "    print(f'Username of {email} is {output}')\n",
        "\n",
        "email = input('Enter Email Address: ')\n",
        "get_user_names(email)"
      ],
      "metadata": {
        "colab": {
          "base_uri": "https://localhost:8080/"
        },
        "id": "XrRohm0w-6BZ",
        "outputId": "48dd6bf1-f3ae-4455-e11f-620b0600bbff"
      },
      "execution_count": null,
      "outputs": [
        {
          "output_type": "stream",
          "name": "stdout",
          "text": [
            "Enter Email Address: john@google.com\n",
            "Username of john@google.com is john\n"
          ]
        }
      ]
    },
    {
      "cell_type": "markdown",
      "source": [
        "## Question 5"
      ],
      "metadata": {
        "id": "-lC2M_Kt_a25"
      }
    },
    {
      "cell_type": "markdown",
      "source": [
        "Define a class named Shape and its subclass Square. The Square class has an init function which takes a length as argument. Both classes have a area function which can print the area of the shape where Shape's area is 0 by default."
      ],
      "metadata": {
        "id": "DCpAGx2x_Ho5"
      }
    },
    {
      "cell_type": "code",
      "source": [
        "class Shape:\n",
        "  def area(self):\n",
        "    return 0\n",
        "\n",
        "class Square(Shape):\n",
        "  def __init__(self, length):\n",
        "    self.length = length\n",
        "  def area(self):\n",
        "    return self.length ** 2\n",
        "\n",
        "a = Shape()\n",
        "b = Square(3)\n",
        "\n",
        "print(a.area())\n",
        "print(b.area())"
      ],
      "metadata": {
        "colab": {
          "base_uri": "https://localhost:8080/"
        },
        "id": "iOR5I71g-9EF",
        "outputId": "06fc2a4c-afe3-4fb9-e4c6-95179465f7cf"
      },
      "execution_count": null,
      "outputs": [
        {
          "output_type": "stream",
          "name": "stdout",
          "text": [
            "0\n",
            "9\n"
          ]
        }
      ]
    }
  ]
}