{
  "nbformat": 4,
  "nbformat_minor": 0,
  "metadata": {
    "colab": {
      "provenance": [],
      "toc_visible": true
    },
    "kernelspec": {
      "name": "python3",
      "display_name": "Python 3"
    },
    "language_info": {
      "name": "python"
    }
  },
  "cells": [
    {
      "cell_type": "markdown",
      "source": [
        "# Programming Assingment 18"
      ],
      "metadata": {
        "id": "ukXf_FQUK8TH"
      }
    },
    {
      "cell_type": "markdown",
      "source": [
        "## Question 1"
      ],
      "metadata": {
        "id": "koUao5s2LKoA"
      }
    },
    {
      "cell_type": "markdown",
      "source": [
        "```\n",
        "Create a function that takes a list of non-negative integers\n",
        "and strings and return a new list without the strings.\n",
        "Examples:\n",
        "filter_list([1, 2, \"a\", \"b\"]) ➞ [1, 2]\n",
        "filter_list([1, \"a\", \"b\", 0, 15]) ➞ [1, 0, 15]\n",
        "filter_list([1, 2, \"aasf\", \"1\", \"123\", 123]) ➞ [1, 2, 123]\n",
        "```"
      ],
      "metadata": {
        "id": "bUbBrRbSLEk_"
      }
    },
    {
      "cell_type": "code",
      "source": [
        "def filter_list(items):\n",
        "  nums = []\n",
        "\n",
        "  for item in items:\n",
        "    if isinstance(item, int):\n",
        "      nums.append(item)\n",
        "  \n",
        "  return nums\n",
        "\n",
        "print(filter_list([1, 2, \"a\", \"b\"]) )\n",
        "print(filter_list([1, \"a\", \"b\", 0, 15]))\n",
        "print(filter_list([1, 2, \"aasf\", \"1\", \"123\", 123]))"
      ],
      "metadata": {
        "colab": {
          "base_uri": "https://localhost:8080/"
        },
        "id": "6-8Cd3xQMZqJ",
        "outputId": "247d09a0-a40b-46f6-b3b2-9a2fbbd87bf6"
      },
      "execution_count": null,
      "outputs": [
        {
          "output_type": "stream",
          "name": "stdout",
          "text": [
            "[1, 2]\n",
            "[1, 0, 15]\n",
            "[1, 2, 123]\n"
          ]
        }
      ]
    },
    {
      "cell_type": "markdown",
      "source": [
        "## Question 2 "
      ],
      "metadata": {
        "id": "ioOqTYpCLccN"
      }
    },
    {
      "cell_type": "markdown",
      "source": [
        "```\n",
        "The \"Reverser\" takes a string as input and returns that string in reverse order, with the opposite case.\n",
        "Examples:\n",
        "reverse(\"Hello World\") ➞ \"DLROw OLLEh\"\n",
        "reverse(\"ReVeRsE\") ➞ \"eSrEvEr\"\n",
        "reverse(\"Radar\") ➞ \"RADAr\"\n",
        "```"
      ],
      "metadata": {
        "id": "XifBtNbKLUJG"
      }
    },
    {
      "cell_type": "code",
      "source": [
        "def reverse(string):\n",
        "  ans = \"\"\n",
        "  for char in reversed(string):\n",
        "    if char.isupper():\n",
        "      ans += char.lower()\n",
        "    else:\n",
        "      ans += char.upper()\n",
        "  return ans\n",
        "\n",
        "print(reverse(\"Hello World\"))\n",
        "print(reverse(\"ReVeRsE\"))\n",
        "print(reverse(\"Radar\"))"
      ],
      "metadata": {
        "colab": {
          "base_uri": "https://localhost:8080/"
        },
        "id": "iXh_S42bNOdg",
        "outputId": "b0c16a83-0cc5-4a1a-b136-bbfe656f96c9"
      },
      "execution_count": null,
      "outputs": [
        {
          "output_type": "stream",
          "name": "stdout",
          "text": [
            "DLROw OLLEh\n",
            "eSrEvEr\n",
            "RADAr\n"
          ]
        }
      ]
    },
    {
      "cell_type": "markdown",
      "source": [
        "## Question 3 "
      ],
      "metadata": {
        "id": "HeMTpWQoLmG8"
      }
    },
    {
      "cell_type": "markdown",
      "source": [
        "```\n",
        "You can assign variables from lists like this: lst = [1, 2, 3, 4, 5, 6] first = lst[0] middle = lst[1:-1] last = lst[-1]\n",
        "\n",
        "print(first) ➞ outputs 1 print(middle) ➞ outputs [2, 3, 4, 5] print(last) ➞ outputs 6 With Python 3,\n",
        "you can assign variables from lists in a much more succinct way. \n",
        "Create variables first, middle and last from the given list using destructuring assignment\n",
        "(check the Resources tab for some examples), where: first ➞ 1\n",
        "\n",
        "middle ➞ [2, 3, 4, 5]\n",
        "\n",
        "last ➞ 6 Your task is to unpack the list writeyourcodehere into three variables, being first, middle, and last,\n",
        "with middle being everything in between the first and last element.\n",
        "Then print all three variables.\n",
        "```"
      ],
      "metadata": {
        "id": "kkLs9u9zLiMg"
      }
    },
    {
      "cell_type": "code",
      "source": [
        "lst = [1,2,3,4,5,6]\n",
        "first, *middle, last = lst\n",
        "print(lst)\n",
        "print(first)\n",
        "print(middle)\n",
        "print(last)"
      ],
      "metadata": {
        "colab": {
          "base_uri": "https://localhost:8080/"
        },
        "id": "XTL0bG2CPEW1",
        "outputId": "5e5af5a4-18c3-490d-9c30-b3169a0e4d42"
      },
      "execution_count": null,
      "outputs": [
        {
          "output_type": "stream",
          "name": "stdout",
          "text": [
            "[1, 2, 3, 4, 5, 6]\n",
            "1\n",
            "[2, 3, 4, 5]\n",
            "6\n"
          ]
        }
      ]
    },
    {
      "cell_type": "markdown",
      "source": [
        "## Question 4 "
      ],
      "metadata": {
        "id": "O82iczH7L4kO"
      }
    },
    {
      "cell_type": "markdown",
      "source": [
        "```\n",
        "Write a function that calculates the factorial of a number recursively.\n",
        "\n",
        "Examples:\n",
        "factorial(5) ➞ 120\n",
        "factorial(3) ➞ 6\n",
        "factorial(1) ➞ 1\n",
        "factorial(0) ➞ 1\n",
        "```"
      ],
      "metadata": {
        "id": "cxP2J7NUL2UB"
      }
    },
    {
      "cell_type": "code",
      "source": [
        "def factorial(n):\n",
        "  if n<=1: return 1\n",
        "  return n*factorial(n-1)\n",
        "\n",
        "print(factorial(5))\n",
        "print(factorial(3))\n",
        "print(factorial(1))\n",
        "print(factorial(0))"
      ],
      "metadata": {
        "colab": {
          "base_uri": "https://localhost:8080/"
        },
        "id": "oH02GZeGPYn8",
        "outputId": "d12bbdfe-6477-4fe0-f60b-55bd6b2a5fe7"
      },
      "execution_count": null,
      "outputs": [
        {
          "output_type": "stream",
          "name": "stdout",
          "text": [
            "120\n",
            "6\n",
            "1\n",
            "1\n"
          ]
        }
      ]
    },
    {
      "cell_type": "markdown",
      "source": [
        "## Question 5 "
      ],
      "metadata": {
        "id": "9UNdjFxDMFam"
      }
    },
    {
      "cell_type": "markdown",
      "source": [
        "```\n",
        "Write a function that moves all elements of one type to the end of the list. \n",
        "Examples:\n",
        "move_to_end([1, 3, 2, 4, 4, 1], 1) ➞ [3, 2, 4, 4, 1, 1]\n",
        "Move all the 1s to the end of the array.\n",
        "move_to_end([7, 8, 9, 1, 2, 3, 4], 9) ➞ [7, 8, 1, 2, 3, 4, 9]\n",
        "move_to_end([\"a\", \"a\", \"a\", \"b\"], \"a\") ➞ [\"b\", \"a\", \"a\", \"a\"]\n",
        "```"
      ],
      "metadata": {
        "id": "_B8OxkEHL9mo"
      }
    },
    {
      "cell_type": "code",
      "source": [
        "def move_to_end(nums, key):\n",
        "  fre = nums.count(key)\n",
        "  for i in range(fre):\n",
        "    nums.remove(key)\n",
        "  end = [key] * fre\n",
        "  nums = nums + end\n",
        "  return nums\n",
        "\n",
        "move_to_end([1, 3, 2, 4, 4, 1], 1)\n",
        "move_to_end([\"a\", \"a\", \"a\", \"b\"], \"a\")"
      ],
      "metadata": {
        "colab": {
          "base_uri": "https://localhost:8080/"
        },
        "id": "1IQ11t63LCfe",
        "outputId": "1bc9d3b3-7946-445e-a763-277c8d0b6b04"
      },
      "execution_count": null,
      "outputs": [
        {
          "output_type": "execute_result",
          "data": {
            "text/plain": [
              "['b', 'a', 'a', 'a']"
            ]
          },
          "metadata": {},
          "execution_count": 8
        }
      ]
    }
  ]
}