{
  "nbformat": 4,
  "nbformat_minor": 0,
  "metadata": {
    "colab": {
      "provenance": [],
      "collapsed_sections": [
        "8Zwe2qD2QFm2",
        "sVaAS2BmQVme",
        "jM8hl1l7Qh-6",
        "q1-UKyc3QuJU",
        "nfaJya2hQ_RD",
        "BxJnKe6WRKFj"
      ],
      "toc_visible": true
    },
    "kernelspec": {
      "name": "python3",
      "display_name": "Python 3"
    },
    "language_info": {
      "name": "python"
    }
  },
  "cells": [
    {
      "cell_type": "markdown",
      "source": [
        "# Programming Assingment 19"
      ],
      "metadata": {
        "id": "8Zwe2qD2QFm2"
      }
    },
    {
      "cell_type": "markdown",
      "source": [
        "## Question 1 "
      ],
      "metadata": {
        "id": "sVaAS2BmQVme"
      }
    },
    {
      "cell_type": "markdown",
      "source": [
        "```\n",
        "Create a function that takes a string and returns a string in which each character is repeated once.\n",
        "\n",
        "Examples:\n",
        "double_char(\"String\") ➞ \"SSttrriinngg\"\n",
        "double_char(\"Hello World!\") ➞ \"HHeelllloo WWoorrlldd!!\"\n",
        "double_char(\"1234!_ \") ➞ \"11223344!!__ \"\n",
        "```"
      ],
      "metadata": {
        "id": "rAgk7VHzQNUE"
      }
    },
    {
      "cell_type": "code",
      "source": [
        "def double_char(string):\n",
        "  answer = \"\"\n",
        "  for char in string:\n",
        "    answer += char*2\n",
        "  return answer\n",
        "\n",
        "print(double_char(\"String\") )\n",
        "print(double_char(\"Hello World!\"))\n",
        "print(double_char(\"1234!_ \"))"
      ],
      "metadata": {
        "colab": {
          "base_uri": "https://localhost:8080/"
        },
        "id": "-ARpFL-QRPA8",
        "outputId": "b40743a6-894a-4e87-bb8e-ccafb5de60d2"
      },
      "execution_count": null,
      "outputs": [
        {
          "output_type": "stream",
          "name": "stdout",
          "text": [
            "SSttrriinngg\n",
            "HHeelllloo  WWoorrlldd!!\n",
            "11223344!!__  \n"
          ]
        }
      ]
    },
    {
      "cell_type": "markdown",
      "source": [
        "## Question 2 "
      ],
      "metadata": {
        "id": "jM8hl1l7Qh-6"
      }
    },
    {
      "cell_type": "markdown",
      "source": [
        "```\n",
        "Create a function that reverses a boolean value and returns the string \"boolean expected\" if another variable type is given.\n",
        "Examples:\n",
        "reverse(True) ➞ False\n",
        "reverse(False) ➞ True\n",
        "reverse(0) ➞ \"boolean expected\"\n",
        "reverse(None) ➞ \"boolean expected\"\n",
        "```"
      ],
      "metadata": {
        "id": "6ydDIbUeQZDy"
      }
    },
    {
      "cell_type": "code",
      "source": [
        "def reverse(b):\n",
        "  if isinstance(b,bool):\n",
        "    return not b\n",
        "  else:\n",
        "    return \"boolean expected\""
      ],
      "metadata": {
        "id": "OdANI3WYR-Yi"
      },
      "execution_count": null,
      "outputs": []
    },
    {
      "cell_type": "code",
      "source": [
        "print(reverse(True))\n",
        "print(reverse(False))\n",
        "print(reverse(0))\n",
        "print(reverse(None))"
      ],
      "metadata": {
        "colab": {
          "base_uri": "https://localhost:8080/"
        },
        "id": "oH69k-ZSRzCk",
        "outputId": "3d2e4ef8-ad4e-47e4-b538-824db3ed393e"
      },
      "execution_count": null,
      "outputs": [
        {
          "output_type": "stream",
          "name": "stdout",
          "text": [
            "False\n",
            "True\n",
            "boolean expected\n",
            "boolean expected\n"
          ]
        }
      ]
    },
    {
      "cell_type": "markdown",
      "source": [
        "## Question 3 "
      ],
      "metadata": {
        "id": "q1-UKyc3QuJU"
      }
    },
    {
      "cell_type": "markdown",
      "source": [
        "```\n",
        "Create a function that returns the thickness (in meters) of a piece of paper after folding it n number of times. \n",
        "The paper starts off with a thickness of 0.5mm.\n",
        "\n",
        "Examples:\n",
        "num_layers(1) ➞ \"0.001m\"\n",
        "Paper folded once is 1mm (equal to 0.001m)\n",
        "num_layers(4) ➞ \"0.008m\"\n",
        "Paper folded 4 times is 8mm (equal to 0.008m)\n",
        "num_layers(21) ➞ \"1048.576m\"\n",
        "Paper folded 21 times is 1048576mm (equal to 1048.576m)\n",
        "```"
      ],
      "metadata": {
        "id": "XFrkJcKDQmTD"
      }
    },
    {
      "cell_type": "code",
      "source": [
        "def num_layers(n):\n",
        "  thickness = 0.5\n",
        "  for i in range(n):\n",
        "    thickness *= 2\n",
        "  return f\"Paper folded {n} times is {int(thickness)}mm (equal to {thickness/1000}m)\""
      ],
      "metadata": {
        "id": "p_xkUrs3Sv8C"
      },
      "execution_count": null,
      "outputs": []
    },
    {
      "cell_type": "code",
      "source": [
        "print(num_layers(1))\n",
        "print(num_layers(4))\n",
        "print(num_layers(21))"
      ],
      "metadata": {
        "colab": {
          "base_uri": "https://localhost:8080/"
        },
        "id": "h_bG0Tp8SmWq",
        "outputId": "d32fbdfa-8e19-4096-adbc-815d18047351"
      },
      "execution_count": null,
      "outputs": [
        {
          "output_type": "stream",
          "name": "stdout",
          "text": [
            "Paper folded 1 times is 1mm (equal to 0.001m)\n",
            "Paper folded 4 times is 8mm (equal to 0.008m)\n",
            "Paper folded 21 times is 1048576mm (equal to 1048.576m)\n"
          ]
        }
      ]
    },
    {
      "cell_type": "markdown",
      "source": [
        "## Question 4 "
      ],
      "metadata": {
        "id": "nfaJya2hQ_RD"
      }
    },
    {
      "cell_type": "markdown",
      "source": [
        "```\n",
        "Create a function that takes a single string as argument and returns an ordered \n",
        "list containing the indices of all capital letters in the string.\n",
        "\n",
        "Examples:\n",
        "index_of_caps(\"eDaBiT\") ➞ [1, 3, 5]\n",
        "index_of_caps(\"eQuINoX\") ➞ [1, 3, 4, 6]\n",
        "index_of_caps(\"determine\") ➞ []\n",
        "index_of_caps(\"STRIKE\") ➞ [0, 1, 2, 3, 4, 5]\n",
        "index_of_caps(\"sUn\") ➞ [1]\n",
        "```"
      ],
      "metadata": {
        "id": "XzV_MMaGQ1ja"
      }
    },
    {
      "cell_type": "code",
      "source": [
        "def index_of_caps(string):\n",
        "  items = []\n",
        "  for index, char in enumerate(string):\n",
        "    if char.isupper():\n",
        "      items.append(index)\n",
        "  return items"
      ],
      "metadata": {
        "id": "M_u_7nUZUanT"
      },
      "execution_count": null,
      "outputs": []
    },
    {
      "cell_type": "code",
      "source": [
        "print(index_of_caps(\"eDaBiT\"))\n",
        "print(index_of_caps(\"eQuINoX\"))\n",
        "print(index_of_caps(\"determine\"))\n",
        "print(index_of_caps(\"STRIKE\"))\n",
        "print(index_of_caps(\"sUn\"))"
      ],
      "metadata": {
        "colab": {
          "base_uri": "https://localhost:8080/"
        },
        "id": "3dQk5S1gU6bD",
        "outputId": "f96f7c55-0e78-494e-facd-286c844f7315"
      },
      "execution_count": null,
      "outputs": [
        {
          "output_type": "stream",
          "name": "stdout",
          "text": [
            "[1, 3, 5]\n",
            "[1, 3, 4, 6]\n",
            "[]\n",
            "[0, 1, 2, 3, 4, 5]\n",
            "[1]\n"
          ]
        }
      ]
    },
    {
      "cell_type": "markdown",
      "source": [
        "## Question 5"
      ],
      "metadata": {
        "id": "BxJnKe6WRKFj"
      }
    },
    {
      "cell_type": "markdown",
      "source": [
        "```\n",
        "Using list comprehensions, create a function that finds all even numbers from 1 to the given number.\n",
        "\n",
        "Examples:\n",
        "find_even_nums(8) ➞ [2, 4, 6, 8]\n",
        "find_even_nums(4) ➞ [2, 4]\n",
        "find_even_nums(2) ➞ [2]\n",
        "```"
      ],
      "metadata": {
        "id": "QhLbdiNeRC8a"
      }
    },
    {
      "cell_type": "code",
      "execution_count": null,
      "metadata": {
        "id": "RA52_ip-PzCj"
      },
      "outputs": [],
      "source": [
        "def find_even_nums(n):\n",
        "  return [i for i in range(1,n+1) if i%2==0]"
      ]
    },
    {
      "cell_type": "code",
      "source": [
        "print(find_even_nums(8))\n",
        "print(find_even_nums(4))\n",
        "print(find_even_nums(2))"
      ],
      "metadata": {
        "colab": {
          "base_uri": "https://localhost:8080/"
        },
        "id": "u6tzKNF4Vp16",
        "outputId": "036bbe2d-3859-4384-c230-ca867f742843"
      },
      "execution_count": null,
      "outputs": [
        {
          "output_type": "stream",
          "name": "stdout",
          "text": [
            "[2, 4, 6, 8]\n",
            "[2, 4]\n",
            "[2]\n"
          ]
        }
      ]
    }
  ]
}