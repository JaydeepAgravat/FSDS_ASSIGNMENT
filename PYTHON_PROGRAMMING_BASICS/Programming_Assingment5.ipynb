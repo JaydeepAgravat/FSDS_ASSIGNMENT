{
  "nbformat": 4,
  "nbformat_minor": 0,
  "metadata": {
    "colab": {
      "provenance": [],
      "toc_visible": true
    },
    "kernelspec": {
      "name": "python3",
      "display_name": "Python 3"
    },
    "language_info": {
      "name": "python"
    }
  },
  "cells": [
    {
      "cell_type": "markdown",
      "source": [
        "# Programming Assingment 5"
      ],
      "metadata": {
        "id": "CoNscDlSJvil"
      }
    },
    {
      "cell_type": "markdown",
      "source": [
        "## 1\\. Write a Python Program to Find LCM?"
      ],
      "metadata": {
        "id": "JG8-P5GYJz3m"
      }
    },
    {
      "cell_type": "code",
      "source": [
        "def find_lcm(n1, n2):\n",
        "\n",
        "  big = n1 if n1 > n2 else n2\n",
        "\n",
        "  while True:\n",
        "\n",
        "    if (big % n1 == 0) and (big % n2 == 0):\n",
        "      break\n",
        "    big += 1\n",
        "\n",
        "  return big\n",
        "\n",
        "num1 = int(input(\"Enter first number : \"))\n",
        "num2 = int(input(\"Enter second number : \"))\n",
        "\n",
        "lcm = find_lcm(num1, num2)\n",
        "\n",
        "print(lcm)"
      ],
      "metadata": {
        "colab": {
          "base_uri": "https://localhost:8080/"
        },
        "id": "xuFgQCPfKpFx",
        "outputId": "0419d0d4-8a8e-4958-f51d-f63ac1b33cb0"
      },
      "execution_count": null,
      "outputs": [
        {
          "output_type": "stream",
          "name": "stdout",
          "text": [
            "Enter first number : 12\n",
            "Enter second number : 14\n",
            "84\n"
          ]
        }
      ]
    },
    {
      "cell_type": "markdown",
      "source": [
        "## 2\\. Write a Python Program to Find HCF?"
      ],
      "metadata": {
        "id": "jkbgBm3RJ3Yc"
      }
    },
    {
      "cell_type": "code",
      "source": [
        "def find_hcf(n1, n2):\n",
        "\n",
        "  small = n1 if n1 < n2 else n2\n",
        "\n",
        "  for i in range(1, small+1):\n",
        "    if (n1 % i == 0) and (n2 % i == 0):\n",
        "      hcf = i\n",
        "  \n",
        "  return hcf\n",
        "\n",
        "num1 = int(input(\"Enter first number : \"))\n",
        "num2 = int(input(\"Enter second number : \"))\n",
        "\n",
        "hcf = find_hcf(num1, num2)\n",
        "\n",
        "print(hcf)"
      ],
      "metadata": {
        "colab": {
          "base_uri": "https://localhost:8080/"
        },
        "id": "IEcQM3iWM_F5",
        "outputId": "115b442e-e1ab-4b6b-eb27-3a021637ed58"
      },
      "execution_count": null,
      "outputs": [
        {
          "output_type": "stream",
          "name": "stdout",
          "text": [
            "Enter first number : 12\n",
            "Enter second number : 14\n",
            "2\n"
          ]
        }
      ]
    },
    {
      "cell_type": "markdown",
      "source": [
        "## 3\\. Write a Python Program to Convert Decimal to Binary, Octal and Hexadecimal?"
      ],
      "metadata": {
        "id": "hCiIMOYXJ7CM"
      }
    },
    {
      "cell_type": "code",
      "source": [
        "def decimal_to_other(num):\n",
        "\n",
        "  print(f\"Binary Number is {bin(num)}\")\n",
        "  print(f\"Octal Number is {oct(num)}\")\n",
        "  print(f\"Hexadecimal Number is {hex(num)}\")\n",
        "\n",
        "num = int(input(\"Enter Number : \"))\n",
        "\n",
        "decimal_to_other(num)"
      ],
      "metadata": {
        "colab": {
          "base_uri": "https://localhost:8080/"
        },
        "id": "MpcU9GUzN6z4",
        "outputId": "6b4761ec-8d68-4466-fdd8-7f85fc2dd687"
      },
      "execution_count": null,
      "outputs": [
        {
          "output_type": "stream",
          "name": "stdout",
          "text": [
            "Enter Number : 8\n",
            "Binary Number is 0b1000\n",
            "Octal Number is 0o10\n",
            "Hexadecimal Number is 0x8\n"
          ]
        }
      ]
    },
    {
      "cell_type": "markdown",
      "source": [
        "## 4\\. Write a Python Program To Find ASCII value of a character?"
      ],
      "metadata": {
        "id": "fXKk8QZBJ_K-"
      }
    },
    {
      "cell_type": "code",
      "source": [
        "char = input(\"Enter a Character : \")\n",
        "\n",
        "ASCII = ord(char)\n",
        "\n",
        "print(f\"ASCII character of {char} is {ASCII}.\")"
      ],
      "metadata": {
        "colab": {
          "base_uri": "https://localhost:8080/"
        },
        "id": "Znvq4cj9Ovuq",
        "outputId": "1b910b4e-a63d-41e3-b6fd-8d9b39429727"
      },
      "execution_count": null,
      "outputs": [
        {
          "output_type": "stream",
          "name": "stdout",
          "text": [
            "Enter a Character : a\n",
            "ASCII character of a is 97.\n"
          ]
        }
      ]
    },
    {
      "cell_type": "markdown",
      "source": [
        "## 5\\. Write a Python Program to Make a Simple Calculator with 4 basic mathematical operations?"
      ],
      "metadata": {
        "id": "57ir9dukKCgM"
      }
    },
    {
      "cell_type": "code",
      "source": [
        "print(\"Select operation.\")\n",
        "print(\"1.Add\")\n",
        "print(\"2.Subtract\")\n",
        "print(\"3.Multiply\")\n",
        "print(\"4.Divide\")\n",
        "\n",
        "while True:\n",
        "\n",
        "    choice = input(\"Enter choice(1/2/3/4): \")\n",
        "\n",
        "    if choice in ('1', '2', '3', '4'):\n",
        "\n",
        "        num1 = float(input(\"Enter first number: \"))\n",
        "        num2 = float(input(\"Enter second number: \"))\n",
        "\n",
        "        if choice == '1':\n",
        "            print(num1, \"+\", num2, \"=\", num1 + num2)\n",
        "\n",
        "        elif choice == '2':\n",
        "            print(num1, \"-\", num2, \"=\", num1 - num2)\n",
        "\n",
        "        elif choice == '3':\n",
        "            print(num1, \"*\", num2, \"=\", num1 * num2)\n",
        "\n",
        "        elif choice == '4':\n",
        "            print(num1, \"/\", num2, \"=\", num1 / num2)\n",
        "        \n",
        "        next_calculation = input(\"next calculation? (yes/no): \")\n",
        "\n",
        "        if next_calculation == \"no\":\n",
        "          break\n",
        "    else:\n",
        "        print(\"Invalid Input\")"
      ],
      "metadata": {
        "colab": {
          "base_uri": "https://localhost:8080/"
        },
        "id": "65hbi4dbPK5a",
        "outputId": "1366b669-e457-4b24-91b2-92e030e5427e"
      },
      "execution_count": null,
      "outputs": [
        {
          "name": "stdout",
          "output_type": "stream",
          "text": [
            "Select operation.\n",
            "1.Add\n",
            "2.Subtract\n",
            "3.Multiply\n",
            "4.Divide\n",
            "Enter choice(1/2/3/4): 3\n",
            "Enter first number: 12\n",
            "Enter second number: 3\n",
            "12.0 * 3.0 = 36.0\n",
            "next calculation? (yes/no): yes\n",
            "Enter choice(1/2/3/4): 1\n",
            "Enter first number: 1\n",
            "Enter second number: 1\n",
            "1.0 + 1.0 = 2.0\n",
            "next calculation? (yes/no): no\n"
          ]
        }
      ]
    }
  ]
}