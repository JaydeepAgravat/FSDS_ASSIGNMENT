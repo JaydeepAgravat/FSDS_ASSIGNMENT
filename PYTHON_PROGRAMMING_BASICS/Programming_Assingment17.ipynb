{
  "nbformat": 4,
  "nbformat_minor": 0,
  "metadata": {
    "colab": {
      "provenance": [],
      "toc_visible": true
    },
    "kernelspec": {
      "name": "python3",
      "display_name": "Python 3"
    },
    "language_info": {
      "name": "python"
    }
  },
  "cells": [
    {
      "cell_type": "markdown",
      "source": [
        "# Programming Assingment 17"
      ],
      "metadata": {
        "id": "3htv1jl5iZYz"
      }
    },
    {
      "cell_type": "markdown",
      "source": [
        "## Question 1  "
      ],
      "metadata": {
        "id": "T1DF1B5Oi-SB"
      }
    },
    {
      "cell_type": "markdown",
      "source": [
        "```\n",
        "Create a function that takes three arguments a, b, c and returns the sum of the\n",
        "numbers that are evenly divided by c from the range a, b inclusive.\n",
        "\n",
        "Examples:\n",
        "\n",
        "evenly_divisible(1, 10, 20) ➞ 0\n",
        "No number between 1 and 10 can be evenly divided by 20.\n",
        "\n",
        "evenly_divisible(1, 10, 2) ➞ 30\n",
        "2 + 4 + 6 + 8 + 10 = 3\n",
        "\n",
        "evenly_divisible(1, 10, 3) ➞ 18\n",
        "3 + 6 + 9 = 18\n",
        "```"
      ],
      "metadata": {
        "id": "yQ2xk3Ybih4W"
      }
    },
    {
      "cell_type": "code",
      "source": [
        "def evenly_divisible(a, b, c):\n",
        "  sum = 0\n",
        "  for i in range(a, b+1):\n",
        "    if i%c == 0:\n",
        "      sum += i\n",
        "  print(f\"ANS : {sum}\")\n",
        "\n",
        "evenly_divisible(1, 10, 20) \n",
        "evenly_divisible(1, 10, 2) \n",
        "evenly_divisible(1, 10, 3) "
      ],
      "metadata": {
        "colab": {
          "base_uri": "https://localhost:8080/"
        },
        "id": "4VmYHoUUj1r3",
        "outputId": "7aee2f28-f1b2-440b-a34a-9ef4924968b0"
      },
      "execution_count": null,
      "outputs": [
        {
          "output_type": "stream",
          "name": "stdout",
          "text": [
            "ANS : 0\n",
            "ANS : 30\n",
            "ANS : 18\n"
          ]
        }
      ]
    },
    {
      "cell_type": "markdown",
      "source": [
        "## Question 2"
      ],
      "metadata": {
        "id": "cxwP4NFJjV-l"
      }
    },
    {
      "cell_type": "markdown",
      "source": [
        "```\n",
        "Create a function that returns True if a given inequality expression is correct and False otherwise.\n",
        "Examples:\n",
        "correct_signs(\"3 < 7 < 11\") ➞ True\n",
        "correct_signs(\"13 > 44 > 33 > 1\") ➞ False\n",
        "correct_signs(\"1 < 2 < 6 < 9 > 3\") ➞ True\n",
        "```"
      ],
      "metadata": {
        "id": "h9Bi7y8Cik-2"
      }
    },
    {
      "cell_type": "code",
      "source": [
        "def correct_signs(s):\n",
        "  is_correct = eval(s)\n",
        "  print(f\"{s} ➞ {is_correct}\")\n",
        "\n",
        "correct_signs(\"3 < 7 < 11\")\n",
        "correct_signs(\"13 > 44 > 33 > 1\")\n",
        "correct_signs(\"1 < 2 < 6 < 9 > 3\")"
      ],
      "metadata": {
        "colab": {
          "base_uri": "https://localhost:8080/"
        },
        "id": "UimOxUf7kU_1",
        "outputId": "3b47979a-5397-4453-c1cb-0eaa97930cfc"
      },
      "execution_count": null,
      "outputs": [
        {
          "output_type": "stream",
          "name": "stdout",
          "text": [
            "3 < 7 < 11 ➞ True\n",
            "13 > 44 > 33 > 1 ➞ False\n",
            "1 < 2 < 6 < 9 > 3 ➞ True\n"
          ]
        }
      ]
    },
    {
      "cell_type": "markdown",
      "source": [
        "## Question 3 "
      ],
      "metadata": {
        "id": "M8i2GDPpjaz4"
      }
    },
    {
      "cell_type": "markdown",
      "source": [
        "```\n",
        "Create a function that replaces all the vowels in a string with a specified character.\n",
        "Examples:\n",
        "replace_vowels(\"the aardvark\", \"#\") ➞ \"th# ##rdv#rk\"\n",
        "replace_vowels(\"minnie mouse\", \"?\") ➞ \"m?nn?? m??s?\"\n",
        "replace_vowels(\"shakespeare\", \"*\") ➞ \"shksp*r\"\n",
        "```"
      ],
      "metadata": {
        "id": "rTBEWHQXinR9"
      }
    },
    {
      "cell_type": "code",
      "source": [
        "def replace_vowels(words, key):\n",
        "  vowels = ['a','e','i','o','u']\n",
        "  tmp = words\n",
        "\n",
        "\n",
        "  for word in words:\n",
        "    if word in vowels:\n",
        "      words = words.replace(word,key)\n",
        "  \n",
        "  specified_words = words\n",
        "  words = tmp\n",
        "\n",
        "  print(f\"{words} ➞ {specified_words}\")\n",
        "\n",
        "\n",
        "replace_vowels(\"the aardvark\", \"#\")\n",
        "replace_vowels(\"minnie mouse\", \"?\")\n",
        "replace_vowels(\"shakespeare\", \"*\")"
      ],
      "metadata": {
        "colab": {
          "base_uri": "https://localhost:8080/"
        },
        "id": "Suq9jYGslWYb",
        "outputId": "2e422a27-3b4c-4af0-88c5-dd459da694d4"
      },
      "execution_count": null,
      "outputs": [
        {
          "output_type": "stream",
          "name": "stdout",
          "text": [
            "the aardvark ➞ th# ##rdv#rk\n",
            "minnie mouse ➞ m?nn?? m??s?\n",
            "shakespeare ➞ sh*k*sp**r*\n"
          ]
        }
      ]
    },
    {
      "cell_type": "markdown",
      "source": [
        "## Question 4 "
      ],
      "metadata": {
        "id": "816vbTFpi0PS"
      }
    },
    {
      "cell_type": "markdown",
      "source": [
        "```\n",
        "Write a function that calculates the factorial of a number recursively.\n",
        "Examples:\n",
        "\n",
        "factorial(5) ➞ 120\n",
        "factorial(3) ➞ 6\n",
        "factorial(1) ➞ 1\n",
        "factorial(0) ➞ 1\n",
        "```"
      ],
      "metadata": {
        "id": "dfkhhA6vieou"
      }
    },
    {
      "cell_type": "code",
      "execution_count": null,
      "metadata": {
        "colab": {
          "base_uri": "https://localhost:8080/"
        },
        "id": "xjjc4vEciWLC",
        "outputId": "8ac416c4-ea32-45fc-a764-02a5837c8fc0"
      },
      "outputs": [
        {
          "output_type": "stream",
          "name": "stdout",
          "text": [
            "120\n",
            "6\n",
            "1\n",
            "1\n"
          ]
        }
      ],
      "source": [
        "def factorial(n):\n",
        "  if n<=1:\n",
        "    return 1\n",
        "  return n*factorial(n-1)\n",
        "\n",
        "print(factorial(5))\n",
        "print(factorial(3))\n",
        "print(factorial(1))\n",
        "print(factorial(0))"
      ]
    },
    {
      "cell_type": "markdown",
      "source": [
        "## Question 5 "
      ],
      "metadata": {
        "id": "fIxlwH90jrGm"
      }
    },
    {
      "cell_type": "markdown",
      "source": [
        "```\n",
        "Hamming distance is the number of characters that differ between two strings. To illustrate: String1: \"abcbba\" String2: \"abcbda\"\n",
        "\n",
        "Hamming Distance: 1 - \"b\" vs. \"d\" is the only difference. Create a function that computes the hamming distance between two strings. \n",
        "Examples:\n",
        "\n",
        "hamming_distance(\"abcde\", \"bcdef\") ➞ 5\n",
        "hamming_distance(\"abcde\", \"abcde\") ➞ 0\n",
        "hamming_distance(\"strong\", \"strung\") ➞ 1\n",
        "```"
      ],
      "metadata": {
        "id": "Avnsx_6QipbW"
      }
    },
    {
      "cell_type": "code",
      "source": [
        "def hamming_distance(str1, str2):\n",
        "    min_length = min(len(str1),len(str2))\n",
        "    max_lentgh = max(len(str1),len(str2))\n",
        "    index = 0\n",
        "    distance = max_lentgh - min_length\n",
        "    while index < min_length:\n",
        "      if str1[index] != str2[index]:\n",
        "        distance += 1\n",
        "      index += 1\n",
        "\n",
        "    print(f\"{str1},{str2} ➞ {distance}\")\n",
        "\n",
        "hamming_distance(\"abcde\", \"bcdef\")\n",
        "hamming_distance(\"abcde\", \"abcde\")\n",
        "hamming_distance(\"strong\", \"strung\")"
      ],
      "metadata": {
        "colab": {
          "base_uri": "https://localhost:8080/"
        },
        "id": "oMwuqEfqipxl",
        "outputId": "583a2c09-1a86-40a9-ccf6-cbe09115750b"
      },
      "execution_count": null,
      "outputs": [
        {
          "output_type": "stream",
          "name": "stdout",
          "text": [
            "abcde,bcdef ➞ 5\n",
            "abcde,abcde ➞ 0\n",
            "strong,strung ➞ 1\n"
          ]
        }
      ]
    }
  ]
}