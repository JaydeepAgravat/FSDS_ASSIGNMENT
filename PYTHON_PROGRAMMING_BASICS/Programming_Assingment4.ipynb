{
  "nbformat": 4,
  "nbformat_minor": 0,
  "metadata": {
    "colab": {
      "provenance": [],
      "toc_visible": true
    },
    "kernelspec": {
      "name": "python3",
      "display_name": "Python 3"
    },
    "language_info": {
      "name": "python"
    }
  },
  "cells": [
    {
      "cell_type": "markdown",
      "source": [
        "# Programming Assingment 4"
      ],
      "metadata": {
        "id": "g8ai_67H-KF1"
      }
    },
    {
      "cell_type": "markdown",
      "source": [
        "## 1\\. Write a Python Program to Find the Factorial of a Number?"
      ],
      "metadata": {
        "id": "t-5a3FLNDDtw"
      }
    },
    {
      "cell_type": "code",
      "source": [
        "def factorial(num):\n",
        "\n",
        "  if num <= 1:\n",
        "    return 1\n",
        "  else:\n",
        "    return num * factorial(num-1)\n",
        "\n",
        "num = int(input(\"Enter a number : \"))\n",
        "\n",
        "fact = factorial(num)\n",
        "\n",
        "print(f\"Factorial is {fact}\")"
      ],
      "metadata": {
        "colab": {
          "base_uri": "https://localhost:8080/"
        },
        "id": "pYsIIOr5DbOB",
        "outputId": "af3c99fa-ce18-4267-9c41-d62b66df1aca"
      },
      "execution_count": null,
      "outputs": [
        {
          "output_type": "stream",
          "name": "stdout",
          "text": [
            "Enter a number : 5\n",
            "Factorial is 120\n"
          ]
        }
      ]
    },
    {
      "cell_type": "markdown",
      "source": [
        "## 2\\. Write a Python Program to Display the multiplication Table?"
      ],
      "metadata": {
        "id": "z6ND0c5yDHlH"
      }
    },
    {
      "cell_type": "code",
      "source": [
        "def multi_table(num):\n",
        "\n",
        "  for i in range(1,11):\n",
        "    print(f\"{num} * {i} = {num*i}\")\n",
        "\n",
        "\n",
        "num = int(input(\"Enter a number : \"))\n",
        "\n",
        "multi_table(num)"
      ],
      "metadata": {
        "colab": {
          "base_uri": "https://localhost:8080/"
        },
        "id": "bqvKgtchECa3",
        "outputId": "e660b60d-cded-4e19-e1e2-09c2f690c0b1"
      },
      "execution_count": null,
      "outputs": [
        {
          "output_type": "stream",
          "name": "stdout",
          "text": [
            "Enter a number : 5\n",
            "5 * 1 = 5\n",
            "5 * 2 = 10\n",
            "5 * 3 = 15\n",
            "5 * 4 = 20\n",
            "5 * 5 = 25\n",
            "5 * 6 = 30\n",
            "5 * 7 = 35\n",
            "5 * 8 = 40\n",
            "5 * 9 = 45\n",
            "5 * 10 = 50\n"
          ]
        }
      ]
    },
    {
      "cell_type": "markdown",
      "source": [
        "## 3\\. Write a Python Program to Print the Fibonacci sequence?"
      ],
      "metadata": {
        "id": "F30NLZbuDMIH"
      }
    },
    {
      "cell_type": "code",
      "source": [
        "def fib_seq(num):\n",
        "  first = 0\n",
        "  second = 1\n",
        "\n",
        "  if num >= 1:\n",
        "    print(first,end=' ')\n",
        "  \n",
        "  if num >= 2:\n",
        "    print(second,end=' ')\n",
        "  \n",
        "  if num >= 3:\n",
        "    while num != 2:\n",
        "      third = first + second\n",
        "      print(third,end=' ')\n",
        "\n",
        "      first = second\n",
        "      second = third\n",
        "      num -= 1\n",
        "\n",
        "num = int(input(\"How many terms : \"))\n",
        "\n",
        "fib_seq(num)"
      ],
      "metadata": {
        "colab": {
          "base_uri": "https://localhost:8080/"
        },
        "id": "4_q2QVmTEhzn",
        "outputId": "ffd7b8c9-47e4-44d9-8b65-652a1f81950a"
      },
      "execution_count": null,
      "outputs": [
        {
          "output_type": "stream",
          "name": "stdout",
          "text": [
            "How many terms : 6\n",
            "0 1 1 2 3 5 "
          ]
        }
      ]
    },
    {
      "cell_type": "markdown",
      "source": [
        "## 4\\. Write a Python Program to Check Armstrong Number?"
      ],
      "metadata": {
        "id": "aqX1HHtIDPv5"
      }
    },
    {
      "cell_type": "code",
      "source": [
        "def check_armstrong_number(num):\n",
        "\n",
        "  temp = num\n",
        "  sum = 0\n",
        "  while num > 0:\n",
        "    digit = num % 10\n",
        "    sum += digit ** 3\n",
        "    num //= 10\n",
        "  \n",
        "  if sum == temp:\n",
        "    print(\"Armstrong number\")\n",
        "  else:\n",
        "    print(\"Not a Armstrong number\")\n",
        "\n",
        "num = int(input(\"Enter a number : \"))\n",
        "\n",
        "check_armstrong_number(num)"
      ],
      "metadata": {
        "colab": {
          "base_uri": "https://localhost:8080/"
        },
        "id": "_jmc8ZjIGhaR",
        "outputId": "a5409fc7-27e7-46d4-b273-512cec81a378"
      },
      "execution_count": null,
      "outputs": [
        {
          "output_type": "stream",
          "name": "stdout",
          "text": [
            "Enter a number : 9999\n",
            "Not a Armstrong number\n"
          ]
        }
      ]
    },
    {
      "cell_type": "markdown",
      "source": [
        "## 5\\. Write a Python Program to Find Armstrong Number in an Interval?"
      ],
      "metadata": {
        "id": "xobT6QRiDTRH"
      }
    },
    {
      "cell_type": "code",
      "source": [
        "def armstrong_interval(n1, n2):\n",
        "\n",
        "  for i in range(n1, n2+1):\n",
        "    if is_armstrong(i):\n",
        "      print(i,end=' ')\n",
        "\n",
        "def is_armstrong(num):\n",
        "  temp = num\n",
        "  sum = 0\n",
        "  while num > 0:\n",
        "    digit = num % 10\n",
        "    sum += digit ** 3\n",
        "    num //= 10\n",
        "  \n",
        "  if sum == temp:\n",
        "    return True\n",
        "  else:\n",
        "    return False\n",
        "\n",
        "num1 = int(input(\"Enter a starting point : \"))\n",
        "num2 = int(input(\"Enter a ending point : \"))\n",
        "\n",
        "armstrong_interval(num1, num2)"
      ],
      "metadata": {
        "colab": {
          "base_uri": "https://localhost:8080/"
        },
        "id": "59PwPLYCH3i-",
        "outputId": "ca6397e0-c7c2-41e0-8d25-b32c3f537ad5"
      },
      "execution_count": null,
      "outputs": [
        {
          "output_type": "stream",
          "name": "stdout",
          "text": [
            "Enter a starting point : 1\n",
            "Enter a ending point : 1000\n",
            "1 153 370 371 407 "
          ]
        }
      ]
    },
    {
      "cell_type": "markdown",
      "source": [
        "## 6\\. Write a Python Program to Find the Sum of Natural Numbers?"
      ],
      "metadata": {
        "id": "pYwXVRAzDWGX"
      }
    },
    {
      "cell_type": "code",
      "execution_count": null,
      "metadata": {
        "colab": {
          "base_uri": "https://localhost:8080/"
        },
        "id": "CCD1Dx9D-Cgj",
        "outputId": "59000898-3fc3-448a-9a2e-21aee04bb192"
      },
      "outputs": [
        {
          "output_type": "stream",
          "name": "stdout",
          "text": [
            "Enter a number : 5\n",
            "sum of 5 is 15\n"
          ]
        }
      ],
      "source": [
        "def sum_natural(num):\n",
        "  sum = (num * (num + 1)) // 2\n",
        "  print(f\"sum of {num} is {sum}\")\n",
        "\n",
        "num = int(input(\"Enter a number : \"))\n",
        "sum_natural(num)"
      ]
    }
  ]
}