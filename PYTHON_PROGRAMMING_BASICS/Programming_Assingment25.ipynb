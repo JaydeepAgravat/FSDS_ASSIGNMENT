{
  "nbformat": 4,
  "nbformat_minor": 0,
  "metadata": {
    "colab": {
      "provenance": [],
      "toc_visible": true
    },
    "kernelspec": {
      "name": "python3",
      "display_name": "Python 3"
    },
    "language_info": {
      "name": "python"
    }
  },
  "cells": [
    {
      "cell_type": "markdown",
      "source": [
        "# Programming Assingment 25"
      ],
      "metadata": {
        "id": "MxuBDCX5ZRB8"
      }
    },
    {
      "cell_type": "markdown",
      "source": [
        "## Question 1 "
      ],
      "metadata": {
        "id": "Ma8qlpoAZwbU"
      }
    },
    {
      "cell_type": "markdown",
      "source": [
        "```\n",
        "Create a function that takes three integer arguments (a, b, c) and returns the amount of integers which are of equal value.\n",
        "\n",
        "Examples:\n",
        "equal(3, 4, 3) ➞ 2\n",
        "equal(1, 1, 1) ➞ 3\n",
        "equal(3, 4, 1) ➞ 0\n",
        "\n",
        "Notes Your function must return 0, 2 or 3.\n",
        "```"
      ],
      "metadata": {
        "id": "FrP2SwDOZeq6"
      }
    },
    {
      "cell_type": "code",
      "source": [
        "def equal(a, b, c):\n",
        "  if a==b and a==c:\n",
        "    return 3\n",
        "  elif a==b or a==c:\n",
        "    return 2\n",
        "  else:\n",
        "    return 0"
      ],
      "metadata": {
        "id": "Gj9Kf661asUH"
      },
      "execution_count": null,
      "outputs": []
    },
    {
      "cell_type": "code",
      "source": [
        "print(equal(3, 4, 3))\n",
        "print(equal(1, 1, 1))\n",
        "print(equal(3, 4, 1))"
      ],
      "metadata": {
        "colab": {
          "base_uri": "https://localhost:8080/"
        },
        "id": "A3xItQeqbcj5",
        "outputId": "07f01ad1-abbb-42c0-dd53-831fae849548"
      },
      "execution_count": null,
      "outputs": [
        {
          "output_type": "stream",
          "name": "stdout",
          "text": [
            "2\n",
            "3\n",
            "0\n"
          ]
        }
      ]
    },
    {
      "cell_type": "markdown",
      "source": [
        "## Question 2"
      ],
      "metadata": {
        "id": "QA-vCR7VZ6mK"
      }
    },
    {
      "cell_type": "markdown",
      "source": [
        "```\n",
        "Write a function that converts a dictionary into a list of keys-values tuples. \n",
        "\n",
        "Examples:\n",
        "\n",
        "dict_to_list({ \"D\": 1, \"B\": 2, \"C\": 3 }) ➞ [(\"B\", 2), (\"C\", 3), (\"D\", 1)]\n",
        "dict_to_list({ \"likes\": 2, \"dislikes\": 3, \"followers\": 10 }) ➞ [(\"dislikes\", 3), (\"followers\", 10), (\"likes\", 2)]\n",
        "\n",
        "Notes Return the elements in the list in alphabetical order.\n",
        "```"
      ],
      "metadata": {
        "id": "x8Xb30eZZg30"
      }
    },
    {
      "cell_type": "code",
      "source": [
        "def dict_to_list(dictionary):\n",
        "  lst = list(dictionary.items())\n",
        "  s_lst = sorted(dictionary.items(), key=lambda k:(k[0],k[1]))\n",
        "  return s_lst"
      ],
      "metadata": {
        "id": "9YYz2XU4b6vw"
      },
      "execution_count": null,
      "outputs": []
    },
    {
      "cell_type": "code",
      "source": [
        "print(dict_to_list({ \"D\": 1, \"B\": 2, \"C\": 3 }))\n",
        "print(dict_to_list({ \"likes\": 2, \"dislikes\": 3, \"followers\": 10 }))"
      ],
      "metadata": {
        "colab": {
          "base_uri": "https://localhost:8080/"
        },
        "id": "ynWIqPwtcGHF",
        "outputId": "e2d1df05-8f60-474e-f088-e82919be85c1"
      },
      "execution_count": null,
      "outputs": [
        {
          "output_type": "stream",
          "name": "stdout",
          "text": [
            "[('B', 2), ('C', 3), ('D', 1)]\n",
            "[('dislikes', 3), ('followers', 10), ('likes', 2)]\n"
          ]
        }
      ]
    },
    {
      "cell_type": "markdown",
      "source": [
        "## Question 3 "
      ],
      "metadata": {
        "id": "6sFY7a5TZ9Zy"
      }
    },
    {
      "cell_type": "markdown",
      "source": [
        "```\n",
        "Write a function that creates a dictionary with each (key, value) pair being the (lower case, upper case) versions of a letter, respectively.\n",
        "\n",
        "Examples:\n",
        "mapping([\"p\", \"s\"]) ➞ { \"p\": \"P\", \"s\": \"S\" }\n",
        "mapping([\"a\", \"b\", \"c\"]) ➞ { \"a\": \"A\", \"b\": \"B\", \"c\": \"C\" }\n",
        "mapping([\"a\", \"v\", \"y\", \"z\"]) ➞ { \"a\": \"A\", \"v\": \"V\", \"y\": \"Y\", \"z\": \"Z\" }\n",
        "Notes All of the letters in the input list will always be lowercase.\n",
        "```"
      ],
      "metadata": {
        "id": "gnDnn6jxZj1b"
      }
    },
    {
      "cell_type": "code",
      "source": [
        "def mapping(items):\n",
        "  ans = {}\n",
        "\n",
        "  for item in items:\n",
        "    ans[item.lower()] = item.upper()\n",
        "  \n",
        "  return ans"
      ],
      "metadata": {
        "id": "mNo9yde_ei-m"
      },
      "execution_count": null,
      "outputs": []
    },
    {
      "cell_type": "code",
      "source": [
        "print(mapping([\"p\", \"s\"]))\n",
        "print(mapping([\"a\", \"b\", \"c\"]))\n",
        "print(mapping([\"a\", \"v\", \"y\", \"z\"]))"
      ],
      "metadata": {
        "colab": {
          "base_uri": "https://localhost:8080/"
        },
        "id": "s_UViKS4ecWn",
        "outputId": "1f5b6bf2-4b40-445f-d943-063a2c059f92"
      },
      "execution_count": null,
      "outputs": [
        {
          "output_type": "stream",
          "name": "stdout",
          "text": [
            "{'p': 'P', 's': 'S'}\n",
            "{'a': 'A', 'b': 'B', 'c': 'C'}\n",
            "{'a': 'A', 'v': 'V', 'y': 'Y', 'z': 'Z'}\n"
          ]
        }
      ]
    },
    {
      "cell_type": "markdown",
      "source": [
        "## Question 4 "
      ],
      "metadata": {
        "id": "ryGGgxYzaSS6"
      }
    },
    {
      "cell_type": "markdown",
      "source": [
        "```\n",
        "Write a function, that replaces all vowels in a string with a specified vowel.\n",
        "\n",
        "Examples:\n",
        "vow_replace(\"apples and bananas\", \"u\") ➞ \"upplus und bununus\"\n",
        "vow_replace(\"cheese casserole\", \"o\") ➞ \"chooso cossorolo\"\n",
        "vow_replace(\"stuffed jalapeno poppers\", \"e\") ➞ \"steffed jelepene peppers\"\n",
        "\n",
        "Notes All words will be lowercase. Y is not considered a vowel.\n",
        "```"
      ],
      "metadata": {
        "id": "b7GoViqFZmYR"
      }
    },
    {
      "cell_type": "code",
      "source": [
        "def vow_replace(letters, key):\n",
        "  vowels = ['a','e','i','o','u']\n",
        "\n",
        "  for letter in letters:\n",
        "    if letter in vowels:\n",
        "      letters = letters.replace(letter, key)\n",
        "  \n",
        "  return letters"
      ],
      "metadata": {
        "id": "5_lZb-cLfGT6"
      },
      "execution_count": null,
      "outputs": []
    },
    {
      "cell_type": "code",
      "source": [
        "print(vow_replace(\"apples and bananas\", \"u\"))\n",
        "print(vow_replace(\"cheese casserole\", \"o\"))\n",
        "print(vow_replace(\"stuffed jalapeno poppers\", \"e\"))"
      ],
      "metadata": {
        "colab": {
          "base_uri": "https://localhost:8080/"
        },
        "id": "HHO2gUmEfveX",
        "outputId": "61511e29-309d-40e5-ceef-7d179c003a5c"
      },
      "execution_count": null,
      "outputs": [
        {
          "output_type": "stream",
          "name": "stdout",
          "text": [
            "upplus und bununus\n",
            "chooso cossorolo\n",
            "steffed jelepene peppers\n"
          ]
        }
      ]
    },
    {
      "cell_type": "markdown",
      "source": [
        "## Question 5 "
      ],
      "metadata": {
        "id": "txbNeEz9afRp"
      }
    },
    {
      "cell_type": "markdown",
      "source": [
        "```\n",
        "Create a function that takes a string as input and capitalizes a letter if its ASCII code is even and \n",
        "returns its lower case version if its ASCII code is odd. \n",
        "\n",
        "Examples:\n",
        "\n",
        "ascii_capitalize(\"to be or not to be!\") ➞ \"To Be oR NoT To Be!\"\n",
        "ascii_capitalize(\"THE LITTLE MERMAID\") ➞ \"THe LiTTLe meRmaiD\"\n",
        "ascii_capitalize(\"Oh what a beautiful morning.\") ➞ \"oH wHaT a BeauTiFuL moRNiNg.\"\n",
        "```"
      ],
      "metadata": {
        "id": "S2sSR03VZn9a"
      }
    },
    {
      "cell_type": "code",
      "execution_count": null,
      "metadata": {
        "id": "SRI73K3QSf0h"
      },
      "outputs": [],
      "source": [
        "def ascii_capitalize(letters):\n",
        "  for letter in letters:\n",
        "    if ord(letter)%2==0:\n",
        "      letters = letters.replace(letter, letter.upper())\n",
        "    else:\n",
        "      letters = letters.replace(letter, letter.lower())\n",
        "  return letters"
      ]
    },
    {
      "cell_type": "code",
      "source": [
        "print(ascii_capitalize(\"to be or not to be!\"))\n",
        "print(ascii_capitalize(\"THE LITTLE MERMAID\"))\n",
        "print(ascii_capitalize(\"Oh what a beautiful morning.\"))"
      ],
      "metadata": {
        "colab": {
          "base_uri": "https://localhost:8080/"
        },
        "id": "IfLXroxEZU2r",
        "outputId": "d017d3d2-82ec-4186-d453-f04788e0b0a2"
      },
      "execution_count": null,
      "outputs": [
        {
          "output_type": "stream",
          "name": "stdout",
          "text": [
            "To Be oR NoT To Be!\n",
            "THe LiTTLe meRmaiD\n",
            "oH wHaT a BeauTiFuL moRNiNg.\n"
          ]
        }
      ]
    }
  ]
}